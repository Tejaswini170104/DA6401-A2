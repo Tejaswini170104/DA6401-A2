{
  "nbformat": 4,
  "nbformat_minor": 0,
  "metadata": {
    "colab": {
      "provenance": [],
      "gpuType": "T4",
      "authorship_tag": "ABX9TyPG5uncCpOIQskpx4YMDxca",
      "include_colab_link": true
    },
    "kernelspec": {
      "name": "python3",
      "display_name": "Python 3"
    },
    "language_info": {
      "name": "python"
    },
    "accelerator": "GPU"
  },
  "cells": [
    {
      "cell_type": "markdown",
      "metadata": {
        "id": "view-in-github",
        "colab_type": "text"
      },
      "source": [
        "<a href=\"https://colab.research.google.com/github/Tejaswini170104/DA6401-A2/blob/main/PartA.ipynb\" target=\"_parent\"><img src=\"https://colab.research.google.com/assets/colab-badge.svg\" alt=\"Open In Colab\"/></a>"
      ]
    },
    {
      "cell_type": "markdown",
      "source": [
        "Question 01"
      ],
      "metadata": {
        "id": "n_4RoqtAYpzp"
      }
    },
    {
      "cell_type": "code",
      "execution_count": 5,
      "metadata": {
        "colab": {
          "base_uri": "https://localhost:8080/"
        },
        "id": "2v5oNnXKVcUu",
        "outputId": "7f543aeb-acff-4fce-88ba-e22ed3cd6bd2"
      },
      "outputs": [
        {
          "output_type": "stream",
          "name": "stdout",
          "text": [
            "FlexibleCNN(\n",
            "  (conv_layers): Sequential(\n",
            "    (0): Conv2d(3, 32, kernel_size=(3, 3), stride=(1, 1), padding=(1, 1))\n",
            "    (1): BatchNorm2d(32, eps=1e-05, momentum=0.1, affine=True, track_running_stats=True)\n",
            "    (2): ReLU()\n",
            "    (3): MaxPool2d(kernel_size=2, stride=2, padding=0, dilation=1, ceil_mode=False)\n",
            "    (4): Conv2d(32, 64, kernel_size=(3, 3), stride=(1, 1), padding=(1, 1))\n",
            "    (5): BatchNorm2d(64, eps=1e-05, momentum=0.1, affine=True, track_running_stats=True)\n",
            "    (6): ReLU()\n",
            "    (7): MaxPool2d(kernel_size=2, stride=2, padding=0, dilation=1, ceil_mode=False)\n",
            "    (8): Conv2d(64, 128, kernel_size=(3, 3), stride=(1, 1), padding=(1, 1))\n",
            "    (9): BatchNorm2d(128, eps=1e-05, momentum=0.1, affine=True, track_running_stats=True)\n",
            "    (10): ReLU()\n",
            "    (11): MaxPool2d(kernel_size=2, stride=2, padding=0, dilation=1, ceil_mode=False)\n",
            "    (12): Conv2d(128, 256, kernel_size=(3, 3), stride=(1, 1), padding=(1, 1))\n",
            "    (13): BatchNorm2d(256, eps=1e-05, momentum=0.1, affine=True, track_running_stats=True)\n",
            "    (14): ReLU()\n",
            "    (15): MaxPool2d(kernel_size=2, stride=2, padding=0, dilation=1, ceil_mode=False)\n",
            "    (16): Conv2d(256, 512, kernel_size=(3, 3), stride=(1, 1), padding=(1, 1))\n",
            "    (17): BatchNorm2d(512, eps=1e-05, momentum=0.1, affine=True, track_running_stats=True)\n",
            "    (18): ReLU()\n",
            "    (19): MaxPool2d(kernel_size=2, stride=2, padding=0, dilation=1, ceil_mode=False)\n",
            "  )\n",
            "  (fc1): Linear(in_features=25088, out_features=256, bias=True)\n",
            "  (fc2): Linear(in_features=256, out_features=10, bias=True)\n",
            ")\n",
            "Total Parameters: 7993930\n",
            "Total Computations: 242049024\n"
          ]
        }
      ],
      "source": [
        "import torch\n",
        "import torch.nn as nn\n",
        "import torch.nn.functional as F\n",
        "import pytorch_lightning as pl\n",
        "import torchvision.transforms as transforms\n",
        "\n",
        "class FlexibleCNN(pl.LightningModule):\n",
        "    def __init__(self, input_channels=3, num_classes=10, conv_filters=[32, 64, 128, 256, 512],\n",
        "                 kernel_size=3, activation=F.relu, dense_neurons=256, input_size=224):\n",
        "        super(FlexibleCNN, self).__init__()\n",
        "\n",
        "        self.activation = activation\n",
        "        layers = []\n",
        "        in_channels = input_channels\n",
        "\n",
        "        # Adding 5 convolutional blocks\n",
        "        for out_channels in conv_filters:\n",
        "            layers.append(nn.Conv2d(in_channels, out_channels, kernel_size, padding=1))\n",
        "            layers.append(nn.BatchNorm2d(out_channels))\n",
        "            layers.append(nn.ReLU())\n",
        "            layers.append(nn.MaxPool2d(2, 2))\n",
        "            in_channels = out_channels\n",
        "\n",
        "        self.conv_layers = nn.Sequential(*layers)\n",
        "\n",
        "        # Compute final feature map size after 5 max-pool layers\n",
        "        final_size = input_size // (2 ** len(conv_filters))\n",
        "\n",
        "        # Fully connected layers\n",
        "        self.fc1 = nn.Linear(conv_filters[-1] * final_size * final_size, dense_neurons)\n",
        "        self.fc2 = nn.Linear(dense_neurons, num_classes)\n",
        "\n",
        "        # Compute parameters and computations\n",
        "        self.total_parameters = self.compute_parameters(conv_filters, kernel_size, dense_neurons, num_classes)\n",
        "        self.total_computations = self.compute_computations(conv_filters, kernel_size, input_size)\n",
        "\n",
        "        # Define preprocessing transform for iNaturalist dataset\n",
        "        self.transform = transforms.Compose([\n",
        "            transforms.Resize((input_size, input_size)),\n",
        "            transforms.ToTensor(),\n",
        "            transforms.Normalize(mean=[0.485, 0.456, 0.406], std=[0.229, 0.224, 0.225])\n",
        "        ])\n",
        "\n",
        "    def forward(self, x):\n",
        "        x = self.conv_layers(x)\n",
        "        x = torch.flatten(x, start_dim=1)\n",
        "        x = self.activation(self.fc1(x))\n",
        "        x = self.fc2(x)\n",
        "        return x\n",
        "\n",
        "    def compute_parameters(self, conv_filters, kernel_size, dense_neurons, num_classes):\n",
        "        total_params = 0\n",
        "        in_channels = 3  # Input image channels\n",
        "\n",
        "        # Compute parameters for convolution layers\n",
        "        for out_channels in conv_filters:\n",
        "            total_params += (in_channels * kernel_size * kernel_size + 1) * out_channels\n",
        "            in_channels = out_channels\n",
        "\n",
        "        # Compute parameters for fully connected layers\n",
        "        total_params += (conv_filters[-1] * (224 // (2**5)) * (224 // (2**5))) * dense_neurons + dense_neurons\n",
        "        total_params += dense_neurons * num_classes + num_classes\n",
        "\n",
        "        return total_params\n",
        "\n",
        "    def compute_computations(self, conv_filters, kernel_size, input_size):\n",
        "        total_computations = 0\n",
        "        in_channels = 3  # Input image channels\n",
        "        feature_map_size = input_size\n",
        "\n",
        "        # Compute computations for convolution layers\n",
        "        for out_channels in conv_filters:\n",
        "            feature_map_size //= 2  # Max-pooling reduces size by half\n",
        "            total_computations += out_channels * feature_map_size * feature_map_size * (in_channels * kernel_size * kernel_size)\n",
        "            in_channels = out_channels\n",
        "\n",
        "        return total_computations\n",
        "\n",
        "# Example usage:\n",
        "model = FlexibleCNN(input_channels=3, num_classes=10, conv_filters=[32, 64, 128, 256, 512],\n",
        "                    kernel_size=3, activation=F.relu, dense_neurons=256, input_size=224)\n",
        "print(model)\n",
        "print(f\"Total Parameters: {model.total_parameters}\")\n",
        "print(f\"Total Computations: {model.total_computations}\")"
      ]
    },
    {
      "cell_type": "markdown",
      "source": [
        "Question 02"
      ],
      "metadata": {
        "id": "UNmLdY9hYweA"
      }
    },
    {
      "cell_type": "code",
      "source": [],
      "metadata": {
        "id": "fcFvuynnYpOI"
      },
      "execution_count": null,
      "outputs": []
    }
  ]
}