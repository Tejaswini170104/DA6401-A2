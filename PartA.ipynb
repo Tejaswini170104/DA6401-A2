{
 "cells": [
  {
   "cell_type": "markdown",
   "metadata": {
    "id": "n_4RoqtAYpzp"
   },
   "source": [
    "Question 01"
   ]
  },
  {
   "cell_type": "code",
   "execution_count": null,
   "metadata": {
    "colab": {
     "base_uri": "https://localhost:8080/"
    },
    "id": "fcFvuynnYpOI",
    "outputId": "98c4e85a-2b93-4c1f-dc7c-abf9be3b6f98"
   },
   "outputs": [
    {
     "name": "stdout",
     "output_type": "stream",
     "text": [
      "Mounted at /content/drive\n",
      "Mean: [0.47122955322265625, 0.46000856161117554, 0.3896463215351105]\n",
      "Std: [0.24068380892276764, 0.23018933832645416, 0.2406243085861206]\n"
     ]
    }
   ],
   "source": [
    "from torchvision import datasets, transforms\n",
    "from torch.utils.data import DataLoader\n",
    "import torch\n",
    "import os\n",
    "from google.colab import drive\n",
    "\n",
    "drive.mount('/content/drive', force_remount=True)\n",
    "\n",
    "# Extract dataset\n",
    "zip_path = \"/content/drive/MyDrive/nature_12K.zip\"\n",
    "data_dir = \"/content/inaturalist_12K\"\n",
    "if not os.path.exists(data_dir):\n",
    "    !cp \"{zip_path}\" .\n",
    "    !unzip -q nature_12K.zip\n",
    "    !rm nature_12K.zip\n",
    "\n",
    "# Function to compute dataset mean & std\n",
    "def compute_mean_std(data_dir, input_size=224):\n",
    "    transform = transforms.Compose([\n",
    "        transforms.Resize((input_size, input_size)),\n",
    "        transforms.ToTensor()\n",
    "    ])\n",
    "    dataset = datasets.ImageFolder(root=data_dir, transform=transform)\n",
    "    loader = DataLoader(dataset, batch_size=64, shuffle=False, num_workers=0)  # Colab: num_workers=0\n",
    "\n",
    "    sum_rgb = torch.zeros(3)\n",
    "    sum_sq_rgb = torch.zeros(3)\n",
    "    total_pixels = 0\n",
    "\n",
    "    for images, _ in loader:\n",
    "        batch_samples = images.size(0)\n",
    "        pixels_per_image = images.size(2) * images.size(3)\n",
    "        total_pixels += batch_samples * pixels_per_image\n",
    "\n",
    "        sum_rgb += images.sum(dim=[0, 2, 3])\n",
    "        sum_sq_rgb += (images ** 2).sum(dim=[0, 2, 3])\n",
    "\n",
    "    mean = sum_rgb / total_pixels\n",
    "    std = torch.sqrt((sum_sq_rgb / total_pixels) - (mean ** 2))\n",
    "\n",
    "    return mean.tolist(), std.tolist()\n",
    "\n",
    "# Compute and print\n",
    "data_dir_train = os.path.join(data_dir, \"train\")\n",
    "inat_mean, inat_std = compute_mean_std(data_dir_train)\n",
    "print(f\"Mean: {inat_mean}\")\n",
    "print(f\"Std: {inat_std}\")"
   ]
  },
  {
   "cell_type": "code",
   "execution_count": null,
   "metadata": {
    "colab": {
     "base_uri": "https://localhost:8080/"
    },
    "id": "2v5oNnXKVcUu",
    "outputId": "7f543aeb-acff-4fce-88ba-e22ed3cd6bd2"
   },
   "outputs": [
    {
     "name": "stdout",
     "output_type": "stream",
     "text": [
      "FlexibleCNN(\n",
      "  (conv_layers): Sequential(\n",
      "    (0): Conv2d(3, 32, kernel_size=(3, 3), stride=(1, 1), padding=(1, 1))\n",
      "    (1): BatchNorm2d(32, eps=1e-05, momentum=0.1, affine=True, track_running_stats=True)\n",
      "    (2): ReLU()\n",
      "    (3): MaxPool2d(kernel_size=2, stride=2, padding=0, dilation=1, ceil_mode=False)\n",
      "    (4): Conv2d(32, 64, kernel_size=(3, 3), stride=(1, 1), padding=(1, 1))\n",
      "    (5): BatchNorm2d(64, eps=1e-05, momentum=0.1, affine=True, track_running_stats=True)\n",
      "    (6): ReLU()\n",
      "    (7): MaxPool2d(kernel_size=2, stride=2, padding=0, dilation=1, ceil_mode=False)\n",
      "    (8): Conv2d(64, 128, kernel_size=(3, 3), stride=(1, 1), padding=(1, 1))\n",
      "    (9): BatchNorm2d(128, eps=1e-05, momentum=0.1, affine=True, track_running_stats=True)\n",
      "    (10): ReLU()\n",
      "    (11): MaxPool2d(kernel_size=2, stride=2, padding=0, dilation=1, ceil_mode=False)\n",
      "    (12): Conv2d(128, 256, kernel_size=(3, 3), stride=(1, 1), padding=(1, 1))\n",
      "    (13): BatchNorm2d(256, eps=1e-05, momentum=0.1, affine=True, track_running_stats=True)\n",
      "    (14): ReLU()\n",
      "    (15): MaxPool2d(kernel_size=2, stride=2, padding=0, dilation=1, ceil_mode=False)\n",
      "    (16): Conv2d(256, 512, kernel_size=(3, 3), stride=(1, 1), padding=(1, 1))\n",
      "    (17): BatchNorm2d(512, eps=1e-05, momentum=0.1, affine=True, track_running_stats=True)\n",
      "    (18): ReLU()\n",
      "    (19): MaxPool2d(kernel_size=2, stride=2, padding=0, dilation=1, ceil_mode=False)\n",
      "  )\n",
      "  (fc1): Linear(in_features=25088, out_features=256, bias=True)\n",
      "  (fc2): Linear(in_features=256, out_features=10, bias=True)\n",
      ")\n",
      "Total Parameters: 7993930\n",
      "Total Computations: 242049024\n"
     ]
    }
   ],
   "source": [
    "import torch\n",
    "import torch.nn as nn\n",
    "import torch.nn.functional as F\n",
    "import pytorch_lightning as pl\n",
    "import torchvision.transforms as transforms\n",
    "\n",
    "class FlexibleCNN(pl.LightningModule):\n",
    "    def __init__(self, input_channels=3, num_classes=10, conv_filters=[32, 64, 128, 256, 512],\n",
    "                 kernel_size=3, activation=F.relu, dense_neurons=256, input_size=224):\n",
    "        super(FlexibleCNN, self).__init__()\n",
    "\n",
    "        self.activation = activation\n",
    "        layers = []\n",
    "        in_channels = input_channels\n",
    "\n",
    "        # Adding 5 convolutional blocks\n",
    "        for out_channels in conv_filters:\n",
    "            layers.append(nn.Conv2d(in_channels, out_channels, kernel_size, padding=1))\n",
    "            layers.append(nn.BatchNorm2d(out_channels))\n",
    "            layers.append(nn.ReLU())\n",
    "            layers.append(nn.MaxPool2d(2, 2))\n",
    "            in_channels = out_channels\n",
    "\n",
    "        self.conv_layers = nn.Sequential(*layers)\n",
    "\n",
    "        # Compute final feature map size after 5 max-pool layers\n",
    "        final_size = input_size // (2 ** len(conv_filters))\n",
    "\n",
    "        # Fully connected layers\n",
    "        self.fc1 = nn.Linear(conv_filters[-1] * final_size * final_size, dense_neurons)\n",
    "        self.fc2 = nn.Linear(dense_neurons, num_classes)\n",
    "\n",
    "        # Compute parameters and computations\n",
    "        self.total_parameters = self.compute_parameters(conv_filters, kernel_size, dense_neurons, num_classes)\n",
    "        self.total_computations = self.compute_computations(conv_filters, kernel_size, input_size)\n",
    "\n",
    "        # Define preprocessing transform for iNaturalist dataset\n",
    "        self.transform = transforms.Compose([\n",
    "            transforms.Resize((input_size, input_size)),\n",
    "            transforms.ToTensor(),\n",
    "            transforms.Normalize(mean=[0.47122955322265625, 0.46000856161117554, 0.3896463215351105],\n",
    "                                 std=[0.24068380892276764, 0.23018933832645416, 0.2406243085861206])\n",
    "        ])\n",
    "\n",
    "    def forward(self, x):\n",
    "        x = self.conv_layers(x)\n",
    "        x = torch.flatten(x, start_dim=1)\n",
    "        x = self.activation(self.fc1(x))\n",
    "        x = self.fc2(x)\n",
    "        return x\n",
    "\n",
    "    def compute_parameters(self, conv_filters, kernel_size, dense_neurons, num_classes):\n",
    "        total_params = 0\n",
    "        in_channels = 3  # Input image channels\n",
    "\n",
    "        # Compute parameters for convolution layers\n",
    "        for out_channels in conv_filters:\n",
    "            total_params += (in_channels * kernel_size * kernel_size + 1) * out_channels\n",
    "            in_channels = out_channels\n",
    "\n",
    "        # Compute parameters for fully connected layers\n",
    "        total_params += (conv_filters[-1] * (224 // (2**5)) * (224 // (2**5))) * dense_neurons + dense_neurons\n",
    "        total_params += dense_neurons * num_classes + num_classes\n",
    "\n",
    "        return total_params\n",
    "\n",
    "    def compute_computations(self, conv_filters, kernel_size, input_size):\n",
    "        total_computations = 0\n",
    "        in_channels = 3  # Input image channels\n",
    "        feature_map_size = input_size\n",
    "\n",
    "        # Compute computations for convolution layers\n",
    "        for out_channels in conv_filters:\n",
    "            feature_map_size //= 2  # Max-pooling reduces size by half\n",
    "            total_computations += out_channels * feature_map_size * feature_map_size * (in_channels * kernel_size * kernel_size)\n",
    "            in_channels = out_channels\n",
    "\n",
    "        return total_computations\n",
    "\n",
    "# Example usage:\n",
    "model = FlexibleCNN(input_channels=3, num_classes=10, conv_filters=[32, 64, 128, 256, 512],\n",
    "                    kernel_size=3, activation=F.relu, dense_neurons=256, input_size=224)\n",
    "print(model)\n",
    "print(f\"Total Parameters: {model.total_parameters}\")\n",
    "print(f\"Total Computations: {model.total_computations}\")"
   ]
  },
  {
   "cell_type": "markdown",
   "metadata": {
    "id": "UNmLdY9hYweA"
   },
   "source": [
    "Question 02"
   ]
  },
  {
   "cell_type": "code",
   "execution_count": null,
   "metadata": {
    "colab": {
     "base_uri": "https://localhost:8080/",
     "height": 1000,
     "referenced_widgets": [
      "d093549093fc401593e48f555fe33479",
      "efb41d6612c3471783053ed59553acca",
      "f05a2e88817b474cbe79dfc36f68d672",
      "4776cdf8a0d7419e8e5ddf2edca68c48",
      "3dd72d68450c4461901b5982e3e7efbf",
      "ec49d666643247c0aae87df551d454fe",
      "25bfdb1c402c4298bb3552bd172f9c9a",
      "1e2d4dbed9e84b0ab87ef382f1d07d08",
      "654309866500458289f82b68f5edec4b",
      "6d99c10d28944f238f88cc79a10f3990",
      "bd31d1cc247c4947b90bf9b6e0c412af",
      "6ea8d5aabb5f4076bd057aae2f1e4875",
      "c8ed35ebdd7d4c6db2e97bb2c9303b97",
      "f715fe9274824723925a7f50cada6cfd",
      "6104f7c66f044a7d8f3baa9ca2992a2f",
      "50085f8d056e4b83a9d2323c890001c7",
      "4b2328d18b114523b86651f743b1b540",
      "211219cecd96426dbe23e9dff9fbeb1c",
      "eaccce34a653485c9e01dabcadf3ab77",
      "b7eedb9a35f94f13b3cc1c133d6104b7",
      "18885e90201b45b89b3dd1777077ddbc",
      "b4a28e5e6e534cc2838e26b31a548ccb",
      "579c91cbedd54fecb2bb09c8cfaf99a8",
      "52559d1f547f4b939c3e3c5dfcb2f41e",
      "ab26cfdd2fb540aaa145fd418c547d74",
      "daa1756ed997475aaf8a4886d8699320",
      "1e133a6a3b734f7f86c1fd9a7b54623a",
      "8c10f1d7b5a642ec807ba1bdeb309547",
      "54d0d250a83d4eb1ab160ba363588d99",
      "4f085c7c6d3848ab87d6b29101f7b548",
      "29a2379f718146babcc5b2be6823cd4c",
      "5fb3e0404e2640a481c396ebb883cc1a",
      "ae2850163a084879bbbc0f54dcb9987e",
      "3c8d6defb91e422fb87a3c7c71faba46",
      "ce5607171ca04450af5bf52730cadea7",
      "b6907c56156940b9badc2e16d971315f",
      "d591b1ecc7e9475e8b87254739e6174b",
      "72c963b8bbed4945bf12afc209599394",
      "9c501dd2a43741c58ed484e5ced31d00",
      "3720ae0fe08c4c84b42b200d8ce1fb72",
      "3dbab3860f004cc496458ab86db5d574",
      "4910b127d0ca49d58bd6fa8affa3c202",
      "3998c634625740d4983d28a3f6275097",
      "744014a1a6eb4711b70c56a947f6fb77",
      "f5ccde406001463ba408ca1b988bfd6c",
      "5f6af3177685468a9f1d6e52e282dddf",
      "1a35ed1210224d879b16bd5528a50fd1",
      "0e30c60e05a247a597767b4c9f3a4ace",
      "3ce98de922f744b58ac64ceb84b14bc9",
      "43d940f2b1b740149e79decf4a1089b3",
      "34df1aceda6948c39a9b6842b27036a5",
      "f280d81f154f4be5a5994185979a628c",
      "2439614fd64147429aa69e20766e4597",
      "f744acda36b945e087df3800797baa89",
      "300d86877af54decb5852d63c879f69d",
      "bc61d91c707245b9a9bc031b4675d1d8",
      "a95865179876408a9130a8131bcb9bd7",
      "3f2de9d6bf1c44aeb469a655c849cc1f",
      "30376b148bf0462682ba2070fef9b158",
      "ae58fed53d704fcb9030dd0c404644f3",
      "48abe6e73b52444d966ca37bbab310cd",
      "52154b0ede7f4d28b53fa7acde99a6e7",
      "27df67bfe9454cb1a4d1f09ac3ccf6bc",
      "06589dcad13c4e2e8e1fda7fdbebd205",
      "dcc27eb4e7bc42a88b837630b2f71a7a",
      "9072c15200f94a58906d1bf9f6726532",
      "33f4e0fbf9874bdfab21a106a68ed40f",
      "8817a28642014eb1bb34697c0a18e442",
      "c48b894d11684596a6403f04e46cb6df",
      "c92ff8ef63f44b38838ff3fc56fad207",
      "d3248806b27748e98929ca5d9b1e26b0",
      "abc4e886042049d5b8752d1d495ae189",
      "289cb8346e2a49b7a562d776e7cf1365",
      "49a4cdbaa7234e8596af0d2de2a6aafb",
      "b122199958e04696a22cb03f1039dda9",
      "439ad4078c2540d78507b8e1576b8d42",
      "b5ddee56f0094d34b492197515e45189",
      "cf71c0b0f4204fcd9bdd84bb41d75625",
      "8c399506d871432c979800809c5dc67d",
      "99ee2db67494412ab238669acf66093a",
      "8c7b22635c5849fbb5d25ba6c374a9d4",
      "36bf9b32b6834b51addfabd177436886",
      "e5fe0fe1dd8e4b42b48f109604fb5783",
      "3d7f2050e7b6423ba3ddf1ced706392a",
      "520362a7263b4cceb5a4593af28b245d",
      "307a6156d185490aa11f4a7afffe089d",
      "5b200395523b4bfb812123ec4fd2c685",
      "931784efe4024217ae245747a4632d53",
      "1573a0992768462fbd05b273a7837254",
      "012869ea17e540f888480583ed20b749",
      "10408e8247ab4c8fbace6155ea2fc31c",
      "e4f10fc1604c48e69ce65f9ff128cc6a",
      "a473ce820cd34c3aab126ca94426e5da",
      "8c88f97577214482a3d6009a359b8259",
      "fcba80d95a1c45bca925d2159c532e32",
      "4ba0a88e275b46bfb7e3e7d74382f48a",
      "45736d8597fc4344ba85d0424b19dc8d",
      "3edc513445474c35a8488f7b17be2588",
      "b829092d33a4431db22731e31966b8b8",
      "a1a331084b794805b0450f46f303bc68",
      "592a2ba983d546749881daba48c6f6f2",
      "e2bd2d51ad4841c6acd3edba08307efe",
      "9819008db51943c09636abeb4ce7c344",
      "3d20c1dd92d046afa767824bae7b634b",
      "70c424ffb3424839be7299b0d5c59ef4",
      "aea9dc3c3c0e4637898514609e1ccabd",
      "14f1644e67f849b3b931d87f715176ab",
      "aff291edd5f74d8d9acabb6224b99d24",
      "3f7049ce67a64ce7a5317996865cd664",
      "fd50309692c0424b888fb4a923a49f3e",
      "38cbd4a04a164acf8e561f222af11543",
      "fa87e2c602a1435f9028112b4c6dfcab",
      "b2689119907d436eb578904138e98046",
      "a8ffb257e6f94c5eaf59c8cf7d500f19",
      "1890b3f4661a44e79cabc060828b86c4",
      "85352f84b2f34e68bd6f21e7bb2d9a98",
      "905e51e80e364b3f8e3a84ebc0d6b5b8",
      "5ea40445e3284feebdb7059ebab93ae6",
      "aba1a84f3d2545e6894d40be90eecb9d",
      "e8f4c44ab9fe4673ad282141d72e54c6",
      "beb18098976b4322972fc8cb14364ee9",
      "37c15dfa8a2d4be99d08b5fdfc543045",
      "daa83712613443c5afe534bf12180006",
      "db37ee0e1d6249e3af83cac7b8e34942",
      "b80482977c8243d29c9e1519181645c4",
      "c75f400c3682448593a93f07aba3af9a",
      "f4bca9a2244145c78627ca4b2d6a3abe",
      "151f380a54ac42c3ac4ae9b94a24e822",
      "b3d709e6a7874a049de6fa3821280806",
      "d8ab02cfebc643bc9a496064f71a1279",
      "10cf9c5363864c60a32d5cb6df3361a8",
      "883d1ea16cc84647af9a05f316ec22c8",
      "00dac2bfc4b0429ea4f1042233481047",
      "401b8891b8774b07979394505ab80cb7",
      "6138c8a1e2624a25bf4baa6ddb5aeaf0",
      "42ae9259ed43406f9fd40fd20b4a78f2",
      "68d9b8c05cb242e79eae1affcca2fe92",
      "ed2e19b5b1f548b7870c0e199589221e",
      "8a172c39e1414ea58544baec8a735efe",
      "0c69a338e1d840f591c4f642565bc061",
      "a9b1e5091fac40d493cb993eeac9cfa9",
      "f65a76402e744ab1a8d382bf953849b5",
      "7c6f29b72bf5485b991f7eda4f7b1034",
      "9bbff25df1fd4494880b401dfd2e6079",
      "8869050068bd4ccd84e956e2193dacf8",
      "fd89f24363144974b3ed7b3d55872051",
      "7f31136ef4d24718890b26173ed815a6",
      "a6288fff620d4d559481e68228178878",
      "03150c2a96494d8c99b61b84c6f3879f",
      "a70aac00c4f94119b1a651310886dd56",
      "038ab2e52e1245b397a52464ee4fb032",
      "d2a2fc3d0734498cade722db5829f751",
      "02d5fd10d252428baaebdc32ea80bc67",
      "51062c2f27684bfd985f7e3f4d91442a",
      "710ee91bb76b47c2b53c3affaadcaf8b",
      "44c98f244ceb475abde056019ced2c54",
      "f5e18d2257514025875c99207f87f6ad",
      "c3584da040fb4a44b69c907f3bfb1fc8",
      "c81c419910c64882ba9458bb358d472c",
      "6ed18c0628a54388bb889a7d1329d57c",
      "0d072d4094bf487ba3cafd549d1c4c14",
      "7b33b4c8bbab4cada0ce47e57f1776d4",
      "08240dbaa3294b079d03148d10bc2505",
      "0a71c35950d2424eae62598c499a69e8",
      "98b730ea0954452ba3eb3c325288cd0b",
      "b4e47028fe844c9fac0caddce3170802",
      "aed7dab814154224aaef9a58cbddf6de",
      "7c2f26e33f65453092262634d25b3557",
      "8b5362bb9cf24c67b9e1537dacd145b8",
      "2dbb89e922164c96950e343f0cb71c46",
      "16865856935e4cf6892f5f2527c3d53a",
      "aa9d5d38791045d6843cf84a94f1e5df",
      "94d0c884a36d4bfc8879b3e9f463ce5d",
      "cd20e2f5c5a14a0f9c94aae717a009ed",
      "d26fd6907d5e447d8bea0b7eef96b07a",
      "90f4ef4931454cac82f6eaad2f2467a6",
      "96ba96d916f6492f96c04ccd52b13285",
      "600a257732a64884847c10f1db61bd96",
      "3c77f259435643e9b8e7c88c73aa6c54",
      "210dc87321444f86b56197c340986c89",
      "f0283f454d4a4203bbb28663942c1f39",
      "7ed8612b72db435bbafeb04a2b295624",
      "b1fc59891cec4b93aadd2bd3c5615050",
      "759c511615054bd7a556ebaf5cf62383",
      "d7f8727e7f3b47f0b31e68d478a96fd8",
      "347260b673394f5bbcd4ebd7e63a5975",
      "327b9e040e69433b9e8a7cdc9d52dca4",
      "6a9bc8219e524ab7a25f6721c0a5511a",
      "a05b8e03769c4cfaa1df5d656ab30598",
      "1e247576419d4b99a4dce37895455686",
      "db82bb8cea9e465bb34f98bc64160fee",
      "16bb2b34486242ef952d7d65ed7f66ce",
      "82747b6a9b2c43a6a472d0e7f4ad5252",
      "d0092d9eb758421798e9479f5b87bc98",
      "22727aa9de5f4804bb2c7fe44f8ce0b5",
      "a3c5c78f34c74be89ca18f14117cad01",
      "ce8434d873b14bc28db50f4e1c41f1e3",
      "02c73863804d4882a8289d03f75da1d6",
      "f788d119e2554559ad8d50ce6d0cc326",
      "24c21319a0634a29b3db2a365b893da1",
      "43df8eb907b6468ab4aa8e24acf52785",
      "8dc2706fe18e4a699e4b666aa9e3ad5c",
      "ff8c6d2425504e048554bb1f860596be",
      "3384e2c646b849bd8ee49fc418bdd263",
      "06d3d55145a3438c886e079a5a65babc",
      "9cc9c6ea10e34e59b5de3b0729a2baaf",
      "67cb94ee77ab4f89a02204de2247c6c8",
      "7d16d91a6ae2491c932eadc82d668315",
      "91d1a35f4f414b0f86bfd8c08014aa14",
      "51b09ac656164f838d2923acd240c79b",
      "bd095154b42948c98e89abd400b0a5eb",
      "64f00ff3d44748f7818026deef10a5d8",
      "80b56079d42d4113bc750703c6d4155f",
      "7fe2760893f44afeae0b87d418a66cc5",
      "f2c6ebefc85844268c8fbf278b387847",
      "b7a7954efc5248ecb8f0b5a0a80e7b55",
      "38b5ebc4f9254bd78082b724821854ae",
      "dcb6ab1544ce4b8ab495d1914961a6ac",
      "8f66d52cc8a549098e30b4eb7e68d038",
      "dc8c34d714574bdd849a81293a2f84f7",
      "f361dcda806a433ba55d65d12d22069e",
      "2bc531dab4ed4dbd9d403cab4fd7826b",
      "3b073e49288848ac9082a4e1d69f0f97",
      "82549f32ee37474daac48d82fea3f841",
      "50129a6d2092492f814829d602a82f1f",
      "c4d58623b6b943d3ae9293c895f2de41",
      "9131e07e2ed34204b8e7824116fee60c",
      "4f0c45f7a9354885a79cbf0494ebac67",
      "90bc3edb928a4562bf027efd103d27e1",
      "7d7b0513433c4bbc880ba410756a4032",
      "edab6457a9714bc3ae4ed68da66b60ef",
      "1f502f7cbce044ed8022e37ead33646a",
      "360e52351dfa49b2a21a84e0eb680b3f",
      "86ba2ceb5ea1478e996a88957d7b7c6f",
      "b14f2ee4724348c9866ae6edd2f0ce1d",
      "87240a380cba4eebaff17f49d976bbed",
      "280e6c00cf164c77b6a93b3b13334850",
      "2833f9fa1cdd4896b403a56d1234cba6",
      "c928d50b409b47208743182194c312f7",
      "0d77b7edb16b4b4d8e3dfffc647d9ceb",
      "2c6a672e218d45cf9de21bb96baf213d",
      "6e3ce4c46e49486a8baa3b85d1e74c30",
      "6e2c8ff6a0bf489fa2a11aafdafaa3c6",
      "2c1c3b0e4ed744169f47e43b44374027",
      "2853a7c6d63347b79f8d6bb4fb7b6321",
      "6c94a810402a4fc18dc4b8532554b6d5",
      "a4573d3855d74935b350be176bd9509d",
      "8adc343fceb341b3b98ea974594a8440",
      "36c2e56eb8654de280ceacda7cdc2af0",
      "0eaf3a6764fe4717b3ba7918b6c21f87",
      "811a235b6bef4d0fb945cce2fc0d68e8",
      "0125e8d4f0164257805a6e430f38239f",
      "9d1fcae0685643bd82b75ffffb09036f",
      "659fe73e48d84931b808cbadf8501b8d",
      "272d28f77ef04663967bd075580c14cc",
      "7af482c8d2fa4671ab263b30f46e2408",
      "b9fd46af33944ef4a6e2d2c60d42119c",
      "337fc31104364eb1ae7a77fb99375457",
      "bc31ebc6fe934e26b7a6223e9f4c965d",
      "8ee352c61d47410cacb011e92ba33265",
      "df1062e4a896441fae163f4017d9b224",
      "d9ca3879b72f4f4a81391f29612f78a4",
      "7c07424b97884c2db22190293d2fb28b",
      "908d585c0b1c44e7887c02b31e508da6",
      "115e398d355542c0a0afdf84bc03f4ed",
      "0fd7209ab9a64414a220ffb910fd4988",
      "120f0124784c472e8c80e520db28ffd9",
      "6770fbf5215f401e959d4a425c01443a",
      "f7098cd171e444579b6a5491e01bc33d",
      "c4fe86e0b4b141c58b1d8139c394c6e1",
      "dbfef4eebdb14094880aa144a3dda96b",
      "2e179364b2784eefb6d0c46a381b7a64",
      "cc89ed8377584a59a6838878cbe0c3ad",
      "045a4d42d49d491ca3ba316474d1d684",
      "25292e809e514953b3a63417508c2092",
      "cdc3bbaae0af416992a4ebb54ea0c1d7",
      "f36e8daf0f0548c190faf509b52e7fe4",
      "abaf59d6b58a49378839cb0bd1bb7c80",
      "4fbeec72331f41d5b1d8beeda29e4d7e",
      "c18ec1854d9949379d34a7b82342590d",
      "75326fecf24e4d8cbb760d7f70fc1e0a",
      "accd786acd824071b4aa75e808a37b45",
      "fb08973cb26f45868d995d44d83d9cb2",
      "87604617bba64b7a96756b86e953d5a2",
      "eb79d2b8e76841f2a3ae9105adffe499",
      "12ba8cd3056e4076a1ba953542ce7541",
      "6f92e50db8c8404ea85c1e325b0553a9",
      "56bbc051e5fe46fa812de82441bf17b1",
      "e03587251f1a45a5af0f23bf280c59a5",
      "de98cd9cef2a48adb94ca3e8e3e52db5",
      "6038da947cd94271883515f833ab23f0",
      "e5c1097baf624292ba28c4653ed50a97",
      "3b6ba06919444329beacc3ca202939ce",
      "a7dbeba65dfc4e08b27ccd8945f69a4b",
      "35cc3170903f402a86b054c8c911e34b",
      "d7c73afbc5114c859404fbcfdeb183bd",
      "e649352b25ae4b3e93091db808176f66",
      "0d6ac0cb8f7b4db8a9cd6d0bff97f726",
      "f8a78e2d07f9417c9e5ad0e0d935373c",
      "705b69dc1d704501b1ace2bd39677f57",
      "6c9086cc03924780903a8a9897962ea0",
      "e6c5693d0e4d4af3adee9ceea07cf665",
      "b940af9ac6cb44d4ac434255fa07d9a0",
      "aba9d578da36449ca824e4a75d39181f",
      "266bef9cb7244efe848348cfe7660cd4",
      "7e354b3140dd405c80406a95512418e6",
      "52d13ea2c5b744c697227e7c60ed4614",
      "c0d4fbbe2b34483ba53125b5b0f3a0a5",
      "b559648a421e42eead68894d6f3517e5",
      "c6c8f09411cc47b39db9c1b26d437959",
      "984484b56e7a40dba6e0c60ff2d0da0c",
      "81f2ff840e664ab0a5939aa577b9e75b",
      "dc43e01462e24cbe9f38398daba3e648",
      "b25ed9780a114ee1b9d5bd61e39851b8",
      "85ddebeda6c24f44bda78d93c0403fcd",
      "1426c2912515433dabf3afac3b2b4ec9",
      "5faefa0cc5ea459a81f9fbf1f5e838ed",
      "52b600c034ee4da58972979c30c01ba5",
      "2a0e9da6a04c463dacab00344cbff710",
      "bbd47b9983bd4b7b94f4b1123d388999",
      "ebe22186cc824aae958f136d298b46dd",
      "602a3345b1b641d58135e9614f7aecd3",
      "0e9ded47322a439496af1829cb3258b1",
      "f1fa79f9f49d4453a31f3c4a84c2da58",
      "0dea12dcdc5c4149a8a48e2c50638d83",
      "47b3654504a94b5d8b07d57f6964c7de",
      "b14b84d2e8914e4482aec1f6f94f6c53",
      "3170d12ce10e468cb7e1496ab98e17e2",
      "7288179a593f4364818bf3be27e40357",
      "a75b743f1801408c8ead9679e22d56cf",
      "848e8347447d47958d0f010dc73229a2",
      "eb7e6ecc1cd44c4080c5117ca49a72f3",
      "4c743af9e5b2457d9250e498e7b8f3c3",
      "111bc2844dc84ff1a578e880ef032e3e",
      "5b5eba5e961a4a7d9f7538925af674d2",
      "4b8a25d06c78482092703bc81d0bc37e",
      "172826c22800445499ce35beb2a9deb9",
      "8e257ace612c4c44b0eb5fe39e6fcc9b",
      "4a479efeaa2246d5b124700cb099cf9f",
      "c8abcc5e264e49bc92b798e325a6e9fc",
      "a365874a286f43b18262d415033a943c",
      "7dab9f5954084faba859c993b2fded1c",
      "761a9f3199e843cca9ba714a9af54a02",
      "c443402856ec43889ba61261adef7532",
      "5d88ca6cecfa4c848d45092a95832422",
      "261d9b5df3294b77b39dae7f88f92de7",
      "c3f5f3061f47421ca42b8688eee9ef67",
      "68aab3f41c13412fb2e28c2c6a9f1fb8",
      "0c8f5831990d4311b295e64d9dda1228",
      "816e7249c30e4dad829c820e89f2a2e0",
      "39ddc6f1f1004b74b2a9856dd710e978",
      "9e1c4ff05b9d4e48a18f472137fbf775",
      "19f9202c925e462786466c9d7388e320",
      "3e03a4baf20b487594dac1b50a628efc",
      "a05cd4aeac0644d58abb4794f5c5bbf3",
      "805ace58780f472ea7f0eda260bae8e9",
      "563e43606658401f853cb2954ce4ca13",
      "ff1fe0878c3e4731819406f7d8c1401b",
      "dd68278d657d41298722a2f0797d3e1f",
      "4f4b4cef632a43ddb212b5b48cf75d32",
      "47ed5db7e8f94757b5aaac8b4444ce71",
      "9d586d347db440a1837ae91c411e3ec9",
      "7589fa0f04c04c07a985f206e301524f",
      "4cc28c8058ff419c85f770cf08cc073b",
      "40ab4a2a4ff14847bc9bd27febaae4e8",
      "1e810ba85cdc4104853ec58d4f45a8c6",
      "555251a6452b48eaa4e4d3d36c9e4041",
      "a8440c44ca994d0f90ddec2c5c801b22",
      "bf93241a5ba14d05a1f7dd05501652b3",
      "a0e622664a0649128ce65210d76e0737",
      "5711862b89be4754a6e9f500a8c6267c",
      "22559928563a4d399570c05bc34232a0",
      "8f0ff9d177074894b9df25edd7eaed9e",
      "d8e05b0c3a684aea9f6b7700e4fddf59",
      "d877f454a42a4f13b3bc23c6358e98d0",
      "5c9cbb755ca04fda9ad1d0df93d167b2",
      "718830183dec4fbcbbf43e50005bd847",
      "8d2bab20a468425eaf89d8a04bc6bed0",
      "172c1cb1871b4686b67a2526b59faabb",
      "0a35113a8d6140909195beaaff7443fb",
      "b419d8973f724b49a70cb91c4484bcdc",
      "900b7f52e85a406fb37119dd15221af1",
      "1a40e17d69bf43229854e08034e213d5",
      "eed5bd5b7bbd4558a15a46fc7f958dea",
      "01753d4ad82847dfbcf0f135ac852c97",
      "68051fd2f4df4bc49aa4ef98943b9a69",
      "3329ce5a5fc44081b887ae2eca33b736",
      "47324c11d27c41178abcf00be97fd2cc",
      "f285298a738e4f90b28777437114e978",
      "f06fbe4fcba34f669b78abb13703f36a",
      "6c8cf78cb7104c68ace522b7d118ae83",
      "a0ffd73523ea4176af3d5d02490a117d",
      "23911276500b46468665869f815c8033",
      "c6852237c71045669e7a3cf7f5511d8e",
      "8bb9367df19b4b2b9c25ae0954ea0d54",
      "f46fc04d06c34d0783360cefadffbac6",
      "fe10772dd22548c7a64c5e354c670c10",
      "53cab2ad33584ae6bb69995bbe16b25a",
      "2942739191ba46d8a8abda02c80a7f1a",
      "d1c68fc0e48c451081be3ccd3fcde9fb",
      "54ae3e28e58e4462aacb2e178f221ba4",
      "4587a5a5d0f04bb28d33c03bec9b9a76",
      "17adc1ee3b6a43c3a711b68f0168d2e0",
      "25c12e7c084040889ff6658bab8caad0",
      "f1f6b34724554094a1a8ecc4ce85f856",
      "1a95c8f8a4484442bb7e3c27356462c0",
      "103345596b614fb48f7a7b7451eb1699",
      "d4d4fb10e3da4125b4e9df1f629b2aab",
      "3fc9d2647afc4059bfeb27fbace3a228",
      "fbfeca594103431b86cbc8a7eaf35b86",
      "90d3f51d59924d8693de40ee1b65bcc6",
      "5babacf3069d4a1da5441b2027ab3335",
      "de3b035617964bb482b74ec69c78be6f",
      "c6e75f3288f2492198f185140ca1e341",
      "d33eb270bd874673a9e4fac1353ed911",
      "f1b7bfe8733e4e82900457182ff96648",
      "abcac4543d814844bb9f6ef666fa0bab",
      "bcbdf7b7f9ac4149a267e31fd8f3a9ec",
      "a624e6f23fe44f05997b5ae2b5f9700e",
      "e343f76d07dc4742ac84499c4ade4426",
      "82232d1aad3646ac8d9d0d5adbba486c",
      "0eaec11a76594788a4f254dfe07f8486",
      "dad5fe202bd846f9ab7047dd3cc3b0f5",
      "01b7f0799a0c4b1794cd3956c9fc5889",
      "650c3251091642b4bb9a295efcb857fd",
      "e27bda9f770f441d89e017f23f5e74ba",
      "9f3048d63e58410391c91fec2bcb6f86",
      "aa8da0ac9ba04fe5ac7de2f3df566d60",
      "d3c4d23a16624352a13d91e7026cdc03",
      "9fc6b375ed4c475cac715f6b4a30bc46",
      "20574115d3694bb4bb8be9a3c0a1d0d1",
      "a6aa557cf567423da45febd49328080c",
      "1f1fd53c01144c09816328b0981afebf",
      "5afb0a5314a54996acbfa795a39b756b",
      "4cfc067ebccb41dcb7e8aa5062849e6e",
      "e12e293444e645be9407f5cb5fd353df",
      "467c9ca106f24668969464f194b67b50",
      "b8d133011d124a9ca0dab0d9f221f720",
      "077d44456e2d4e1d8854bf793e6b031c",
      "29cd4a48d77f4567b19cbb97e39b5440",
      "7efa213a67b14fea804a4050d96feb64",
      "8fa6be19d78f4b8facec7112ecf8b0a6",
      "05d95beec80641eea5e5cd843c306e9b",
      "a332d989da204c27a049b4ae4408ed99",
      "91e8c1c70dbc449582a975447a9155e0",
      "2f620c3b2c994776b7a19c29e718892a",
      "03cfa69261b546919910fb9a10655a21",
      "89aa0c8a52c34747a1ead95b54de4ce4",
      "65951608ceea4931888e5717da50a706",
      "bd039c790efd40408aa4e39f387616b4",
      "b1a0b7591de14525874b73a5d08d51b0",
      "0a7dab525fa4427ca96456d8fe36ed4c",
      "1ece566b87f34834bc5e80e28c51bd1f",
      "cd0e8fbb8c824f54882645690b02ea31",
      "61f8872f65bc49ebacf83695a20a76a2",
      "30088c2ed1c543a4862d1eaf1643d810",
      "c153f07add354919a5b95502eecc941d",
      "9b8e72e27c2b4e9a9e102ee4dbad3b80",
      "21acad72350b439696fd55060adbeaa5",
      "16a6b0b88a11418c9ecc5b9738046166",
      "828d96a3910c4dc48b6ba878f2b9b44d",
      "8b78c5e18e094e72aadfe4040fd19727",
      "dbd4983c3ac3495ca32c1ed6b051fad7",
      "c3381f89c3ae41699fa429d5d8fe3878",
      "c549170d47f84e2c86bc8adbf2164f7c",
      "1bf4ebe9d7ec44569ceb210daf942b1a",
      "bfc36848a7934b04810e0c4895d56ec4",
      "3ffcbcf3b1234c0995acf2e6dd01d294",
      "ff788825bd2348c99a8e5c1c3c9eb968",
      "bcfc1cdcc3b44d2e90fd85cb5ecc8de9",
      "9c23bbd5e3a346429b1831d020ab410c",
      "4be4d92eff504a15b3551fa276ca0487",
      "66a7c8d84f6643cd8b685f2c37ef9278",
      "57b6c197468945ab9c2486bdd823d414",
      "959b99c5de3542f5b3a1824eabc549b5",
      "b340b9f9165e4752a0ed66aff7c3c524",
      "7f7e277996f04c7cbb062ebd130d0d86",
      "825d1172b7694271854192fde4ac5e67",
      "a7fcf94a05854655a07504ce4c617a21",
      "0c34403f3bb6413ab8178cff88fbf2b8",
      "2ce5fa3db6e5477a9804a97e9c795b1e",
      "fae3ba13df1d4ec3947b5fac4cb4b2bd",
      "f13601b93dc14adbb41f988c54f4bfc7",
      "29319476aa5942b7a056a6cdaecac064",
      "abeec013da9448808b4bc12f167f9187",
      "92207daffa654fc4bf4c0e063d5c7e00",
      "b8b294121ac44418b1aca18395b5e4c5",
      "7b46996f24a14cb9b4ad3e860ce63f3a",
      "48539e06ab9c45f6892761d32f0043ac",
      "78136bfd841f4b20b342c36424a7b009",
      "91d01e5602b84b4f98a8882b7cf45523",
      "a5b1d416a6984ef392ffb927fd077797",
      "a0822ddab9804b3ab197df10faa9740e",
      "6bdd6377e4e1417aac57d8b1b8fb044a",
      "4b0580bbceb841beb420aaeb6a2a40db",
      "37e8e8d51f5c4934bb93ce655bb76f36",
      "4c14285f935540b3830ac50dca7aeb0f",
      "10eaae4a217c407dabc23ffc4e96e267",
      "4f7a2d9eb48e4958b5c6bfc06db4627e",
      "e9d32b00f7d847d2a508014761d30744",
      "a41b74d004d241e0ac2ea900f7f9fe76",
      "425aa25b9bba48578963161489e7d1d7",
      "52c55dcdfad1487a88ac281334404b0c",
      "c8b6283ac17e4ae399716ec4d0b0c520",
      "8d772b1f36ff4696b55c0e4980d29e5e",
      "0a2f978c3fdf4e05b6b50b3acc330268",
      "57b3b5c12f054ed5b49a99863a7204b9",
      "8f0ac0a77fc647d7875abb1ab9f35204",
      "4f217ec535e349138a4a52f8e12e0b3b",
      "20f230632c934ff48555e22304051ac0",
      "cd594c5baa7f4de08d062680ba563677",
      "c2a671ea2eee4eb4ba6739ffdfefa1d2",
      "893dc21d10b9474eb9109415f320056d",
      "6e9d9eb146824f388ad769dcf4feb0d6",
      "3fc6ef3963a84d2aa0b5eea13c98713a",
      "87cdde5abb594f929e4d566bdb4114df",
      "2f4caed6508a4f24971f99edf1a45274",
      "7eca0274121a4ce88d1fa5b128985608",
      "517f5b2209224893ac378940e0f85e4e",
      "ad9ef607e84540ebb1214575fe8984ef",
      "d950b6e073a0475ab5664fee44f2ebfd",
      "73ffa53fbd464efd8e2311d67aa6cbe4",
      "714cbd78808047b99b518adbce6dfca7",
      "67daad0b9b284ab195c572747fe46be4",
      "d3e0292717b84191b0fc806022bfda09",
      "09bf12a036664ad58ea4eb0352cf4418",
      "8eb9894390194799b9ed501314dbdaf0",
      "0c5a99d3f56143e79d871d75075d3e29",
      "0bc911221f6a4c9681844129affcfbf1",
      "1dfceec4c43d4f98b46ee1d6a6fb0abf",
      "019d92c524b44a79922a1332e33aafce",
      "829a3663cbde48f490aa64687e8d2cb2",
      "f3dd1979e0014b2d8682b8d864dbd344",
      "b44de2e6a0aa467abc0525a0ca40cef3",
      "5cf16ead5c114b9e9189e6223df0ea20",
      "d7b8d18b81994af68b1b54c9c37a3c75",
      "5ee79e51d4b849ee83c4ac3342d58ff0",
      "7234372044884390b7a30ce2f2dc31ec",
      "a38095f49e35438cadd288af5fa9c73b",
      "5fe2b5b40f454d76b00702396fbe8ff3",
      "ee949c0c3244457abea39da13b5d89c4",
      "4c1c0915fe804ce9b8478dd26ca2cf04",
      "a0f3d96f10844e1a859da52caf3797dd",
      "c43a828d9fc3458e943150013b994200",
      "af147a06dc034f30be0b12a4373ed73e",
      "3e9bf02496f64c8e9dc59b148eca1afe",
      "f1166b7407bd42fea09ce50f485f38b4",
      "f21897b3ab874cb7a65b0aeb0e9f195b",
      "d50905b1fb404c7dba0734c54539b657",
      "aa2ba5bc44d94bb9b41b252cd4ad9d28",
      "2e4c718dd70a47a99082ea479e457ffb",
      "bc259ac45f694fcaae5a4664b5650911",
      "a89cd98a862649438a8d5666893e3405",
      "c673e3a279fa48e59fd3f22623439ef3",
      "e59ded3a2ca24a99b9855479b56cdabd",
      "08d9a54ca0ff4c64a471266fc10ed1ef",
      "47cf72b3e6a74395a598bb1ca6cc0dc7",
      "441c8473b74649d08414cd358208c638",
      "611ade82ab184187815bdba132ab2135",
      "5a1921b19d6b491989d2693bcd846fdc",
      "2f98db24c3234f399b6f39c14d7b9324",
      "f6db4d6bba4d48469776fa6b1ab9f244",
      "4213ef72650442319b5c3be93e31f6d2",
      "de3b4c7460d248d4a21dc7b93418dc44",
      "048b90eef93a4e8195462058e32fac48",
      "c82f69a1fc7f49249999d0e560f3fd8b",
      "68d7674ffb8d400baddf9c19e728dd44",
      "c5b0d42b1462444fbb1532a951240d01",
      "01f25a09ff284f509d8c702313ac0c20",
      "c4c1d017562e407da90aeed208ac142b",
      "40097e74619e4771beebdcad404254e9",
      "8ee0d1e668b0411fa53f6647ae794e5f",
      "ddc122b9572e41dd803f463daf3036ed",
      "50101b0bcfd743ad922d3d88e5eec00f",
      "44637ec2a61346bc8739ca28bac5b3ab",
      "6fbdbd1327c3435ca7a0a78653bbe66e",
      "c2457e128a5d407fa1d64be379b48935",
      "a9cbdddc1de9426d9bc511398c3fdbda",
      "f6dda44f12954000a0d9368f73e96885",
      "0a46acae0ffc4ca692176dcefd4ed10c",
      "d62292e17033487f866eb12cc9047f23",
      "e1dceb23d7b44a90ae16aa9db53bfe4c",
      "7d98c11cc70349f6a44edcda39f84dde",
      "46bb05a932384880ae9cd3ca6bf1c6fe",
      "16d5aa0ab58d435c92219ce164788c38",
      "ab8a0c2c11484bbe87ed770351eb0030",
      "faa1ecf3efac4030b8c998e4d046ae34",
      "5091f82c7bdf4c36bff386cecc40cef2",
      "c3865e3095c3498c91db63c820825a42",
      "e2d87d611e524f158e19094d2bcaf6db",
      "75cb788de1e646b8afb7fddaab4f3ef8",
      "50819a5588e844ebbb8520ddfd218fdf",
      "08662e1af67942fba72469df11a060ef",
      "f92443f33df6436c8dfddb77bb44050c",
      "28849370144946068152a6ed5fd19214",
      "007d5fcefdf448ad959d88a75fef5b8f",
      "3d3633a903ad49b1949e30bab46b9201",
      "8a41cfc52451452eade4aad6a2de8c52",
      "4950b6beaf884f229892e0f779bbace1",
      "a68b39b1c499497e8d2b76cf9a9f0cf8",
      "97828e6de1d94e06b0c82ea3508f11fa",
      "98178a0dd57e4e84af7154214d350e6f",
      "ebf009cde7c84bab9caf6946ed4fe950",
      "818ba5ce6db24b7593f76bc619c2978b",
      "6d3a9abb680e41a1a651045eccd2514d",
      "8073dfbb8d9645ab806ca7b82a36e510",
      "de3336603783497e9488f2f1b8e4cf15",
      "838889ab5f6a4edb8f76a1ea5e0bf106",
      "1e3072bd9b50479c98cc134a33e5d519",
      "11ffeacace8f4b5c9525d71215430e89",
      "0c3e52de81d0426f97ab322ad6242d29",
      "0ffb8a4f57db44aaaa53564eb0f872c4",
      "6f675e95950143a68a00dee143f48e65",
      "bc3f11d9161a4414b59ead5a7b559c51",
      "cab031732584447e8a47b3db0ff199ee",
      "08ad962cc3a34475aad1222212ed4a84",
      "6eca830de344474dbc4f21e3cd94be98",
      "81e13c4512e4424fa289ad1643a37f1b",
      "9eb33c481219420fa7a7046e23df54ad",
      "73a19afea50a45499961a213cabe945a",
      "1e54deff352e4d80b653d7339f2ef734",
      "beedd1da4f7e410e8e6183f7250a2f47",
      "7f1e576a90c14635ad2b887df15f880c",
      "8f79d660fa2948a194694857bfad63f5",
      "6f3efa8047424391a726d18a59ba7671",
      "5d545e8588f2458094949fc9bdc93388",
      "83f31af9fa34438db13f2a1c4ba41f4c",
      "8dd7350b93a2405598ea5b295091f96e",
      "aced22b9a7fd4da1a1391071a3d79d0e",
      "33a88dd363b14d26bf91e6081fc3dca3",
      "2c45177762764cdd8b8616db00952d78",
      "fb29b942754540dfa9d86645661c1cd3",
      "058613e7b1b54764bf5f83e89c98ce75",
      "ddc0e0b4db0a460fae71ff8507db3313",
      "2fcfd6aaaae943c99835188f8796b371",
      "037bec22687b413abf60af6f50ce824b",
      "74377baa91dd42178818fb736665b685",
      "10c5ebf90d9b4a80927ee00bb60dad32",
      "3723106ca6fd408eaae63169737d3321",
      "35e95e725f1d4c1db3a9e8325cfffc80",
      "6ff2afa314084e20949c7e26c6014909",
      "7f51437c28de480283459b861a158a7e",
      "6407babe314645eebae96530147dd49f",
      "5c575d8ac5404ab88153759a4501301c",
      "01ca98ffbc8a4c09b658edf8220f4573",
      "afa48241e3b743949bb5cdfc60405702",
      "b600629bea95482592808d2bf435cde7",
      "5a340015f1ff42369a2db0a2b205d468",
      "9a3f0969b5cb49429b11e842ac35b995",
      "47cb5b5905ed4f638ea808e07ced5b3d",
      "ed90cc1ddd9c48c6b9839ff8388001bc",
      "ead80a1bce3544738d5221d65596fb1b",
      "2b42706ad07b4f8192d91842f55506a1",
      "c0870e3f7af64c08b821ccd36406ab9d",
      "b59a37b5452e46c89c8a469eb4777c0b",
      "19eb03c75f7342a7a53ec3cffd3c6843",
      "4d2f644fb97c4428a08c0dee9b9ce6ca",
      "9d1706d1c45a42b5a7bc1e85b92e2bc1",
      "0e66a054721e458cb6e0ae69985b0a75",
      "dc07a3730b824a96b99be573328d4faa",
      "c2a9e0c6179243c69bc517f6fa0544cb",
      "07b0764cd9af4e3186015dcd9dcb14ae",
      "2be67f4e982b4975b338da4e17ba297c",
      "643ba30a63f340fbb022ef9934d0f33c",
      "581bebb690074af8883a833cc190830d",
      "a3f9179a473a4b49ae93ba026871a1c4",
      "492c24777f9e43e882f2f976ab63e8b9",
      "714facef0d264f48845efd1a78e21651",
      "1beaddf3fc6b4191adb23b39487a5dd9",
      "e78975de0d384d11a729a50080f1788d",
      "b5fe12f82eaf4e979b9cc9ee7e40a22c",
      "ba83a561a4234b18900060bffcd36c82",
      "a65beaaf5fbf48c4ace53e4f23d11d0c",
      "934db16e73e44f079303fdf18d798a17",
      "c4f26fc748f440f1aafa5156dc79acb7",
      "798dfc6f7bec40b59561e2b2d15108c1",
      "3f02061e479d40d58129402602323ff8",
      "05897ca66b3a47f48e90aab4feccec6c",
      "7a8818dd80eb49beab5aa05e7ec9f451",
      "86f476651594434688beb59d05b373c1",
      "e183811db41241749fa57df7d9848095",
      "e8cc77afd48c4c9a86f22c47c56d4c9c",
      "9a8a90aafce84211b5f0ddde02d63979",
      "a30612ce7a1e4768936ee7554b80ea2f",
      "fbf4a91753964f1880c0ae7ac09cb1c6",
      "69938b6f7a644f068d719a793dc95b49",
      "a5385ed37afc4667945ed1eb98c6760f",
      "518d9a11342f4f748e7992c907eeb917",
      "4d3a8321d9824d1e87f53e4b5f7828c8",
      "6bd9fb191d064c7a8ae34fdad1d97d7b",
      "39d310f1fae34373a78e849cd55485e6",
      "d7a59fce169d4013be4e3a31bc46d7ae",
      "ff8d6fef2b2148c39f657894371a57a6",
      "f14b5ef4a5eb4b3094c110e0f3eb997b",
      "d8aaff3df91d433bb3e4ab5d44c4c910",
      "384af9da15e74f41abdd5bfd4a9b6f42",
      "fbdadfe34332449486e2f4bd9a6a0fbc",
      "f2d5a35056d6449b836893820867744b",
      "5afa3be7b99c438597b7a7ecf73ba020",
      "c193de7c82a041ca899da6b7d6b30393",
      "f5d1b1e688ef4993840066f210984089",
      "2fffdc7f9f8e44369cc42f2fcb7233f8",
      "8b1f6893c79142f2ac977c7c8af3e05a",
      "8fb59a0e98c84db5aba1996ff608543e",
      "4219b34f771940fdae7ab6dc941b481c",
      "62bc000a948f4febbaa88e3359cc1e38",
      "ddd6a4e7b1f04640bb1fc4f19ab9bb88",
      "589f675256a94a0295422ee1bfc59cf5",
      "6250b7bd87374c0fbe7ea4ad1c9821a4",
      "fd148a7309964ddfa2db2af25eea16f9",
      "257cc580c1e6465f88ba4f1e87c54363",
      "1f18a9445905429e8c3a867457bb2edb",
      "1e52e9ed77c94ff5a880c815dcb3192c",
      "8d9e230f4334451285df75d4e48fdbd6",
      "cb194a1d97474381aad7600cf2aefde9",
      "cc615bd9018644c080b806779b14bebf",
      "6ac7b3cb5fef43dfaf0e57ab8164e94b",
      "4784aa19708b424b8ee679fdc8276eed",
      "56000278532d4fab9b690651d608ca38",
      "3cb619935c3d4f79b1d11e0bc6200a74",
      "24c50fa382774bedb1b448e98083d0f4",
      "3d6ef07ad94f4c978a06e1528d8c0b0a",
      "ebf427faacae4448bd0614d5bb98030e",
      "619f1efbc678436db0829626a71947ab",
      "4e81eb9628684173900934d286318375",
      "22449ffa78034bccaa183a57304898f4",
      "f10d09dfda5b46ecaf6b24ebb01390b9",
      "9075957e59d94022826d21c81ff3806a",
      "a7a66596a5f546898a0675a1a42bf2a5",
      "5bba23decc8341d3830aba7a5c8a88ca",
      "0b6ebb6fbe4c4d55a73ebe39fbe4edb2",
      "e2c7af8542724e1d856ff975ac1e5e58",
      "54fa8832160a4af39f85a339dfc771a0",
      "ae8639f106fb4264a357b071c9e4174e",
      "3d41dcc085834ff9b4b24c73c778a1c1",
      "ef3ccd35c20a4ecfa08ce324937e3f4d",
      "6b29a4f7016549d9a8c2b46316fb3a7e",
      "6566ae7335a742e2a9b69c3e154026d1",
      "74936d45c9864c93ac526afbab8c5c98",
      "0f9143e4182f435bbe38fb7bd930dd6c",
      "de88c63f5f234e42ace4f3c6b13dff4a",
      "6edc268c5c874626a590dc2cab119b13",
      "5ea624c14c7b48e788573444718236a9",
      "63dbf16094b244ae8358ed0e54cbcff6",
      "5af73b376c344c23b7c84e0eb6aee7a3",
      "4c8939491a394fa58dc4ab47ad3cdc16",
      "f6ecaf3fc5ca49d5b4844a2bd2484361",
      "4f13910a53a0408fa39a177a56c0d788",
      "69c97990ac174b8eae10a697c78ca935",
      "c00cc2f705e44b62828b6191be90ab0b",
      "d93ad24642a348858bdecede3acaae8f",
      "7431cc8eb8444a7eb89a8576d8622010",
      "6c3131d2ae75471e96c34a24636fdfdd",
      "eb96b84692584210aa649dc211a00dc8",
      "c902150b65874774ad9ab371a106654b",
      "10cade97120f4defbf33e631d1adbecf",
      "bce8d8c46d8749ceb45c9fd72bba962f",
      "e02d94186d054ad58e391437f9ea1cae",
      "a9565ed708564eca94397c975ca5ee97",
      "ccbfd680c02240548e946f8ff68fdca3",
      "02f2c456f0a04b7a9fc39bd80f3d103f",
      "4e4bafbcf30e4a168ad78d152592ef53",
      "efdd81437653411aadf576660d4eefbd",
      "36f6642b0de54f81b6bb68d46a2fd717",
      "461cdfb6714042e5addc02a4ec1f4419",
      "1e16e369ddf64b50b9cdc0e124c3f684",
      "e1cd34343f52423d97eccead998beb65",
      "a5490ba6a5664371aed33a9c327a05de",
      "1b0918ce7eab40c792acd45f7e33e761",
      "d3c0b84ee95b41e1ba82470347a254d6",
      "9bf391257f0c4cf8a3965bd0bc14cfb1",
      "08eba0e2d96e422eb50b15ffebcf57e3",
      "14e1f4ff470a461ebf9392d201c03e28",
      "a15b0f56c714405598da874121aeedc1",
      "534915b500914bd1964974f94944388e",
      "91dcd94d02ab407cb04f7cd087ec1c44",
      "42c411fc5ea046169201eedb4ecde5b6",
      "a0d693859507435ab21ca2a021b44e24",
      "3e45def1ea7749439e34d1e5f5150c1d",
      "f2bd7135f2714b3982049837087e32ba",
      "f851084b7ad34fd59712ce4391d33a35",
      "36d46d19d68345a19388ffbc3f4527d8",
      "f74a717cd249413da122125f0c6cd28a",
      "82a7f73405a643d78147e02d4001a1f8",
      "cff82809214b4602b6654725f1be03e6",
      "a7ba2e5adbe449149bee5a276b68676e",
      "16117ea0bc494ccb8f2cf94a8885393c",
      "88a7cfe351044041bdc06eba5e9f50ac",
      "a8d680f4679745b4915cea83c1be6d28",
      "1562ec1c9791494494038d0721ee0ce8",
      "799a19b3b1eb47eca7664b347b2e016e",
      "d1af377c52b249e991d69af1af5ce092",
      "260ac9cbfaf246dda61608325fa245b4",
      "aa54f2d6327d46ad90526701c9aa7a7d",
      "93af0afea9cc4bccaf1826d43f41f894",
      "0b884d14e21b4c30a9daba188fda8116",
      "9078a6191a5f47c78aedd5e2a61d5c7f",
      "e4ed085bfc86440bab742bdb3814076c",
      "fb627362888e43439aed140cdca13d31",
      "cee24cafc6c94957ac39256dc0be82cd",
      "8906fb5504e54978b40ab8cc21e7f6e2",
      "141522df00de4b7680d70e770f024834",
      "7dd987e2265d4d119dcf6fa4991b9b0e",
      "64f9ffedb4564276bb34bcc281e35adb",
      "b1f7598075594b6db42a2dd50b9fc511",
      "d20c203859fb428599d14c56907c7f4a",
      "9a07bff16fce406bb8e57e6a8dd819b3",
      "ecc88fe1180042618845615ac2d26a2a",
      "c24e4328edbb40d580165538c4d8e3d0",
      "7562f757e6c649e0a9071b79163691b0",
      "9d58b7e04c0041508c6cd114c93b55f7",
      "3af6e7026d1f4c04bcc2ce15ba1c124a",
      "c865afd9827a44dc99524d19b5862211",
      "7b39911f5ad640388c4f3c030882a8ac",
      "62392b6a93b0449ab8d13b1817f232ee",
      "a8c3343d44b74fa5a0a594ab312ef196",
      "4023a629f9be4f41be20d90c452a048b",
      "e309b8d8fa24461ca18d763be1c640cc",
      "e0b88093ccea4b6c82a304e2deb59196",
      "58d9cd8987374962a202f3af140a6fe8",
      "bc5b4f8ae0de4126bcb5986308abead3",
      "10456922fe4344428c16aac13bd6da89",
      "d20929191ba24b15895005b0a0581793",
      "665275772bbd4891a755203eafe9bceb",
      "e7af3c4605ec41afb7ba35b239df44d1",
      "11ef61127b264705bffa3b3733c7153d",
      "5c339f88c0d94529b3609cbd9fa7a288",
      "ae41b3853c924a6fa7170a06a17cdd23",
      "1e8201c1a72648bb8f053b819cf077c9",
      "f77d1a7b14154dc29ca240b611a5f31f",
      "3e48b09010bc4a3480f975a500241f5f",
      "8135ecb9295e40e6925e5e4e3254e2dc",
      "2843daf7082d46958f284eb93d7c6ed7",
      "b919ce2fb60140f8b5c7110733478a23",
      "82abae5e33ea41bba1351c0fd0a79993",
      "d94cac1a663a448f94abdda25e97d48b",
      "33d2b6ded88c4321b740b4a566c70b20",
      "0b72bbddba814c53ae338b5419a66d1a",
      "038efb2632c74617b1b6ff553dcccda6",
      "5293bdea646d4669a5b3c4416d6c9c76",
      "adf228820cba4fddaec3d425b53ec919",
      "6968f3dbcef54dbc8ac06e0604f5e901",
      "c785610c4db44c239221e6d615c11a12",
      "b9eb3895777a4e1096df560dc8bdb7b9",
      "af058d390c4b4395bb8edefb3325a109",
      "cd7b3c9b74af4b39833648c419a45967",
      "c59e3e812cd24cb498509fc32447401c",
      "e0676a2e38e844d089a5a9e30950c66c",
      "a16c71ceb5c6471981f6d8d9633b148c",
      "220a1567a84e4b999e708252d5112e25",
      "b92415c44b25471ea26e11f8cec91d7a",
      "37c4a7f007aa4926b68d8a418ceb6dd4",
      "d5b27af25a2641c3b43f809d3c61834e",
      "3ad702bc05224cb192b50da74a349cc2",
      "d4d82de6c22e427f939cbbf25e277a4b",
      "2471432919374e558e98b7de3b15202f",
      "b5440c625c7c45e1aef180fb0c323bf2",
      "909936a6976749b18a52bb3a724dab5f",
      "1fd4188bb1fa49ecac3bc1abaa9bc91a",
      "dcc6d5f097c6431d89100bc14535c55d",
      "788a1a4a1f8f47ceacfe480154fafa1e",
      "fd96983d3e09437ca9ba21e973d821dc",
      "c03f6ec730de4d57b76eed4d878d55d9",
      "f4ee544bf8714091ad9b6f5b072d6933",
      "b0607ab514ed427c92e0854646f0eeaf",
      "c9285b9a03614ba6a58610c229396c35",
      "17a1a1f564eb4ebb9f2f1092f2b79b65",
      "98f04fa6e09f4e06ba71bd759d2af473",
      "6f81133eb62542b2a0c4f20ce4315069",
      "49409f313ea448a3b6c6d3d99f0f4652",
      "36bcb19f60cb4c28bd1fc0d9300a42b6",
      "16dbd18da9904c70b40ded12292f84a7",
      "95e4eca24acb4dd7a852326465d0e808",
      "ffb26dee3063491ea7ef7267bd72e6e2",
      "633dc073fab64157b5252fcb4ee70ee2",
      "a3302f6b208f4ccd9ed44295a1e0f4df",
      "4a2db4d246af4d3e85db977fcfce29b8",
      "a0e62f86324a40b091140424fea54efe",
      "97f55631dc3d4717abd88f216f8be68a",
      "07e6cdbc979a47fe8c493983a89184d6",
      "ecb71f1613564763b6caa70bcb596755",
      "a8b59cb26cce4af4a0feb49d855a3be7",
      "334c13abb92d4c2996f25fed8f788528",
      "950036d4c633411a85464acfcd0fe948",
      "caa3d156f580447387ef3d34bc37b127",
      "69dd95fe562b49dd807090e002cea70c",
      "c4ac56cf281744a6aa122ba35ec40b99",
      "f3888b8c2f72490bbe1ec686f591a1bb",
      "c38ef8ea8cdc4de59e6ea2ed3acc3ddc",
      "2743459924ae403482066cbf6a6f0229",
      "44673704ab4d425298842a6d13136197",
      "f82282e0254d401ea6a26e8817e5ca7f",
      "807e49af7b0c41a8b7791ec8572194c0",
      "0643aa2fcf7344cd9837699048a49750",
      "1b47a4d598334e65981b83131c7b5410",
      "1b76ab453f134c06894b585a97933bdb",
      "4793fadc6eb94b35b43043f904d2372b",
      "686b4397d3af42359ea16c47a0b62257",
      "d33dc3a85da3489aaa89f969b134ee03",
      "91fd68910c994a9fb978afb2edd71851",
      "17324d7ddac44940b0aebdd8e2228887",
      "eb122303b83d4c9c9ce60dfdcbe1c27b",
      "87af54b3f39a4fd5986e864b203b6c47",
      "0718f18d7e21410f809d72972b820c9b",
      "da1bcc26a6c545e9843e3285df11a623",
      "9fa343122295494b9e5c2f8461fd60b1",
      "5b9a14884ce04aefb5dfe1ae3670aa82",
      "c612e59bc57344d3a45b4bc84ac9c6d6",
      "ddb402a56e6d46569f9cc7b0164e2e41",
      "02fb8590d53e4e48aab57770e0069fd7",
      "04330a83cad143ecb0be7ca3fddf7ae4",
      "b53073a726d04e21bb9524161fe8226f",
      "7d2816145fae4a09821ca7e45c520310",
      "af4cc6155dfc4d1ca11dc5597d0ebe37",
      "87b290b9006e4cbaadcb720b68430add",
      "b07b10b73d024428a9a57c750cd90674",
      "26cebea5b3eb4965bdb7136267fc5cf1",
      "9285f7230bdc47dcbc62f848cb14e8d8",
      "88d681abb8a44fbeac191da0c4f134b2",
      "946181c56720466b93a5fad02ae2b1de",
      "c388878919cb4c11bb804183ca64add5",
      "8d2bf7d96769412abf55ef492e15eb92",
      "cde216afa0994532b6acd476da160354",
      "dd399db4c24b4ad2bdc34033c97c22d0",
      "ee2be336fe5344e5a71a225cd25d4539",
      "55837944f7184caa9cceda7355a4cada",
      "bf6ec7b9a1164a8ca034bdc90437e4dc",
      "e8f3b9f05eff45fcafe03b2674d0ee40",
      "d0d354a29ddd401d827bbb5117d2b074",
      "7fc27b9a1a284b2abfc9038d31aaf4a4",
      "b62d696e97194caa9b966e474991eab7",
      "d5890e08c7cb4f078e4c8498ed796c88",
      "40bd13bb786f493ba6be7510ee8afde2",
      "cc73f4b20e7d4fea81044e33a53e3d0a",
      "8a16ddb4934e49b0bca42e8922d42100",
      "6aaf4927335a4ad3953b2549f27a7802",
      "75f15341e10541a6a8bb280b06a083de",
      "c7b6e5a855344f10ac6e50da4a267062",
      "e3206de2ba5149ffadeea2a75e18bec8",
      "9672c571d82f4fb6b68b5a588fd1aa06",
      "9435948837144b1791b7a40402931104",
      "ffa222adbf83495a98e2bdd4e5d32182",
      "e4fe47d22bb9492b8494a3ff1ed64db0",
      "9806ec63815b442ebf99df793e9209a4",
      "fc7b579d60e14c9bb6e18ef5bd175280",
      "84babe607e9a4f8cbcd1d140f2b59c43",
      "dc8851cd721f4a5e8345962bbd4901af",
      "d59dac9728704351ab6a88c86fb0a490",
      "a83bb003f9e24cd7864616893548f3cc",
      "e77c3674502b4390bd5f32c06b5bcd76",
      "37c7c8eca9b0413f829d36984424ad0e",
      "aaec230e4fe044608a866e1251f03f6e",
      "3ff9646229cd4b72b75f97c018615be6",
      "ec013478f01d4e179dbe1bf01421423c",
      "29ef7bb0f3f44fca8030f009ea165c1e",
      "4741a1c1557e44578e15a40ee1c1fd89",
      "1890218dc8294d4382bb6e633dc5c005",
      "064037ef4b0842f6a23ebac03fc9c400",
      "60fe18ac3f824b1ab36549109c909b5a",
      "4a6ce2789e9d488fa6dfa56084e70ea0",
      "59e2c274179c4d8d9affa29a6c6cfeec",
      "9b9c812cc0b941fb99942a6dad570bc4",
      "35494640e7f942ba998142a588b6c232",
      "0c769c958a5d44458d6ae281060cc57d",
      "cc7bd0b177474c3ca9d0f5a82890155a",
      "ae45f8fb65944502a4184692110bd56b",
      "02c80c6a4b844c0f980d463a1ca12d07",
      "a31a59481cc440d295ebb64531a4c9ba",
      "edcf367ef83145ab869133af6028a777",
      "8911382399e34414b0ad9b77e563bfbb",
      "e5b1ecfcaa244c8fb5029fe40806354d",
      "9f32542cc83c466bbd12066121f2cb65",
      "6a11be506d0a40ad990a905d6f38a33c",
      "f5989ed00d1641e286aef64d50155881",
      "4eee5ca7b8a1412e89465fb06f32ad9f",
      "5704bf8ae2844b1598d5646c449f83a6",
      "ad0aee76c57647bcba97af84eac8904d",
      "d881dd9de84f4fa38eff6ed1f45c1d2d",
      "7d6d28b28ec148f8afa12bbdedf09d26",
      "a759fc54c40b46d484b75b3574e41c13",
      "069936745cb5481aac1dca6c155a4a8e",
      "60d2c17efb1741b1bb6c597be213083a",
      "c67dd8297ce340f2820fcd0b84919f6e",
      "34c017ee98a24e48a8387d05ba551a45",
      "2f112180c9ea4001952fc3e5ca5454c6",
      "c9a9bdaca2114409b90b447b88afa108",
      "453787d8d2134bc5a67dcccfa25e5bfc",
      "ed33d919e51348429f13092c1251cfd4",
      "0b08812f763e4ce187fb2beac47a3f94",
      "a9d053c99572464f844070a5f42f406e",
      "5455261aa0414437ab288d83813851ef",
      "4572c0a436464e809d1a1b8cb438f594",
      "5a863557d9454487a5432e158e2b9ece",
      "989bd0fe2d7f438ead64a7fc532368c5",
      "f1bc643ed0bc4d739400f958a80ee376",
      "d8d2598addc34742b839dda51bb77f19",
      "fa3cf34827fa43d69f69271dc1147abc",
      "b4e9ba5ee0eb470d8221131e0f09b3ca",
      "01d8f3d4dfb04fda9e1edbae1e344a7a",
      "041c19f64e824b4c8e6a397ec6af4366",
      "fd071cb3cc3440d18563042828d9703d",
      "42548098524f4dfb8ddf161e0e5cb0de",
      "36bb9514ef45460d8baeaea46be12e08",
      "d2578111cee2489e85cdac5f931c41a8",
      "54ec02fc6965448ba6699d17a24991c5",
      "39309067346846ee99849fb5efaf72d8",
      "4219c8d1c62c4f50836344c62db0b078",
      "4e4f0060f5ec436eac7162a560ce7137",
      "525f61765b464c3dacb010e72eae0f72",
      "c191b60ff1d84a879d0db8040a6c9616",
      "fe1c8a1b5b624621a2e00bf33cf527ca",
      "3f7bd3c47d87459ca775cba44d688c78",
      "ef75eeca32e648759a650560909219e8",
      "275c236eddaa4bb1adab571ad5f91f97",
      "3394afeeb2ca4062a23f6ab2f4bec715",
      "be1ef142ce70448face64e3d1d8c8b87",
      "ab96520e70fc43aa8088afd6d19ab6cc",
      "c6615667cf274f619109cb1764b72add",
      "ee33ffac9787459cbacd7bcd2bfa6be2",
      "92ca9f02c7614ce5a62332327c091bec",
      "9ab8e761cb624aee8df3f1d28b78cfa6",
      "ca5abd7df74e4d8ebc1a3b4ec0dd20db",
      "fe4601448f1e4acd840f9e28526f31a1",
      "0d919976c0a44c59ae150b8ff915d517",
      "7392794614d042399c5eb7847c5d3992",
      "f73fc2d0b7a9474aa483f0efd748f936",
      "d172410c6269440cb90cb19bc58336e1",
      "89206783701c491387cd31970e51df73",
      "feb39057f7f9468a91bfb64df91e4a2d",
      "07bea6fdfefe4daabe428b6cd657c59b",
      "fb37342bf2d54cc8b2ccf6c48a773533",
      "7eef619ccc914dc1b161aa08cd41a5d0",
      "2fe872d615c9427eba692cba53a77360",
      "4e43613885b6476c93976f1849d289ea",
      "f6ae0ee3f590407cadf3dd303c6bb78b",
      "8ab1504398364b92877d739ba3e47ef8",
      "21daca30d1f848448cff5566b04e6a40",
      "c9eb0c2b5b9a46aaa0034543bfcb4347",
      "04925741614b4c96aea92deda37831ca",
      "0a140ddc1a254a82a76f27787211daa5",
      "1ffd5ddd7bce4f9c9a0543eb2640a909",
      "c089f1f404ef451da76cc0055c85c582",
      "722640b78b3444e49999c012e3e9b63d",
      "7904ced11ebc4b7998d77f79843cf306",
      "465848680d104aba93bbf0add9732cd2",
      "bd1d096f36b8434ebdd8d3a36ccd4ce0",
      "43088f760c1b4003b107d43b605fa28c",
      "6d6784e50be14e25a78283879e51bdfb",
      "5543403736d442d998135dced1d3ef54",
      "688a7b64df654a05897170c4cdadcbf2",
      "14ce4ce2366d457ea7204c14ff95e402",
      "5ebefa117be24bc7bd2b2a61889cab18",
      "c529e1a6de5b4644b57d8cf325876ea8",
      "b96841863ee643cea63d23ad3702b882",
      "f1783c084149426587d16a7b35e19489",
      "6dbadf32560e425e892cfe5392286c3b",
      "c6d83609bee74d01b9eafaa134fde2de",
      "bf3e9891f1ab4994a736a1d25e9fe556",
      "8a1d514a9c8a41f8a34949b5d40a1c4e",
      "1f16a39548444ec295c8597f1977d981",
      "099f646f5ecc4082bd9b2e686406721d",
      "ee0dc32bad224c1294f649c82fbbbee6",
      "5103f3b3b9324584a85d42153ffc07eb",
      "d923ecb658fb41a2964e5cab7287409c",
      "e623842db6574ff78692f8e8df76002f",
      "655fe0ea4d3949779620255a8487e794",
      "4a61b8bfbb6c4372a3846fdaa4159157",
      "f1dbe715f3cd4d029470de65f68c3529",
      "671f17bfc7f84977b34ddd010dfb1177",
      "04df5c13fa1848d8906c9664fb6a82c3",
      "014525488fbd487b90e88b414139789c",
      "79736b6f77b44abd81ed4461b0b32bbe",
      "34b941db3af74d1ea35ebf21efb9756c",
      "5fa906c614de48efa8905fe404abc44b",
      "f744f9e4e2b248d79c253da5782dad85",
      "bd4bcecbb50143219b2b908561df9de8",
      "31e87a7227bb438cb5cb26f988f72931",
      "90c0da932c7643d684019bb868c534dd",
      "e18037be32b5422ba7f95bbfe5c86cee",
      "a141a98c3ee64d2f82a0d4d998d35f3b",
      "875a5291f8dc4f5d99e067482d7a2a79",
      "73fdadb8c05547a0b961cf94c2a7c219",
      "179397ac7f9444679a86236d124944e3",
      "466b94471b7347509424dd9dd6261c2e",
      "24626f004aff471486eb2788f21188bf",
      "68a694b2f94443df8152b48382c1ba45",
      "50ddf8b0983641df97305215712b3802",
      "bd8befa6d5714845a6628c3b693ceda3",
      "b9143c7d4bec4b7e869f1533c50d10c0",
      "47869b7c11644b0fa33958e4431338ae",
      "d34a8e3bc2bc4823a52a8842145821d3",
      "5b53c01edede4819a45d739fac4a7b8b",
      "ffe1a4ba372044ed80538dfab834e8ab",
      "c9c46e9fb7104243a50e3aabbd9b52bf",
      "d4723e4aab544dac8f0886a635915758",
      "16f043387f1a4915a9ef183d580a47c3",
      "31839e798d7649d5b7cb58860fd6ba99",
      "8c8586a4e421401c93c26c65c7a93e90",
      "77d7c4498ceb43f3b697b320255f0e78",
      "6d12eabec96142dfac394e19221b3d7f",
      "85e704fe37b543c58b36085b3b2b8f3d",
      "e5b18fc2466f48eb8c563645c5879d01",
      "918f004c0de541548d8ad8b743c212a6",
      "0b27ae9e2ab543799514fb85762932bb",
      "64cd44ac561944b68cc7b30f8b8d384a",
      "6dcf35f4a15840138e516fbb7c399b18",
      "c622eabf5b8149f4ae3eae4e6a15ad1a",
      "7395fd207da042cba409bf18499b2634",
      "836c220c078b4d94b649378bb6e7ea47",
      "d99f60e076b44fbcae3d35b9c1d1b051",
      "46c109a97a9743299b9d208660a449ad",
      "92eda4af907d42bb946202b811da8584",
      "3bef8ff57f15473997695c9a1c47bfc6",
      "68526be9f4f74f5cbec5698127d82945",
      "ebf844b99a9846f6a36f32b58f0148f1",
      "fe454b317a2e4f618a45367cde6fbbef",
      "1eabea00288841529eb979e419ef260b",
      "f88421859460423b92ea01cef0bbfea2",
      "9f0e84a9acb143b5ae80f380b2eb561e",
      "387b5905f8b24df987c05de3984d2700",
      "e47a591d220a48a98a632a4b44342d71",
      "03f195260f8d499ca8e7714d89828361",
      "71a1e257dee6465189afc8f6cf525e95",
      "d426ec02bf374cee98937b0b0e0462c7",
      "8935670cb8364bbb8c4ead0e52d28d5a",
      "2ce4c5ad99c74c0bad062e4ea8af8582",
      "4179981ad4414ca6b861d628fd7e2de5",
      "d965a092e2c5436fa8aca541ca19807e",
      "00259d66e0074e32965a5ae5cd5024bb",
      "aa87df6b844048a6a843b73fd3058ffc",
      "cd8f7f99796b4092b7ec65e5a896bf39",
      "3ef116c09fd0413183f8b595602cfbac",
      "4946a157671344f088c06748f3d83199",
      "585be6ceadc64c9aa8d3e3b879a1eb0b",
      "d4a5939d9fa547f39a2896c6c91cd2d3",
      "5ec8e00a79cb4726879864a6eca4b1c1",
      "67401f4729904a6989601ce1fd3d7083",
      "bb8ffad08462404d8c68431137569939",
      "05e6db0478fa47fb9874ce09730c1721",
      "d8f324ce4c584d3fa88b1c3bbb55786b",
      "4d3c268490c84e348da3d622e75cd85c",
      "303b0ab3ed3f458a993e0eb4e58e7ef7",
      "7e6f2372e2404c5b96ba7f76e5077b19",
      "ce12744a02b14e799c664dddd1486cc8",
      "6de5b47a143b4de0a7ffd98fc052b708",
      "328ea059a5e44d40b05340df1f1f55b4",
      "e9842499763d47879a765f426317830d",
      "eb62acaee4eb4a878bf2eaa8f0319ab9",
      "697504d9b2d84c389a5f2afcc60463a1",
      "e07d8b2e39f74d4b813170a173e9d549",
      "18900626560d46d0b4691388946ea845",
      "21ab867953e441afb9b384cbfb0d011a",
      "b57cdc099a0b494d94543998ed406b8b",
      "21a7171737314fd7b0daa81332739565",
      "d80a72850d15462d9e0a5c7d39aff6a0",
      "1d4df270bac6448687e44e2a6b1d8360",
      "535cf491ad4e4a7fa26238e48528b042",
      "09ead49d944b4d25ade99cb55d492b0f",
      "cee3faaf04f64ac5b31111f8e6513ea3",
      "2c44fd4c07084af49879274faadbc69f",
      "c50bfdff7db94b758354f953ca74a0e9",
      "9d47dec5cf2246c69b702a7e74872456",
      "30322ce9be644a03955414de94aded8e",
      "2b88dcaeacf44342b42d022922248c86",
      "5176d2f4f4424e15b8c60e6d8461087e",
      "ec625dfbcb174eb585f04187c6199c41",
      "338839d5bfea40b0b7411ee00466c35a",
      "102a351d991e4642b6e43433012848b7",
      "20849046c98a46a4813d97a3bf0ec28a",
      "f6947d65c98341be81255c8550518505",
      "d690feeb3d9f4582bc6b32288cf83519",
      "01d70abcd1fa4f2280e7bb3489566353",
      "016d9f0804f24c68a6215224cfab42bd",
      "ea54f95e0fbf4e0bbf6288fb18bdd87b",
      "6c4c7a12784847c7a4520460c5e29a0f",
      "7b2d2d2ac6dd43a396b73d3cd2807829",
      "23b9264287f8479b868479e624f80726",
      "883ee43b8246453c9b1ee2384f0b6c90",
      "14a4adc6ec524d73bc3cbaf9df7461b8",
      "e3548fc2802d413a8d99131ce71fe765",
      "57186e41183b4244a2c622ef0e6ee363",
      "74905b06847e491f84537876196d8efa",
      "7956412d1f7b48eb8100f000eaae3f01",
      "116a65f0f31b48c19908ac83bed8831c",
      "5ad908ee196c454e989c1288f75313db",
      "586e52f2a62c45d99ec5e2d785e0d659",
      "b03f7206401949bd99cb8807a8383d02",
      "3d9607bf92d34837bac7dc671be3ab69",
      "6c9f6359f3ce477cad60b1eadbb4377b",
      "56fdcd31c2684aed9878ec845114caec",
      "21705ec6f3504a888da87b1541adaa57",
      "4577e41cd8094f4cb4f7718fc486c243",
      "467e31d36bb542eeb83bb05b9b633e7f",
      "f07af0157c9a4ba68ca5ce5fbc9babf7",
      "b940e0c2817948afa8f10ef41a784bd7",
      "fd759ddb2bbc4ce19ed86553a23ea897",
      "75f73f43ac5747cbb9f830349e0cab28",
      "3d585a4d65434786b4b6a12060faf180",
      "be02538626004a8abac583f379df8426",
      "2756f3ac090948df9be72152d3952218",
      "7f96818519da4e5d947af8a64d08e83b",
      "78ebe5c008134bc6b501439eba557912",
      "dfee76324bc544d0b80f94934282afa3",
      "ab921ebe3a3849cb9d500cd7e39a2199",
      "e883811952a144dcb938afe1def3da45",
      "18eda8539dd344db92173c51aff0dc5b",
      "a678e25ed2ce4760a3894c3daa2f637a",
      "da9f036317894370ade2f6749d7ef63a",
      "83cc26ee9d3c4af2925782bca950e82b",
      "0a1c3d0048f345588eb8c5fb59870d2b",
      "4da838d7587c46198da5c93369510378",
      "edbb7272a1b04626991c368b1d3f9f37",
      "53f7d63995384d438d54b0d2f7755bac",
      "1f7a4ef7e7e34a3b905391682c70fcb1",
      "eecffc6a167549798716cc35651d6521",
      "eca6c90680304c11b5be0770c51615f2",
      "f7c69958d500474fb4781cb11c4c3ba3",
      "a52e300838dd48d6979e5f0b674fc3fb",
      "cd372d8aa26343209021a9b4a4a92396",
      "fc18d2198a854cdc8e26c3a38261723d",
      "15a1adef9bbc4a3f9fb6b58e97e0c042",
      "52bcf7ca8223456da8fb9870353cc452",
      "0125b164207846d7a0d38b21b2129266",
      "941e5f091afa4bb8b07a2f7c3d84976d",
      "4fb58d71c89f43ba8c7bac6669ab12f3",
      "dbb422b1a8214129a6bbaa39a3794104",
      "2f6f0adfe64f4bc684aa80dbbb121b98",
      "7114fbb0e3454940a92db8556438c77c",
      "6298ebd0399743ccb7ad63f565206f41",
      "ea4cb8832e644e5d82d1fff947d02f59",
      "b9bd9be98d084ae08a04182fe5f741d1",
      "b3fdddf716ee4e7db2b4b825ce8dc738",
      "e2d000247af549c1b7b353b61fc9c124",
      "0d00675c30664393b64552917baeeb3a",
      "2289b7e19cf54fd48e39cd5701eb6748",
      "badb1e8ec496459fae27901e2a105107",
      "74af98b8d3d3463eae1d84bb06b68d59",
      "e5c2cf69ff6d45e1a25b6bc3a0999953",
      "ff6bfc24c0cc4f65baa05b3cc809bf41",
      "86af4893e5284265bd2779bb974ded4a",
      "532f0d8a2df040fb8e0548e107011d6b",
      "65a7717a44c34347bec54a7e63fad209",
      "2245b372c9d84f1baa295c1d15bfc5db",
      "a5456c5c96384367affdacaa9fe4b9bb",
      "e982ae53ba434fbaaae403c4f27e6816",
      "7e647cabf3c546f9b446b64dbc4aeb4d",
      "53e564c8f59d4a2c9897b69c35207b4e",
      "11f5f6c4f2eb4296883aa76969f6a2a6",
      "d0947a132eda4ffaaf3922e985d6c22c",
      "96e04ab4b34940f7920c943a195b9fd1",
      "fa81f5cf30a748fdad256b666fd0138c",
      "227d4b3cee4840f6b413fb096b7b43a8",
      "a15e73264c174335b8e9f79662c25474",
      "565004276dfb4f4fa5fe338cbd42f165",
      "f6ed27a397a74b7f9f2d26089a18e46e",
      "276c76ddc8f4413b9312847fb14def08",
      "f36ac17cc4b54c3195c5909a4de98db6",
      "771a5458080840b286387b9ae899c1bd",
      "7c04345c9f3e4e09b2c98c79aa894990",
      "a288a7bd5c9d49e6a4209428a23d84ad",
      "b9325f809ef6434dbc5d21248e5c4a21",
      "25610bb42bfa42278ec0fb86fc92f849",
      "e9e617a67d174a11a81032255a628eea",
      "8c0fd010de6843b2b1aebe4363ca2a7f",
      "7a4349d854754fad9b450fc6e02c4305",
      "77ce051cf90e40aab9c0efee18d626e7",
      "df533488b3f3442bafd37315d8b7eb68",
      "8e306464e5b1468c8ba46d00ed5e805b",
      "62878c00947445ca8fa4e369bdfdfddd",
      "ea93287f6d994c51ba201f16e9f0d000",
      "8e163daeff624e73a3f5596b04a82e8a",
      "dcfeb3fddaf34321bb7a02a40669054f",
      "90f04730de8449fda9c4facbb04efad8",
      "ef5dedecf4e546a889034bb1c1016ad7",
      "81b1155b02414b2abc180f65747d2cf3",
      "f09a82d3357046cda28888398cc1386d",
      "350596a4e63b4077a33ea263d03f539b",
      "810fcddc02154d7bbe6b616b67176897",
      "c07929fbfb88403bb74c5bbfb1bc3501",
      "2e7b4bdd6db2404ba3f68bbbb8a36521",
      "1e6be20aae6a41b1a7a987b34f387bf4",
      "ce509c9d390e4f809d63ab90909a1d69",
      "b58995c7865c4f4eabc64cfbcfec75d7",
      "8f24637999ae47b1956c017a0db331ff",
      "afd4f5f7466b416c8361b0f1d85fe861",
      "f399f42882a844db9b96dc45b5c493be",
      "3ffbb19dcd4f4863a4e32e7f29425b73",
      "ce04566c60e549db817b2ad1cbef8d3f",
      "488a8cffc1584d999ada718d4f958084",
      "ec13ec358a5c414ca04f354647b9122e",
      "27c7a8e0a85b4c6e9511c547cc8de162",
      "2416db1376854b03b74cde50c94aa780",
      "40a7290bbec1498f879cb1376141dec9",
      "6579afbeb9f74fd68ce1d7bdc9c52f3d",
      "5dbe1efe5d284d7bad0c0be66a57fbec",
      "d55f705f1e904e0aa1a3ac223b738926",
      "e2fc49fe9a03482d88a0044ad45dc29c",
      "a9f90b70f8ef4f19879a8c8343f996f0",
      "99c2a75f0ad944ff811d5303c0a85e1c",
      "61d9768ff823498883a2fda8b0e2ef1d",
      "cffa16e1e8734b30a939923894119d62",
      "e700531d274040efad242ee5f3f6eaea",
      "1007350022be4ec9be3fcccb37b9f602",
      "f80cba48a4c74243b31f817df8e6dd1a",
      "e3c25b3df4c74d0f8b2724c14d4421f7",
      "47934b46d74e44d489f0800291966697",
      "818f6455f1604ed686cfc5b9ac9f2f17",
      "7165650d68fd4d3897940bbd4fe778a3",
      "74adfdad76d641afbc09dbd2236dc7f0",
      "c394cb0651d44219ad08220ee9a55eef",
      "ab73296ad0ff44a488c7e8241f05e993",
      "b38b7acaa717468f893df16fbc5ccced",
      "284cfc53c9a54c87a04655463ec7b362",
      "871dc2df8c934fcf932486cd82d75c48",
      "7ebc8b4c9fe147d3a8fa942aba14b698",
      "e5851e709ff445eeb184e07ff947876d",
      "7ceff9fb656f4de2a094b7180754f940",
      "0caf1971907a408db14e0fbf11616b10",
      "71c88300390f457eafb28b9d9b49f24b",
      "ec7f08a58aee4e7196a05d3b9411e3bf",
      "2c229d3620c44aef840910e346276563",
      "1aa2414b2ac2498b96fe8e1636065562",
      "c9cac2dc19df4512ab98f35b0cf99617",
      "a716ac9f92df4ccba123543270501555",
      "5392db81d16443b9b1fa9d5f902c6e5a",
      "f1f1124124ce4275920c522da2c55fd7",
      "622fa928dec340f594c3ee95841da28d",
      "912291929a4f452bbb6bfbff15fac7cf",
      "360ace252a1c40caa3e7170c1a02c519",
      "07a719a67db044bea644f00beac9874c",
      "a5697cdef08b4ba28cca3db0cb6bc923",
      "a5435ee4add84b01892ea79bb8094f0c",
      "0574586dbea94378b70033da8122c0c0",
      "eeab5cbbf21340abafacabea43414e1b",
      "231360a917d34330bbdc22db7e177e53",
      "e4437f25ffe649ad9a191f86557c22a0",
      "a3b99b45573f4cbc873c3e34069bf796",
      "951a4af4e1074cb9a6db5c041dad46e9",
      "73c3c20167ef42dba8f820b3f5c84e0b",
      "579df766bb0445e0a8c76bda37699e08",
      "08eb64fac6c54f7fa1ab5485987cb0fd",
      "0d7333a4f5754c6ba9cfca4c1176b79a",
      "730c7b54ab614ccd9f8c67f47198ac39",
      "9fba94ff0b2b45bbb4f584d97307ceea",
      "a61e3f875fbe48218e99d49118a8ad27",
      "075e37b290cd4a57adf6cf2aac380fe1",
      "56319a2a3a5744e1859528db41e6a080",
      "41e959794c4f493189eaf960fa28f90c",
      "2e030ab122294672aed851f3da65397c",
      "961617f7046e4ae7b03a97b4af141a0a",
      "aa0b774cb4f4445da0852b75173ef8a2",
      "323539472c094c98bfb6b17434cc85b5",
      "56bef506ceff4262b8e4b4d6935f15e9",
      "eed70ecfbd844cb0835573dc5e23ae57",
      "9ad6f09d70194eb69db93d37336e8acf",
      "f62d69c61b444a16a1bd28a3f303ace0",
      "a710af9ae57947aa9ab700cb8a2db704",
      "9a7d48da902b4b30a0aa957c1322a4f2",
      "7506dd942ee14ac79ae49a9710578237",
      "9bef2c147a754a6a8ee93822483ba5ca",
      "34707e14ff554c48be36cd1821ff915e",
      "c54ef2961f6d48a5ae0d57b1701762ed",
      "0a6114e7ed5344699301985473a49e1b",
      "6e7e277bca19463ba478ea7290d134be",
      "63b471f54c6f403ba8f19d35ab64684d",
      "d8c24d20db95407bbcc88918ca9091e9",
      "4466d143ffb1404490282fb9e22c0ee0",
      "9a63135a10a54040a0d42284414b0d46",
      "119575a172cb46829406665fdfe40575",
      "75ff064642e64622b2e341a5e6df1f12",
      "4fa1f115aa8441a89428014a840c157a",
      "00bc2836e30c40abade57da326996b5d",
      "aa7848df14974bc29b74be1bfb0749dd",
      "42512ed18b284a0e945cab417229eae5",
      "0f19d81f1117498f99f9c16a703df0e3",
      "8650a0b0d0354e419eab1f70a416a0ca",
      "01ecdc4b11ab4de7a22c544f7d17dde9",
      "7d867ed2587545b2aa81f4e29b4741ef",
      "1c772cb3becf414e8bce965e2196bd25",
      "53e13ef0244744b782d8148e46dbb7df",
      "87804874bfcc4ad3b81d5e383201fe3f",
      "cf88360f82b349b6a6a7e68566f9ab25",
      "f57052f344284f0cbfbb5e40dc6d1574",
      "8880f51b9ce84112bdbe5f1b5d23e440",
      "43d23b494daf4606b717e920f1c002fd",
      "29782038f52c43f081919f2d703024bf",
      "df393e1ee6de42ea9f41b49005a89124",
      "179d0225978f41b6b3bd9648844382ea",
      "12dfe5b87abb45d7b1fc1d0b9a89aa63",
      "cf8eaa3873c544b8ae10ba8a843c7ddd",
      "1b35d895b53543b8bbfe8fe53bfad674",
      "8c71bd977416427689b909424efb3c7f",
      "b5c0e2b60f5747c58ef7b4ea86fe4ee2",
      "14b62f88b0b9479995bba87dc4f3e245",
      "400cc2a85e3a426893e5f994de1263ba",
      "ccbd19e667474aecaac33cd8fd742b14",
      "0bdcc5d8c85148b090d725c5325daf08",
      "100dc925fd6242d692b997401f4b15ab",
      "8a3c4ecdee4a49d09f3e78ac7a78eb87",
      "fc828f26bc6e4521a0bc14e9f9efcf62",
      "6d1d9c45c087432c8f7a73366a0a8966",
      "2f6a48f568594e08b83bc4164513db2b",
      "2d4c0ed42a80429696d0b801f9641d59",
      "705c8d7f79a748fcbd436202f0a0b2b6",
      "2a70a5f5a5c54f3cb8895933b522a7ee",
      "26624c5e31f44fb580e15234e08ee6ad",
      "3e5cd414184843f792580a8b9cf928da",
      "995d75ed2d5b4295a0cd537ce0eb110a",
      "410fbb5a47014f25918337fd72be7c6d",
      "02e653145f984ed1b27c993d54364845",
      "e3cdd0dd20084179ac5e6276fcca6c2d",
      "81c28d47585e406f8ae0dbf1d05a485a",
      "fef4a2b2c23e42c09c290497f90511f0",
      "c79fc28eea054c5898a2ab331d860906",
      "a6d832a38b0543e980d372e844ee072e",
      "b0b219b5105c4e52ba5e21257da0411c",
      "0e1ca235eeda46539705f1d93ab6ef73",
      "d2c14fe078be416e9d620d5e2fcd5f57",
      "32278f5e0d994ae6b439b37886f5e813",
      "1e08503bee88499d8adffa55240c83c5",
      "76a1a55964dc4addb1f6ff3d168c2c8b",
      "3c3884d5ae5749b6a767e014fa600d2b",
      "276ccd221a714ce685e22523630b04e3",
      "08dd53fa1a684f06b7e37ec49edf151c",
      "58c8815672b847a9af96bd4cedd7831c",
      "274d10cc7b544a38a1e1c4480a40f97b",
      "e3878701c1eb49cb94e32bd229c50889",
      "9b0ebd59c17545cda6b10ce50cf839dc",
      "dbf905a488a84c9380f7b2a2616a1225",
      "0690b334009f4b189e4402b1d8a9756e",
      "32644c7f7939471985ed31899fc14a9b",
      "d4bc11ab81634aa79c18d0e3a4db5b8b",
      "c4b530bc876d450492ff2d36fe2940dc",
      "aeeb759d654e4c5fb45952ad8350cb3d",
      "3b2308d9aac548f18e41767f8d19fe2e",
      "fc5c80e2b15e4077bb24773ecd0cf917",
      "e2025e0a78ce46f98603b93534fa3cbe",
      "d6e1566aaad3471ab95d779b6fbf1c0e",
      "e5143e54eae54f018ac85bc98f38721c",
      "a7fa446bc46b4be59dd0e1aceb9b1b36",
      "a4fe68bf72f644aca7e781f5c3e2d23d",
      "282cac6a62274a2997562ec6d3dd1c1d",
      "f456b958b2b546fb81721f83ae72b536",
      "87636a60e3f44cc1aacf371904de2167",
      "7c6eea4450194ef7b3056c0d560a97de",
      "53c0251a04db499dab2b337fb3bbecbf",
      "d7fadb3ddd044a0095e42bf37f016365",
      "8f3bfbe6d68b4ce6b658950ab0fe3cd1",
      "665e9b35b5a44a88b0e2f1c4d1bfdfde",
      "3ced1c8eedc3497e96796d34a70c9f63",
      "615c0ccdbed94550890065d3360db486",
      "f11ac3d0f7b84d989dde407441038410",
      "2acaede726444dcda986233e8bee09cb",
      "ba50444772d74461b85aa6a868607a98",
      "f5d8d57958ef48bb8d9e908c5e0f0512",
      "d2b4b310f4d141c6bf8ecc3c6ae0918a",
      "ab73935ebf964ba4b7dea5b2c52e65c2",
      "20f473ec60e04025b4999e38dd6c53f1",
      "f0893fc658a64957877565bdd77a4466",
      "f0c2c06a32df493081ff964b57627eb1",
      "bd0ef78d34b345f6bb0a6e6564ac7a27",
      "c31694d3879945fd8bcca3d0f6064290",
      "92406d81edd14fe2a10866fa5e249744",
      "54a5f2036b8a438982ecfa243e978790",
      "59edd7f4fb5e460e85daa42bfdc97fb8",
      "6f913009cd1c487c96643b91d4e64c7e",
      "11825b9d39f44bd5abc60d2a48c11d0e",
      "fb8b52e64365451ebd5369de3cc0413f",
      "b062bff38272496aac14717cedee2542",
      "e001ab0bacad4e67ba11fff0be716fb6",
      "abb36466ecef4f4ebbde7535ce6cc38c",
      "fcca8a1cf8594ea29b49cc0cdf508bd4",
      "9bfcfd255ffa47818883d5a4948efd42",
      "00e5497f99904f15a5b3a1c9141d802b",
      "294b2278779e44bba46a139b2af0c77c",
      "d6685042b8fd4d29a97d2dc91b3b90d7",
      "6f58cbd321064714ae64a7562b97d46d",
      "be37cd95bece4f5bab0b5aee6d949b04",
      "6f4c6f18141242a791cb796fbcdae060",
      "f659ee3ace414315b9f654f59b63853e",
      "596ccf05f2e84ba295cbfbfc33090128",
      "72a28f527ad0401aadbdad6f1492cf57",
      "707a0b7137b84c10848150dd23358414",
      "b742594a8a1a4a83bc7417121af23f31",
      "8e7a5ee70ee4474dadae101749cb233e",
      "6c2b3753524e43f097664ac3262b33cf",
      "0c160cc20ded4e6e8a428b709fae61de",
      "7e02803c915945baa608a7ed3c808f2b",
      "9b14ff1fe7a749ffbffcc8339e576e37",
      "3e2ab2d00b6042028f9fd3175426d9fd",
      "d95a99d2381f439482fb8300b0dfb195",
      "9132fce3250942c58358fe6f01f5cf3b",
      "706b79a31e444861aecfac54cd0104a8",
      "f8b3aba495c6487c9c47e8d5725af43a",
      "ea63545f454243ad84dd2085575a20b0",
      "83b6dda9aefa4af78ee0e96e68435ec6",
      "18027d9f86f049b08857e3bfa763aedb",
      "2a9a51ddefcf48b586c92d0c03137a5e",
      "5d94880d8de1406aa0ac80e60c4739cd",
      "b15b1b87e1ad40f6bbae6393fb3c57eb",
      "2ad0e326cd8d4d6d82de0e533731e173",
      "82d930f236f4411c9b1c91dd316a0d83",
      "f1f1fd968d2347339b196a1edd1dc565",
      "d6390ff25a0e431e9d024036ea702e1e",
      "ea8c9d0445be4315a0e751d70d54ed6c",
      "989af037c7ae483790b727107405372f",
      "3542dd37f5d2415185f1ea06c49a8bfc",
      "51b5f2520598408fa1271163822f09f2",
      "fe445c5230b94148945df2f7a04b720b",
      "c8b8934d95034a3ab26f7a7013198a56",
      "a3043f687d774fb8bd2c0bb977a62ad8",
      "6964af555d9c4e5d808e362165faaea0",
      "407284e4b477476690356b43be60d989",
      "4f3f57447f3d4f5e9292d686f6b3406c",
      "57769503f7384dc5a7a948bb81f32c70",
      "f9a9aa700c0f4edf86e3ec3a2de65ea7",
      "a7048cd1e3b04d47a1da68dc3871db84",
      "eec6225f05a2420cb68c4f01e50889ae",
      "d1f5e116b126479e8d932bd41ceb6e7d",
      "dc083bd823ca43eaac161786e6a1d636",
      "ed65da35e57e497faee4caab9558a3f9",
      "8d6f2580942a48b99d4e98942800524e",
      "e7187039a9db4e7e948bcf3e6463a87e",
      "2d0013ff90bf4f9d9741d084082e8980",
      "fd31edf7784141b7b3864865a302d505",
      "61776d3040f4467e96e4c8208a75eb17",
      "cfdd9d5e3732433b96483d95f5b761f2",
      "ad2f426969964ed886e38e873152fb70",
      "ff697c5e621d437cae15e0f0825b4f85",
      "015b62b42d0444c598073da4cacffa77",
      "b5b13933cb64477a8c6b7771c9c20708",
      "8e0627631fa44cd79a0827f1398270d4",
      "3ad1991b948049efb73a757d5d3439da",
      "9ffe9071c5014a93a79691460a417fb8",
      "211aa81dfdf741d3901a180b245787fa",
      "1d05b60d931d4af1af51c9e11233ad8b",
      "2b4aa2a865bb416fb9bcabc7477a8ee4",
      "fc83790c17fb42749c91e4b78468c2d8",
      "d9394d84159f42058cb836ac7aa148c7",
      "786e3eb6b6624eb1ba43d1bbc752f8fa",
      "9f18b8cc48714881a2a02133062f835a",
      "86cd0c650ea5463b8f32f46104771e84",
      "a0f8f517274d4576a2db950164c49784",
      "274ed92e2fc54919bb94aadba7a7b422",
      "a0e543eca51a4f97b6504d97035ab56f",
      "a4d6650d7ee14fc48d89b9ca492a016d",
      "96ba8a8bc708475e8e81bf5d7d4179b2",
      "a6ba968cf4664e34b63c3e5fbe7057c7",
      "88f62d3b0c494493b936fe2a192867ba",
      "6f5b3bee35e340b8b0f720a178a310c1",
      "807c1c0e11c942a6a4a7b3c6593272a8",
      "f0694c6e4d344691b8d4948b70d1add0",
      "2c05e59239ca418ba65be3f9b2f6c3d0",
      "1971d0b078b44cf8a07542103863307d",
      "6479e1ee448d4ec5a52fe106164adf8c",
      "27b3aa0d896b444a9f1890a06f430e4c",
      "7779f14e54ae48a3ac0734cb70993e08",
      "d93e1ff440d542969f02e7810209f5bd",
      "6611b585fc2f4e0aa70a96a81e74cb93",
      "334dee9a69344801af08b502d7625527",
      "8ad7334f5ac0405ebe6836d2f4e2eefe",
      "7165bb556dc748ee9786eb4d890d6c64",
      "f1705efc84424559805f797ce8ad6874",
      "c64b95896b7c4690ab27b5372e8f849f",
      "b8ba0634f6444ccda7c377b1263d5f62",
      "98953c8ca9d44a5380e60ae43f966544",
      "4af650bf49674596bbef216193f8e63e",
      "9cc032f33b164becb3c3114988668d5f",
      "b0f7921e02f342388a20831a84aef8b8",
      "8c6b54e4c59f41578eff01a125765e43",
      "e63adb503efa4f7ba75710f226f5d9f2",
      "858c011c0c72495986d221b68031db8c",
      "93756fc8adf247d99c099056d1ecfad2",
      "8c171282f6254891adbc2f3e24bc67af",
      "c9c89dd438524a43954038de4f18f18e",
      "47278d3592d5458b8acea20b132c2ff3",
      "8bc823a86a4047c88029a81001b03052",
      "bf20ced6c1aa47ada0ee24e773045c5d",
      "ebbcc760be544b57a78ae5e9938c6e4e",
      "681bbaedaf3b4d379099fa8e436d0c91",
      "cf05e390187e418db273538fc22301a8",
      "fe0d9f8e859945fe8dcc329b2901bd34",
      "53861cfe30d04ffcae7e50641dc0e182",
      "cb62354208d24912ac9b578d2b063710",
      "ab56c7ed18b14cb98c6e48b53922ae31",
      "0136ecaf15834f0fb9401acdbee020a3",
      "f7aef05ad79e47b58cfb6d0bc9a8c970",
      "9b8e3477b28943b98509c45a1a6335e8",
      "e8163ef9af01434ea6eb9746324807ed",
      "f84dbff7e8434536851b597881b4564f",
      "38e089aa2a344a87a9d70b8228295071",
      "e922be146a9846a9a0def3e54d9293a5",
      "3541856d2d2e498da1b5bdf575622491",
      "5342d2cee6b64a06bcf186b2722b035a",
      "071954d7d6114addae50612f31394a9a",
      "b6de99d34bd04acba99c6239e519b3b4",
      "21636053f1cc4716804b2da84b50b1a9",
      "ce7b216926e64ee5bd67ba7e811796bf",
      "826cce1a66424928877801b120e2cb85",
      "7fd18ecfb66643daaa07977588866c77",
      "0462ed883232405299c49b78123acb9f",
      "222b3e72caeb4595a73de41c4f1fa63a",
      "a9f2f96e27ab48718a16cb4f577f64e7",
      "ea852c6922304009b5979028ad79ebc8",
      "522c185c14214926b33e2ef7d963d9c7",
      "490979284243476099e003f2cea5cddd",
      "ff784bb586f04c82b251cf68953cda18",
      "85e7b946862642a283961e4d8a0530c2",
      "906698c64ed845c78cfc6943e79642c9",
      "57dc8cf414da430aa142670fe75fe01c",
      "5007f3e0473443fb8035dcfde530a15a",
      "80b2c98c7cad491497b8f35f98f95cc7",
      "7cea82e886a048fa8a62e85ced45ccfe",
      "5764397376e14c4ca6adcb02b77ae6ce",
      "70551b36b23e4ca58085786e6bfab553",
      "d0ba177d1be94a4db3aa2834461113a4",
      "d0613a5f28ae428c977ae2b0ba10eed8",
      "266dd483e9f54aeb9ea59a9e590080bf",
      "a701c21122e84e59aff3be284d2469f3",
      "6039967097f64de895cfe2a4f17697cb",
      "cfd90940c2d1491ca1746fe4cb8bcbd3",
      "ebaa5c92fbde4db39cb2d526143ded5a",
      "427558da9609487a81a053840a0a2138",
      "a6a62e43f0234ab2aa3f022a71b4c6fa",
      "52ae91985aaf4692a25f08e62a48d0a7",
      "92b0578f3ab64954994cfdc80423c4a1",
      "e7cad19a328b40999ffc8c23bc8fbbb3",
      "56bf38f0cb3f474dbe7e71c1dc2d311b",
      "373dc98a1e58418c8e17fb4b161f0a8b",
      "bf950dcac7ad465fa98d930c73fc80f5",
      "b933b7cd61ce453583ac3ee28f6ec9ea",
      "491da659b37144bb8f759667e75be087",
      "18296f13e7b540188725ff6d3dd7ac56",
      "e33bae0b0e454f168dccbca9c0434308",
      "49e74d1f7bbb43ceadeac5be5bbd754b",
      "323e0658016340aca27b5b35d05ef772",
      "77b62af8081d422286697648acd7c17f",
      "23a65bc9ddce42f49f993a48fbfa969a",
      "c475db03bd04410cb397b190ffd88ad7",
      "9fe192546f89453c98351e9a2760b2c8",
      "4e3186b594e4475caffc1c2487057e0f",
      "d68e92e0ae10449387628f7d10185816",
      "f762e715940d4bfca3b642964f96a156",
      "054291657f7048e09cc98ce60c764dd9",
      "42c18d3cab8d4128a78266189c9e4925",
      "8d36154650324e638bf9ea9a727d6815",
      "8a0ce5a95b284d6badeeb1e16392e580",
      "1f6a309e0f7b4cb58f21727ca6d0366c",
      "9db2332b733d4898b02b8a35cde6f135",
      "14f1c1190ba74686bb18afea703c26e5",
      "407a0ca94613468581c059c31bd85f8a",
      "82361b221c764707b723bc9ab09a9f96",
      "b01ce42a8c5642bfb71ecd509aba5398",
      "19c5066599304df5b423be07dd5f7d4a",
      "ac67be95f36348d2944c1db177040738",
      "7a74e3f689ee4698b32ca90bade69975",
      "f2460b29f5614f2c98851962657a6114",
      "7ab758d7570c462f859327f1f716a4ce",
      "b59a914b64fa42aa865c3d7314e18aab",
      "1a74046ab4fe4a1d9b7313f6f204439b",
      "af5c7027e11c4c08865ea7b0344ad7de",
      "1e7f825af5a3404e9bfa67bea825beb9",
      "98247c28deab42dbad0ab79395116289",
      "f694dca34615473c98494ce1e36861ae",
      "5eef8e2955a64a15a47c2779bea82946",
      "487f33ef1f31445f88696c45545faf37",
      "91a5de72b54c45d6b575243e059b897b",
      "c1466ecde522460b99c5d6bdc81ea2b8",
      "7b5e774faaed4af7870b7048f176de33",
      "df585fc50da6467095e059cd48b363e4",
      "e3554f0b8e3a40439a384564d0337916",
      "5458982f16f54c07933ca1c20bc91b20",
      "bd3b95321c7349cdbf7075fc61edd799",
      "20d1bbe71321432586a3c5ede7b9cd35",
      "47d5625c74ee46d0b03a40416e6f661f",
      "48bbfc6ab02242edb6ed3cd211417743",
      "b5276014cccd4b29a3a5f71ddf3cb327",
      "4b6eb5aa0c0542aa8fa7ec749629b0e5",
      "85b003c54c704eedb24e0b9dafbf5cb7",
      "6436a539f1be4a13812e6fd3b32d86e0",
      "102c973b147c44deafaf6742dd6fa769",
      "71d465e0455a427b8dc8ea8ae6250058",
      "51080fe05fe3494aa09a640d89707515",
      "207a5a52a26c40b0a415ff479de9e495",
      "10f0cdc24bd8422f9f366a37261280d4",
      "5c907bbd98b7469d92df714c37ed51e8",
      "0e52d33a5b384cf9bb7491b5cb19f4c3",
      "4639659ca71a4810b6e2d9e96875839a",
      "888db134730e4358a962231163e80941",
      "2b498fc9ec4b4288ad0d70dcf5b742d5",
      "1d3828cba7b84d578ded4c342e123ee1",
      "71c7a0f1aeec4a44ab01e25c90db0317",
      "0b2b78a0b44640a0acd6ed9ec2bfefad",
      "76052e0e1b134ee2ac249acbcebe0779",
      "617fa9d6729a4749915fb9a621f3d6fe",
      "2f1e6ae0f9a945bd8b3cc4206f1c0523",
      "f4280e63ac8348c5904a46a4684311cd",
      "46df4acfab8746ca817f80370fb96327",
      "31365c1feb4b408497103e88c07122d7",
      "2942a2236bef474b9d57a9a6377f765d",
      "d13867cb9734442e8680a13ea22ea183",
      "d54378adc01c412ea01ed548336c7f40",
      "f4078c49b7904350abd46a0962f1450b",
      "4f60189ea7604e269182c317ad235f53",
      "947d65eff2ea42399937dd397c0027b7",
      "cbe43db4a1664cc5a4f58ebaedbbbcc5",
      "9cde1e400f09441c8cfdb8182c050058",
      "1a187c254465483dac40283ce77ecb6a",
      "743bbc7bff0b47bfaf5b0e56254d3c52",
      "8e40d749167e4228a583a23b503277fb",
      "2a3b82c33db84a7dbdb7e8059d52e357",
      "c8605e14c1ca42c8bae1b03afe7eaa89",
      "513684d7c7d84510b8fa99f3763edc13",
      "a3790702ed544fcdacab3541ebc1142f",
      "876a68e3753b4c9b9c95e95cd7afee2b",
      "e49cb72af0fb4411b4215af371725d95",
      "2bf09d210c4444f79324377c75953277",
      "475ac02441ec47d09406a3de44b1776d",
      "125bdadc56f24f60b5fec1bc1c528c6a",
      "bafa5aa832694adcb307a2115f73ed2c",
      "b3180b106213498e92a09385b8cd7521",
      "c48d392a4042406ca87717701239c215",
      "7adbe66c346749b4aba4f4d622d76067",
      "58b14dc097cb4721a522f6b17528bde3",
      "7f71bc84a3a64b95a072a22759893a66",
      "9ce334dfbe774b17a3d583fc22b45b88",
      "a40e9ccbca994a3198e67899590620bb",
      "c3d887d35dfd47c2b759dfacc8812cd0",
      "2d5469c2262946a78c6767f08691ca86",
      "09be695fd20b4c798c98c6c3d65354af",
      "f9199e5db0494823982ae23212f1edc8",
      "54418299a6814817ad0f7b5b83be3eed",
      "9c83758a00f54803bb26b91764ad3bbf",
      "204820621b154a1882ba69a0f2ff9205",
      "1ff7e41e7e894bceae47bb902936b2cb",
      "a0faaeef982f4988a2c0e3bca3964a99",
      "cfe16865428944748848b382637381ac",
      "50b4b5098e7043beba9e1cd1236347bc",
      "8b96b6dac39a4a9985cedc48c03dd0de",
      "5d1102f98f3d4f5fa4e75b2c20a65964",
      "889cf27193274b349935560c343e0ba6",
      "0c58f7deb81d45aca0820d4ba91302a2",
      "7c85279a963c4f6892e0dafeae1ded6d",
      "32a0cf522a534ea3b6f0e2031a7e917b",
      "c103f75177e7408aaa17f1905e9152b5",
      "f9870389bd5242679f4eaa0a5c3652aa",
      "eec199acb58e4a1da1cee41ba3e234f8",
      "eb3a91a77a00464ebf3cdfa77893a068",
      "f3ece7b12ea347edb3b75c533e845b11",
      "d0e58a95eada487f8546535d5115e0b5",
      "f269da18dd924de7817f9aefcf9abf2a",
      "e6ab076fcbae4580881808cc806f31e1",
      "eca855aa2e424437a2a2c26b19cab6b3",
      "ddcc7cc7ec034448989fe6da80887a66",
      "8e9393d0e56e447dad5b00a8a9bb13ec",
      "ba420192e6f14269a5bd182c15e61a47",
      "0b58fc7590ab4efea93295d20d173405",
      "75738479bfca46d49a0506a2cc3348c0",
      "e45d5f4f782845609f7018e75ccac439",
      "3f60e0efed824d0cb8c42a8cafd42e31"
     ]
    },
    "id": "hRwL1kV4QcDK",
    "outputId": "82ee3fa3-dc87-487e-9978-ab3dc685c5ff"
   },
   "outputs": [
    {
     "name": "stderr",
     "output_type": "stream",
     "text": [
      "INFO:lightning_fabric.utilities.seed:Seed set to 42\n"
     ]
    },
    {
     "name": "stdout",
     "output_type": "stream",
     "text": [
      "Mounted at /content/drive\n",
      "Create sweep with ID: 307idpzz\n",
      "Sweep URL: https://wandb.ai/tejaswiniksssn-indian-institute-of-technology-madras/inat-sweep-v2/sweeps/307idpzz\n"
     ]
    },
    {
     "name": "stderr",
     "output_type": "stream",
     "text": [
      "\u001b[34m\u001b[1mwandb\u001b[0m: Agent Starting Run: 04597wt8 with config:\n",
      "\u001b[34m\u001b[1mwandb\u001b[0m: \tactivation: SiLU\n",
      "\u001b[34m\u001b[1mwandb\u001b[0m: \taugmentation: True\n",
      "\u001b[34m\u001b[1mwandb\u001b[0m: \tbase_filter: 32\n",
      "\u001b[34m\u001b[1mwandb\u001b[0m: \tbatch_norm: False\n",
      "\u001b[34m\u001b[1mwandb\u001b[0m: \tdense_neurons: 512\n",
      "\u001b[34m\u001b[1mwandb\u001b[0m: \tdropout: 0\n",
      "\u001b[34m\u001b[1mwandb\u001b[0m: \tfilter_type: same\n",
      "\u001b[34m\u001b[1mwandb\u001b[0m: \tkernel_size: 3\n"
     ]
    },
    {
     "data": {
      "text/html": [
       "Tracking run with wandb version 0.19.9"
      ],
      "text/plain": [
       "<IPython.core.display.HTML object>"
      ]
     },
     "metadata": {},
     "output_type": "display_data"
    },
    {
     "data": {
      "text/html": [
       "Run data is saved locally in <code>/content/wandb/run-20250407_115731-04597wt8</code>"
      ],
      "text/plain": [
       "<IPython.core.display.HTML object>"
      ]
     },
     "metadata": {},
     "output_type": "display_data"
    },
    {
     "data": {
      "text/html": [
       "Syncing run <strong><a href='https://wandb.ai/tejaswiniksssn-indian-institute-of-technology-madras/inat-sweep-v2/runs/04597wt8' target=\"_blank\">fallen-sweep-1</a></strong> to <a href='https://wandb.ai/tejaswiniksssn-indian-institute-of-technology-madras/inat-sweep-v2' target=\"_blank\">Weights & Biases</a> (<a href='https://wandb.me/developer-guide' target=\"_blank\">docs</a>)<br>Sweep page: <a href='https://wandb.ai/tejaswiniksssn-indian-institute-of-technology-madras/inat-sweep-v2/sweeps/307idpzz' target=\"_blank\">https://wandb.ai/tejaswiniksssn-indian-institute-of-technology-madras/inat-sweep-v2/sweeps/307idpzz</a>"
      ],
      "text/plain": [
       "<IPython.core.display.HTML object>"
      ]
     },
     "metadata": {},
     "output_type": "display_data"
    },
    {
     "data": {
      "text/html": [
       " View project at <a href='https://wandb.ai/tejaswiniksssn-indian-institute-of-technology-madras/inat-sweep-v2' target=\"_blank\">https://wandb.ai/tejaswiniksssn-indian-institute-of-technology-madras/inat-sweep-v2</a>"
      ],
      "text/plain": [
       "<IPython.core.display.HTML object>"
      ]
     },
     "metadata": {},
     "output_type": "display_data"
    },
    {
     "data": {
      "text/html": [
       " View sweep at <a href='https://wandb.ai/tejaswiniksssn-indian-institute-of-technology-madras/inat-sweep-v2/sweeps/307idpzz' target=\"_blank\">https://wandb.ai/tejaswiniksssn-indian-institute-of-technology-madras/inat-sweep-v2/sweeps/307idpzz</a>"
      ],
      "text/plain": [
       "<IPython.core.display.HTML object>"
      ]
     },
     "metadata": {},
     "output_type": "display_data"
    },
    {
     "data": {
      "text/html": [
       " View run at <a href='https://wandb.ai/tejaswiniksssn-indian-institute-of-technology-madras/inat-sweep-v2/runs/04597wt8' target=\"_blank\">https://wandb.ai/tejaswiniksssn-indian-institute-of-technology-madras/inat-sweep-v2/runs/04597wt8</a>"
      ],
      "text/plain": [
       "<IPython.core.display.HTML object>"
      ]
     },
     "metadata": {},
     "output_type": "display_data"
    },
    {
     "name": "stderr",
     "output_type": "stream",
     "text": [
      "INFO:pytorch_lightning.utilities.rank_zero:You are using the plain ModelCheckpoint callback. Consider using LitModelCheckpoint which with seamless uploading to Model registry.\n",
      "INFO:pytorch_lightning.utilities.rank_zero:GPU available: True (cuda), used: True\n",
      "INFO:pytorch_lightning.utilities.rank_zero:TPU available: False, using: 0 TPU cores\n",
      "INFO:pytorch_lightning.utilities.rank_zero:HPU available: False, using: 0 HPUs\n",
      "/usr/local/lib/python3.11/dist-packages/pytorch_lightning/loggers/wandb.py:397: There is a wandb run already in progress and newly created instances of `WandbLogger` will reuse this run. If this is not desired, call `wandb.finish()` before instantiating `WandbLogger`.\n",
      "INFO:pytorch_lightning.accelerators.cuda:LOCAL_RANK: 0 - CUDA_VISIBLE_DEVICES: [0]\n",
      "INFO:pytorch_lightning.callbacks.model_summary:\n",
      "  | Name    | Type             | Params | Mode \n",
      "-----------------------------------------------------\n",
      "0 | conv    | Sequential       | 37.9 K | train\n",
      "1 | fc1     | Linear           | 803 K  | train\n",
      "2 | dropout | Dropout          | 0      | train\n",
      "3 | fc2     | Linear           | 5.1 K  | train\n",
      "4 | loss_fn | CrossEntropyLoss | 0      | train\n",
      "-----------------------------------------------------\n",
      "846 K     Trainable params\n",
      "0         Non-trainable params\n",
      "846 K     Total params\n",
      "3.385     Total estimated model params size (MB)\n",
      "16        Modules in train mode\n",
      "0         Modules in eval mode\n"
     ]
    },
    {
     "data": {
      "application/vnd.jupyter.widget-view+json": {
       "model_id": "d093549093fc401593e48f555fe33479",
       "version_major": 2,
       "version_minor": 0
      },
      "text/plain": [
       "Sanity Checking: |          | 0/? [00:00<?, ?it/s]"
      ]
     },
     "metadata": {},
     "output_type": "display_data"
    },
    {
     "data": {
      "application/vnd.jupyter.widget-view+json": {
       "model_id": "6ea8d5aabb5f4076bd057aae2f1e4875",
       "version_major": 2,
       "version_minor": 0
      },
      "text/plain": [
       "Training: |          | 0/? [00:00<?, ?it/s]"
      ]
     },
     "metadata": {},
     "output_type": "display_data"
    },
    {
     "data": {
      "application/vnd.jupyter.widget-view+json": {
       "model_id": "579c91cbedd54fecb2bb09c8cfaf99a8",
       "version_major": 2,
       "version_minor": 0
      },
      "text/plain": [
       "Validation: |          | 0/? [00:00<?, ?it/s]"
      ]
     },
     "metadata": {},
     "output_type": "display_data"
    },
    {
     "data": {
      "application/vnd.jupyter.widget-view+json": {
       "model_id": "3c8d6defb91e422fb87a3c7c71faba46",
       "version_major": 2,
       "version_minor": 0
      },
      "text/plain": [
       "Validation: |          | 0/? [00:00<?, ?it/s]"
      ]
     },
     "metadata": {},
     "output_type": "display_data"
    },
    {
     "data": {
      "application/vnd.jupyter.widget-view+json": {
       "model_id": "f5ccde406001463ba408ca1b988bfd6c",
       "version_major": 2,
       "version_minor": 0
      },
      "text/plain": [
       "Validation: |          | 0/? [00:00<?, ?it/s]"
      ]
     },
     "metadata": {},
     "output_type": "display_data"
    },
    {
     "data": {
      "application/vnd.jupyter.widget-view+json": {
       "model_id": "bc61d91c707245b9a9bc031b4675d1d8",
       "version_major": 2,
       "version_minor": 0
      },
      "text/plain": [
       "Validation: |          | 0/? [00:00<?, ?it/s]"
      ]
     },
     "metadata": {},
     "output_type": "display_data"
    },
    {
     "data": {
      "application/vnd.jupyter.widget-view+json": {
       "model_id": "33f4e0fbf9874bdfab21a106a68ed40f",
       "version_major": 2,
       "version_minor": 0
      },
      "text/plain": [
       "Validation: |          | 0/? [00:00<?, ?it/s]"
      ]
     },
     "metadata": {},
     "output_type": "display_data"
    },
    {
     "data": {
      "application/vnd.jupyter.widget-view+json": {
       "model_id": "cf71c0b0f4204fcd9bdd84bb41d75625",
       "version_major": 2,
       "version_minor": 0
      },
      "text/plain": [
       "Validation: |          | 0/? [00:00<?, ?it/s]"
      ]
     },
     "metadata": {},
     "output_type": "display_data"
    },
    {
     "data": {
      "application/vnd.jupyter.widget-view+json": {
       "model_id": "1573a0992768462fbd05b273a7837254",
       "version_major": 2,
       "version_minor": 0
      },
      "text/plain": [
       "Validation: |          | 0/? [00:00<?, ?it/s]"
      ]
     },
     "metadata": {},
     "output_type": "display_data"
    },
    {
     "data": {
      "application/vnd.jupyter.widget-view+json": {
       "model_id": "a1a331084b794805b0450f46f303bc68",
       "version_major": 2,
       "version_minor": 0
      },
      "text/plain": [
       "Validation: |          | 0/? [00:00<?, ?it/s]"
      ]
     },
     "metadata": {},
     "output_type": "display_data"
    },
    {
     "data": {
      "application/vnd.jupyter.widget-view+json": {
       "model_id": "38cbd4a04a164acf8e561f222af11543",
       "version_major": 2,
       "version_minor": 0
      },
      "text/plain": [
       "Validation: |          | 0/? [00:00<?, ?it/s]"
      ]
     },
     "metadata": {},
     "output_type": "display_data"
    },
    {
     "data": {
      "application/vnd.jupyter.widget-view+json": {
       "model_id": "37c15dfa8a2d4be99d08b5fdfc543045",
       "version_major": 2,
       "version_minor": 0
      },
      "text/plain": [
       "Validation: |          | 0/? [00:00<?, ?it/s]"
      ]
     },
     "metadata": {},
     "output_type": "display_data"
    },
    {
     "name": "stderr",
     "output_type": "stream",
     "text": [
      "INFO:pytorch_lightning.utilities.rank_zero:`Trainer.fit` stopped: `max_epochs=10` reached.\n"
     ]
    },
    {
     "data": {
      "text/html": [],
      "text/plain": [
       "<IPython.core.display.HTML object>"
      ]
     },
     "metadata": {},
     "output_type": "display_data"
    },
    {
     "data": {
      "text/html": [
       "<br>    <style><br>        .wandb-row {<br>            display: flex;<br>            flex-direction: row;<br>            flex-wrap: wrap;<br>            justify-content: flex-start;<br>            width: 100%;<br>        }<br>        .wandb-col {<br>            display: flex;<br>            flex-direction: column;<br>            flex-basis: 100%;<br>            flex: 1;<br>            padding: 10px;<br>        }<br>    </style><br><div class=\"wandb-row\"><div class=\"wandb-col\"><h3>Run history:</h3><br/><table class=\"wandb\"><tr><td>epoch</td><td>▁▁▂▂▃▃▃▃▄▄▅▅▆▆▆▆▇▇██</td></tr><tr><td>train_acc</td><td>▁▂▃▁▆▃▄█▄▇</td></tr><tr><td>train_loss</td><td>█▆▆▇▄▅▅▁▃▁</td></tr><tr><td>trainer/global_step</td><td>▁▁▂▂▃▃▃▃▄▄▅▅▆▆▆▆▇▇██</td></tr><tr><td>val_acc</td><td>▁▃▅▆▇▆▇▆██</td></tr><tr><td>val_loss</td><td>█▆▄▃▄▁▂▃▁▁</td></tr></table><br/></div><div class=\"wandb-col\"><h3>Run summary:</h3><br/><table class=\"wandb\"><tr><td>epoch</td><td>9</td></tr><tr><td>train_acc</td><td>0.40625</td></tr><tr><td>train_loss</td><td>1.67365</td></tr><tr><td>trainer/global_step</td><td>499</td></tr><tr><td>val_acc</td><td>0.32375</td></tr><tr><td>val_loss</td><td>1.97764</td></tr></table><br/></div></div>"
      ],
      "text/plain": [
       "<IPython.core.display.HTML object>"
      ]
     },
     "metadata": {},
     "output_type": "display_data"
    },
    {
     "data": {
      "text/html": [
       " View run <strong style=\"color:#cdcd00\">activation-SiLU_augmentation-True_base_filter-32_batch_norm-False_dense_neurons-512_dropout-0_filter_type-same_kernel_size-3</strong> at: <a href='https://wandb.ai/tejaswiniksssn-indian-institute-of-technology-madras/inat-sweep-v2/runs/04597wt8' target=\"_blank\">https://wandb.ai/tejaswiniksssn-indian-institute-of-technology-madras/inat-sweep-v2/runs/04597wt8</a><br> View project at: <a href='https://wandb.ai/tejaswiniksssn-indian-institute-of-technology-madras/inat-sweep-v2' target=\"_blank\">https://wandb.ai/tejaswiniksssn-indian-institute-of-technology-madras/inat-sweep-v2</a><br>Synced 5 W&B file(s), 0 media file(s), 0 artifact file(s) and 0 other file(s)"
      ],
      "text/plain": [
       "<IPython.core.display.HTML object>"
      ]
     },
     "metadata": {},
     "output_type": "display_data"
    },
    {
     "data": {
      "text/html": [
       "Find logs at: <code>./wandb/run-20250407_115731-04597wt8/logs</code>"
      ],
      "text/plain": [
       "<IPython.core.display.HTML object>"
      ]
     },
     "metadata": {},
     "output_type": "display_data"
    },
    {
     "name": "stderr",
     "output_type": "stream",
     "text": [
      "\u001b[34m\u001b[1mwandb\u001b[0m: Agent Starting Run: kz6zyr7j with config:\n",
      "\u001b[34m\u001b[1mwandb\u001b[0m: \tactivation: Mish\n",
      "\u001b[34m\u001b[1mwandb\u001b[0m: \taugmentation: True\n",
      "\u001b[34m\u001b[1mwandb\u001b[0m: \tbase_filter: 128\n",
      "\u001b[34m\u001b[1mwandb\u001b[0m: \tbatch_norm: True\n",
      "\u001b[34m\u001b[1mwandb\u001b[0m: \tdense_neurons: 512\n",
      "\u001b[34m\u001b[1mwandb\u001b[0m: \tdropout: 0\n",
      "\u001b[34m\u001b[1mwandb\u001b[0m: \tfilter_type: double\n",
      "\u001b[34m\u001b[1mwandb\u001b[0m: \tkernel_size: 5\n"
     ]
    },
    {
     "data": {
      "text/html": [
       "Tracking run with wandb version 0.19.9"
      ],
      "text/plain": [
       "<IPython.core.display.HTML object>"
      ]
     },
     "metadata": {},
     "output_type": "display_data"
    },
    {
     "data": {
      "text/html": [
       "Run data is saved locally in <code>/content/wandb/run-20250407_120443-kz6zyr7j</code>"
      ],
      "text/plain": [
       "<IPython.core.display.HTML object>"
      ]
     },
     "metadata": {},
     "output_type": "display_data"
    },
    {
     "data": {
      "text/html": [
       "Syncing run <strong><a href='https://wandb.ai/tejaswiniksssn-indian-institute-of-technology-madras/inat-sweep-v2/runs/kz6zyr7j' target=\"_blank\">crisp-sweep-2</a></strong> to <a href='https://wandb.ai/tejaswiniksssn-indian-institute-of-technology-madras/inat-sweep-v2' target=\"_blank\">Weights & Biases</a> (<a href='https://wandb.me/developer-guide' target=\"_blank\">docs</a>)<br>Sweep page: <a href='https://wandb.ai/tejaswiniksssn-indian-institute-of-technology-madras/inat-sweep-v2/sweeps/307idpzz' target=\"_blank\">https://wandb.ai/tejaswiniksssn-indian-institute-of-technology-madras/inat-sweep-v2/sweeps/307idpzz</a>"
      ],
      "text/plain": [
       "<IPython.core.display.HTML object>"
      ]
     },
     "metadata": {},
     "output_type": "display_data"
    },
    {
     "data": {
      "text/html": [
       " View project at <a href='https://wandb.ai/tejaswiniksssn-indian-institute-of-technology-madras/inat-sweep-v2' target=\"_blank\">https://wandb.ai/tejaswiniksssn-indian-institute-of-technology-madras/inat-sweep-v2</a>"
      ],
      "text/plain": [
       "<IPython.core.display.HTML object>"
      ]
     },
     "metadata": {},
     "output_type": "display_data"
    },
    {
     "data": {
      "text/html": [
       " View sweep at <a href='https://wandb.ai/tejaswiniksssn-indian-institute-of-technology-madras/inat-sweep-v2/sweeps/307idpzz' target=\"_blank\">https://wandb.ai/tejaswiniksssn-indian-institute-of-technology-madras/inat-sweep-v2/sweeps/307idpzz</a>"
      ],
      "text/plain": [
       "<IPython.core.display.HTML object>"
      ]
     },
     "metadata": {},
     "output_type": "display_data"
    },
    {
     "data": {
      "text/html": [
       " View run at <a href='https://wandb.ai/tejaswiniksssn-indian-institute-of-technology-madras/inat-sweep-v2/runs/kz6zyr7j' target=\"_blank\">https://wandb.ai/tejaswiniksssn-indian-institute-of-technology-madras/inat-sweep-v2/runs/kz6zyr7j</a>"
      ],
      "text/plain": [
       "<IPython.core.display.HTML object>"
      ]
     },
     "metadata": {},
     "output_type": "display_data"
    },
    {
     "name": "stderr",
     "output_type": "stream",
     "text": [
      "INFO:pytorch_lightning.utilities.rank_zero:You are using the plain ModelCheckpoint callback. Consider using LitModelCheckpoint which with seamless uploading to Model registry.\n",
      "INFO:pytorch_lightning.utilities.rank_zero:GPU available: True (cuda), used: True\n",
      "INFO:pytorch_lightning.utilities.rank_zero:TPU available: False, using: 0 TPU cores\n",
      "INFO:pytorch_lightning.utilities.rank_zero:HPU available: False, using: 0 HPUs\n",
      "INFO:pytorch_lightning.accelerators.cuda:LOCAL_RANK: 0 - CUDA_VISIBLE_DEVICES: [0]\n",
      "INFO:pytorch_lightning.callbacks.model_summary:\n",
      "  | Name    | Type             | Params | Mode \n",
      "-----------------------------------------------------\n",
      "0 | conv    | Sequential       | 69.7 M | train\n",
      "1 | fc1     | Linear           | 26.2 M | train\n",
      "2 | dropout | Dropout          | 0      | train\n",
      "3 | fc2     | Linear           | 5.1 K  | train\n",
      "4 | loss_fn | CrossEntropyLoss | 0      | train\n",
      "-----------------------------------------------------\n",
      "95.9 M    Trainable params\n",
      "0         Non-trainable params\n",
      "95.9 M    Total params\n",
      "383.494   Total estimated model params size (MB)\n",
      "21        Modules in train mode\n",
      "0         Modules in eval mode\n"
     ]
    },
    {
     "data": {
      "application/vnd.jupyter.widget-view+json": {
       "model_id": "00dac2bfc4b0429ea4f1042233481047",
       "version_major": 2,
       "version_minor": 0
      },
      "text/plain": [
       "Sanity Checking: |          | 0/? [00:00<?, ?it/s]"
      ]
     },
     "metadata": {},
     "output_type": "display_data"
    },
    {
     "data": {
      "application/vnd.jupyter.widget-view+json": {
       "model_id": "9bbff25df1fd4494880b401dfd2e6079",
       "version_major": 2,
       "version_minor": 0
      },
      "text/plain": [
       "Training: |          | 0/? [00:00<?, ?it/s]"
      ]
     },
     "metadata": {},
     "output_type": "display_data"
    },
    {
     "data": {
      "application/vnd.jupyter.widget-view+json": {
       "model_id": "710ee91bb76b47c2b53c3affaadcaf8b",
       "version_major": 2,
       "version_minor": 0
      },
      "text/plain": [
       "Validation: |          | 0/? [00:00<?, ?it/s]"
      ]
     },
     "metadata": {},
     "output_type": "display_data"
    },
    {
     "data": {
      "application/vnd.jupyter.widget-view+json": {
       "model_id": "b4e47028fe844c9fac0caddce3170802",
       "version_major": 2,
       "version_minor": 0
      },
      "text/plain": [
       "Validation: |          | 0/? [00:00<?, ?it/s]"
      ]
     },
     "metadata": {},
     "output_type": "display_data"
    },
    {
     "data": {
      "application/vnd.jupyter.widget-view+json": {
       "model_id": "96ba96d916f6492f96c04ccd52b13285",
       "version_major": 2,
       "version_minor": 0
      },
      "text/plain": [
       "Validation: |          | 0/? [00:00<?, ?it/s]"
      ]
     },
     "metadata": {},
     "output_type": "display_data"
    },
    {
     "data": {
      "application/vnd.jupyter.widget-view+json": {
       "model_id": "6a9bc8219e524ab7a25f6721c0a5511a",
       "version_major": 2,
       "version_minor": 0
      },
      "text/plain": [
       "Validation: |          | 0/? [00:00<?, ?it/s]"
      ]
     },
     "metadata": {},
     "output_type": "display_data"
    },
    {
     "data": {
      "application/vnd.jupyter.widget-view+json": {
       "model_id": "f788d119e2554559ad8d50ce6d0cc326",
       "version_major": 2,
       "version_minor": 0
      },
      "text/plain": [
       "Validation: |          | 0/? [00:00<?, ?it/s]"
      ]
     },
     "metadata": {},
     "output_type": "display_data"
    },
    {
     "data": {
      "application/vnd.jupyter.widget-view+json": {
       "model_id": "51b09ac656164f838d2923acd240c79b",
       "version_major": 2,
       "version_minor": 0
      },
      "text/plain": [
       "Validation: |          | 0/? [00:00<?, ?it/s]"
      ]
     },
     "metadata": {},
     "output_type": "display_data"
    },
    {
     "data": {
      "application/vnd.jupyter.widget-view+json": {
       "model_id": "f361dcda806a433ba55d65d12d22069e",
       "version_major": 2,
       "version_minor": 0
      },
      "text/plain": [
       "Validation: |          | 0/? [00:00<?, ?it/s]"
      ]
     },
     "metadata": {},
     "output_type": "display_data"
    },
    {
     "data": {
      "text/html": [],
      "text/plain": [
       "<IPython.core.display.HTML object>"
      ]
     },
     "metadata": {},
     "output_type": "display_data"
    },
    {
     "data": {
      "text/html": [
       "<br>    <style><br>        .wandb-row {<br>            display: flex;<br>            flex-direction: row;<br>            flex-wrap: wrap;<br>            justify-content: flex-start;<br>            width: 100%;<br>        }<br>        .wandb-col {<br>            display: flex;<br>            flex-direction: column;<br>            flex-basis: 100%;<br>            flex: 1;<br>            padding: 10px;<br>        }<br>    </style><br><div class=\"wandb-row\"><div class=\"wandb-col\"><h3>Run history:</h3><br/><table class=\"wandb\"><tr><td>epoch</td><td>▁▁▂▂▃▃▅▅▆▆▇▇██</td></tr><tr><td>train_acc</td><td>▁▂▅▄▃▅█</td></tr><tr><td>train_loss</td><td>█▇▁▃▂▃▁</td></tr><tr><td>trainer/global_step</td><td>▁▁▂▂▃▃▅▅▆▆▇▇██</td></tr><tr><td>val_acc</td><td>▁▃▆█▇█▇</td></tr><tr><td>val_loss</td><td>█▅▂▁▁▁▁</td></tr></table><br/></div><div class=\"wandb-col\"><h3>Run summary:</h3><br/><table class=\"wandb\"><tr><td>epoch</td><td>6</td></tr><tr><td>train_acc</td><td>0.32812</td></tr><tr><td>train_loss</td><td>1.94371</td></tr><tr><td>trainer/global_step</td><td>349</td></tr><tr><td>val_acc</td><td>0.21375</td></tr><tr><td>val_loss</td><td>2.15338</td></tr></table><br/></div></div>"
      ],
      "text/plain": [
       "<IPython.core.display.HTML object>"
      ]
     },
     "metadata": {},
     "output_type": "display_data"
    },
    {
     "data": {
      "text/html": [
       " View run <strong style=\"color:#cdcd00\">activation-Mish_augmentation-True_base_filter-128_batch_norm-True_dense_neurons-512_dropout-0_filter_type-double_kernel_size-5</strong> at: <a href='https://wandb.ai/tejaswiniksssn-indian-institute-of-technology-madras/inat-sweep-v2/runs/kz6zyr7j' target=\"_blank\">https://wandb.ai/tejaswiniksssn-indian-institute-of-technology-madras/inat-sweep-v2/runs/kz6zyr7j</a><br> View project at: <a href='https://wandb.ai/tejaswiniksssn-indian-institute-of-technology-madras/inat-sweep-v2' target=\"_blank\">https://wandb.ai/tejaswiniksssn-indian-institute-of-technology-madras/inat-sweep-v2</a><br>Synced 5 W&B file(s), 0 media file(s), 0 artifact file(s) and 0 other file(s)"
      ],
      "text/plain": [
       "<IPython.core.display.HTML object>"
      ]
     },
     "metadata": {},
     "output_type": "display_data"
    },
    {
     "data": {
      "text/html": [
       "Find logs at: <code>./wandb/run-20250407_120443-kz6zyr7j/logs</code>"
      ],
      "text/plain": [
       "<IPython.core.display.HTML object>"
      ]
     },
     "metadata": {},
     "output_type": "display_data"
    },
    {
     "name": "stderr",
     "output_type": "stream",
     "text": [
      "\u001b[34m\u001b[1mwandb\u001b[0m: Agent Starting Run: lnfrx2vu with config:\n",
      "\u001b[34m\u001b[1mwandb\u001b[0m: \tactivation: GELU\n",
      "\u001b[34m\u001b[1mwandb\u001b[0m: \taugmentation: True\n",
      "\u001b[34m\u001b[1mwandb\u001b[0m: \tbase_filter: 64\n",
      "\u001b[34m\u001b[1mwandb\u001b[0m: \tbatch_norm: True\n",
      "\u001b[34m\u001b[1mwandb\u001b[0m: \tdense_neurons: 512\n",
      "\u001b[34m\u001b[1mwandb\u001b[0m: \tdropout: 0\n",
      "\u001b[34m\u001b[1mwandb\u001b[0m: \tfilter_type: same\n",
      "\u001b[34m\u001b[1mwandb\u001b[0m: \tkernel_size: 3\n"
     ]
    },
    {
     "data": {
      "text/html": [
       "Tracking run with wandb version 0.19.9"
      ],
      "text/plain": [
       "<IPython.core.display.HTML object>"
      ]
     },
     "metadata": {},
     "output_type": "display_data"
    },
    {
     "data": {
      "text/html": [
       "Run data is saved locally in <code>/content/wandb/run-20250407_121844-lnfrx2vu</code>"
      ],
      "text/plain": [
       "<IPython.core.display.HTML object>"
      ]
     },
     "metadata": {},
     "output_type": "display_data"
    },
    {
     "data": {
      "text/html": [
       "Syncing run <strong><a href='https://wandb.ai/tejaswiniksssn-indian-institute-of-technology-madras/inat-sweep-v2/runs/lnfrx2vu' target=\"_blank\">genial-sweep-3</a></strong> to <a href='https://wandb.ai/tejaswiniksssn-indian-institute-of-technology-madras/inat-sweep-v2' target=\"_blank\">Weights & Biases</a> (<a href='https://wandb.me/developer-guide' target=\"_blank\">docs</a>)<br>Sweep page: <a href='https://wandb.ai/tejaswiniksssn-indian-institute-of-technology-madras/inat-sweep-v2/sweeps/307idpzz' target=\"_blank\">https://wandb.ai/tejaswiniksssn-indian-institute-of-technology-madras/inat-sweep-v2/sweeps/307idpzz</a>"
      ],
      "text/plain": [
       "<IPython.core.display.HTML object>"
      ]
     },
     "metadata": {},
     "output_type": "display_data"
    },
    {
     "data": {
      "text/html": [
       " View project at <a href='https://wandb.ai/tejaswiniksssn-indian-institute-of-technology-madras/inat-sweep-v2' target=\"_blank\">https://wandb.ai/tejaswiniksssn-indian-institute-of-technology-madras/inat-sweep-v2</a>"
      ],
      "text/plain": [
       "<IPython.core.display.HTML object>"
      ]
     },
     "metadata": {},
     "output_type": "display_data"
    },
    {
     "data": {
      "text/html": [
       " View sweep at <a href='https://wandb.ai/tejaswiniksssn-indian-institute-of-technology-madras/inat-sweep-v2/sweeps/307idpzz' target=\"_blank\">https://wandb.ai/tejaswiniksssn-indian-institute-of-technology-madras/inat-sweep-v2/sweeps/307idpzz</a>"
      ],
      "text/plain": [
       "<IPython.core.display.HTML object>"
      ]
     },
     "metadata": {},
     "output_type": "display_data"
    },
    {
     "data": {
      "text/html": [
       " View run at <a href='https://wandb.ai/tejaswiniksssn-indian-institute-of-technology-madras/inat-sweep-v2/runs/lnfrx2vu' target=\"_blank\">https://wandb.ai/tejaswiniksssn-indian-institute-of-technology-madras/inat-sweep-v2/runs/lnfrx2vu</a>"
      ],
      "text/plain": [
       "<IPython.core.display.HTML object>"
      ]
     },
     "metadata": {},
     "output_type": "display_data"
    },
    {
     "name": "stderr",
     "output_type": "stream",
     "text": [
      "INFO:pytorch_lightning.utilities.rank_zero:You are using the plain ModelCheckpoint callback. Consider using LitModelCheckpoint which with seamless uploading to Model registry.\n",
      "INFO:pytorch_lightning.utilities.rank_zero:GPU available: True (cuda), used: True\n",
      "INFO:pytorch_lightning.utilities.rank_zero:TPU available: False, using: 0 TPU cores\n",
      "INFO:pytorch_lightning.utilities.rank_zero:HPU available: False, using: 0 HPUs\n",
      "INFO:pytorch_lightning.accelerators.cuda:LOCAL_RANK: 0 - CUDA_VISIBLE_DEVICES: [0]\n",
      "INFO:pytorch_lightning.callbacks.model_summary:\n",
      "  | Name    | Type             | Params | Mode \n",
      "-----------------------------------------------------\n",
      "0 | conv    | Sequential       | 150 K  | train\n",
      "1 | fc1     | Linear           | 1.6 M  | train\n",
      "2 | dropout | Dropout          | 0      | train\n",
      "3 | fc2     | Linear           | 5.1 K  | train\n",
      "4 | loss_fn | CrossEntropyLoss | 0      | train\n",
      "-----------------------------------------------------\n",
      "1.8 M     Trainable params\n",
      "0         Non-trainable params\n",
      "1.8 M     Total params\n",
      "7.046     Total estimated model params size (MB)\n",
      "21        Modules in train mode\n",
      "0         Modules in eval mode\n"
     ]
    },
    {
     "data": {
      "application/vnd.jupyter.widget-view+json": {
       "model_id": "1f502f7cbce044ed8022e37ead33646a",
       "version_major": 2,
       "version_minor": 0
      },
      "text/plain": [
       "Sanity Checking: |          | 0/? [00:00<?, ?it/s]"
      ]
     },
     "metadata": {},
     "output_type": "display_data"
    },
    {
     "data": {
      "application/vnd.jupyter.widget-view+json": {
       "model_id": "6e2c8ff6a0bf489fa2a11aafdafaa3c6",
       "version_major": 2,
       "version_minor": 0
      },
      "text/plain": [
       "Training: |          | 0/? [00:00<?, ?it/s]"
      ]
     },
     "metadata": {},
     "output_type": "display_data"
    },
    {
     "data": {
      "application/vnd.jupyter.widget-view+json": {
       "model_id": "659fe73e48d84931b808cbadf8501b8d",
       "version_major": 2,
       "version_minor": 0
      },
      "text/plain": [
       "Validation: |          | 0/? [00:00<?, ?it/s]"
      ]
     },
     "metadata": {},
     "output_type": "display_data"
    },
    {
     "data": {
      "application/vnd.jupyter.widget-view+json": {
       "model_id": "115e398d355542c0a0afdf84bc03f4ed",
       "version_major": 2,
       "version_minor": 0
      },
      "text/plain": [
       "Validation: |          | 0/? [00:00<?, ?it/s]"
      ]
     },
     "metadata": {},
     "output_type": "display_data"
    },
    {
     "data": {
      "application/vnd.jupyter.widget-view+json": {
       "model_id": "cdc3bbaae0af416992a4ebb54ea0c1d7",
       "version_major": 2,
       "version_minor": 0
      },
      "text/plain": [
       "Validation: |          | 0/? [00:00<?, ?it/s]"
      ]
     },
     "metadata": {},
     "output_type": "display_data"
    },
    {
     "data": {
      "application/vnd.jupyter.widget-view+json": {
       "model_id": "6f92e50db8c8404ea85c1e325b0553a9",
       "version_major": 2,
       "version_minor": 0
      },
      "text/plain": [
       "Validation: |          | 0/? [00:00<?, ?it/s]"
      ]
     },
     "metadata": {},
     "output_type": "display_data"
    },
    {
     "data": {
      "application/vnd.jupyter.widget-view+json": {
       "model_id": "0d6ac0cb8f7b4db8a9cd6d0bff97f726",
       "version_major": 2,
       "version_minor": 0
      },
      "text/plain": [
       "Validation: |          | 0/? [00:00<?, ?it/s]"
      ]
     },
     "metadata": {},
     "output_type": "display_data"
    },
    {
     "data": {
      "application/vnd.jupyter.widget-view+json": {
       "model_id": "b559648a421e42eead68894d6f3517e5",
       "version_major": 2,
       "version_minor": 0
      },
      "text/plain": [
       "Validation: |          | 0/? [00:00<?, ?it/s]"
      ]
     },
     "metadata": {},
     "output_type": "display_data"
    },
    {
     "data": {
      "application/vnd.jupyter.widget-view+json": {
       "model_id": "bbd47b9983bd4b7b94f4b1123d388999",
       "version_major": 2,
       "version_minor": 0
      },
      "text/plain": [
       "Validation: |          | 0/? [00:00<?, ?it/s]"
      ]
     },
     "metadata": {},
     "output_type": "display_data"
    },
    {
     "data": {
      "application/vnd.jupyter.widget-view+json": {
       "model_id": "848e8347447d47958d0f010dc73229a2",
       "version_major": 2,
       "version_minor": 0
      },
      "text/plain": [
       "Validation: |          | 0/? [00:00<?, ?it/s]"
      ]
     },
     "metadata": {},
     "output_type": "display_data"
    },
    {
     "data": {
      "application/vnd.jupyter.widget-view+json": {
       "model_id": "7dab9f5954084faba859c993b2fded1c",
       "version_major": 2,
       "version_minor": 0
      },
      "text/plain": [
       "Validation: |          | 0/? [00:00<?, ?it/s]"
      ]
     },
     "metadata": {},
     "output_type": "display_data"
    },
    {
     "data": {
      "application/vnd.jupyter.widget-view+json": {
       "model_id": "19f9202c925e462786466c9d7388e320",
       "version_major": 2,
       "version_minor": 0
      },
      "text/plain": [
       "Validation: |          | 0/? [00:00<?, ?it/s]"
      ]
     },
     "metadata": {},
     "output_type": "display_data"
    },
    {
     "name": "stderr",
     "output_type": "stream",
     "text": [
      "INFO:pytorch_lightning.utilities.rank_zero:`Trainer.fit` stopped: `max_epochs=10` reached.\n"
     ]
    },
    {
     "data": {
      "text/html": [],
      "text/plain": [
       "<IPython.core.display.HTML object>"
      ]
     },
     "metadata": {},
     "output_type": "display_data"
    },
    {
     "data": {
      "text/html": [
       "<br>    <style><br>        .wandb-row {<br>            display: flex;<br>            flex-direction: row;<br>            flex-wrap: wrap;<br>            justify-content: flex-start;<br>            width: 100%;<br>        }<br>        .wandb-col {<br>            display: flex;<br>            flex-direction: column;<br>            flex-basis: 100%;<br>            flex: 1;<br>            padding: 10px;<br>        }<br>    </style><br><div class=\"wandb-row\"><div class=\"wandb-col\"><h3>Run history:</h3><br/><table class=\"wandb\"><tr><td>epoch</td><td>▁▁▂▂▃▃▃▃▄▄▅▅▆▆▆▆▇▇██</td></tr><tr><td>train_acc</td><td>▃▅█▁▂▃▇▅▁▂</td></tr><tr><td>train_loss</td><td>▆▄▁▅▄▂▂▅█▃</td></tr><tr><td>trainer/global_step</td><td>▁▁▂▂▃▃▃▃▄▄▅▅▆▆▆▆▇▇██</td></tr><tr><td>val_acc</td><td>▁▄▅▆▆▆█▇▇▆</td></tr><tr><td>val_loss</td><td>█▆▃▂▁▃▁▂▁▃</td></tr></table><br/></div><div class=\"wandb-col\"><h3>Run summary:</h3><br/><table class=\"wandb\"><tr><td>epoch</td><td>9</td></tr><tr><td>train_acc</td><td>0.29688</td></tr><tr><td>train_loss</td><td>1.81287</td></tr><tr><td>trainer/global_step</td><td>499</td></tr><tr><td>val_acc</td><td>0.31875</td></tr><tr><td>val_loss</td><td>1.93876</td></tr></table><br/></div></div>"
      ],
      "text/plain": [
       "<IPython.core.display.HTML object>"
      ]
     },
     "metadata": {},
     "output_type": "display_data"
    },
    {
     "data": {
      "text/html": [
       " View run <strong style=\"color:#cdcd00\">activation-GELU_augmentation-True_base_filter-64_batch_norm-True_dense_neurons-512_dropout-0_filter_type-same_kernel_size-3</strong> at: <a href='https://wandb.ai/tejaswiniksssn-indian-institute-of-technology-madras/inat-sweep-v2/runs/lnfrx2vu' target=\"_blank\">https://wandb.ai/tejaswiniksssn-indian-institute-of-technology-madras/inat-sweep-v2/runs/lnfrx2vu</a><br> View project at: <a href='https://wandb.ai/tejaswiniksssn-indian-institute-of-technology-madras/inat-sweep-v2' target=\"_blank\">https://wandb.ai/tejaswiniksssn-indian-institute-of-technology-madras/inat-sweep-v2</a><br>Synced 5 W&B file(s), 0 media file(s), 0 artifact file(s) and 0 other file(s)"
      ],
      "text/plain": [
       "<IPython.core.display.HTML object>"
      ]
     },
     "metadata": {},
     "output_type": "display_data"
    },
    {
     "data": {
      "text/html": [
       "Find logs at: <code>./wandb/run-20250407_121844-lnfrx2vu/logs</code>"
      ],
      "text/plain": [
       "<IPython.core.display.HTML object>"
      ]
     },
     "metadata": {},
     "output_type": "display_data"
    },
    {
     "name": "stderr",
     "output_type": "stream",
     "text": [
      "\u001b[34m\u001b[1mwandb\u001b[0m: Agent Starting Run: ksk7dl8f with config:\n",
      "\u001b[34m\u001b[1mwandb\u001b[0m: \tactivation: SiLU\n",
      "\u001b[34m\u001b[1mwandb\u001b[0m: \taugmentation: False\n",
      "\u001b[34m\u001b[1mwandb\u001b[0m: \tbase_filter: 32\n",
      "\u001b[34m\u001b[1mwandb\u001b[0m: \tbatch_norm: False\n",
      "\u001b[34m\u001b[1mwandb\u001b[0m: \tdense_neurons: 256\n",
      "\u001b[34m\u001b[1mwandb\u001b[0m: \tdropout: 0\n",
      "\u001b[34m\u001b[1mwandb\u001b[0m: \tfilter_type: same\n",
      "\u001b[34m\u001b[1mwandb\u001b[0m: \tkernel_size: 3\n"
     ]
    },
    {
     "data": {
      "text/html": [
       "Tracking run with wandb version 0.19.9"
      ],
      "text/plain": [
       "<IPython.core.display.HTML object>"
      ]
     },
     "metadata": {},
     "output_type": "display_data"
    },
    {
     "data": {
      "text/html": [
       "Run data is saved locally in <code>/content/wandb/run-20250407_122616-ksk7dl8f</code>"
      ],
      "text/plain": [
       "<IPython.core.display.HTML object>"
      ]
     },
     "metadata": {},
     "output_type": "display_data"
    },
    {
     "data": {
      "text/html": [
       "Syncing run <strong><a href='https://wandb.ai/tejaswiniksssn-indian-institute-of-technology-madras/inat-sweep-v2/runs/ksk7dl8f' target=\"_blank\">youthful-sweep-4</a></strong> to <a href='https://wandb.ai/tejaswiniksssn-indian-institute-of-technology-madras/inat-sweep-v2' target=\"_blank\">Weights & Biases</a> (<a href='https://wandb.me/developer-guide' target=\"_blank\">docs</a>)<br>Sweep page: <a href='https://wandb.ai/tejaswiniksssn-indian-institute-of-technology-madras/inat-sweep-v2/sweeps/307idpzz' target=\"_blank\">https://wandb.ai/tejaswiniksssn-indian-institute-of-technology-madras/inat-sweep-v2/sweeps/307idpzz</a>"
      ],
      "text/plain": [
       "<IPython.core.display.HTML object>"
      ]
     },
     "metadata": {},
     "output_type": "display_data"
    },
    {
     "data": {
      "text/html": [
       " View project at <a href='https://wandb.ai/tejaswiniksssn-indian-institute-of-technology-madras/inat-sweep-v2' target=\"_blank\">https://wandb.ai/tejaswiniksssn-indian-institute-of-technology-madras/inat-sweep-v2</a>"
      ],
      "text/plain": [
       "<IPython.core.display.HTML object>"
      ]
     },
     "metadata": {},
     "output_type": "display_data"
    },
    {
     "data": {
      "text/html": [
       " View sweep at <a href='https://wandb.ai/tejaswiniksssn-indian-institute-of-technology-madras/inat-sweep-v2/sweeps/307idpzz' target=\"_blank\">https://wandb.ai/tejaswiniksssn-indian-institute-of-technology-madras/inat-sweep-v2/sweeps/307idpzz</a>"
      ],
      "text/plain": [
       "<IPython.core.display.HTML object>"
      ]
     },
     "metadata": {},
     "output_type": "display_data"
    },
    {
     "data": {
      "text/html": [
       " View run at <a href='https://wandb.ai/tejaswiniksssn-indian-institute-of-technology-madras/inat-sweep-v2/runs/ksk7dl8f' target=\"_blank\">https://wandb.ai/tejaswiniksssn-indian-institute-of-technology-madras/inat-sweep-v2/runs/ksk7dl8f</a>"
      ],
      "text/plain": [
       "<IPython.core.display.HTML object>"
      ]
     },
     "metadata": {},
     "output_type": "display_data"
    },
    {
     "name": "stderr",
     "output_type": "stream",
     "text": [
      "INFO:pytorch_lightning.utilities.rank_zero:You are using the plain ModelCheckpoint callback. Consider using LitModelCheckpoint which with seamless uploading to Model registry.\n",
      "INFO:pytorch_lightning.utilities.rank_zero:GPU available: True (cuda), used: True\n",
      "INFO:pytorch_lightning.utilities.rank_zero:TPU available: False, using: 0 TPU cores\n",
      "INFO:pytorch_lightning.utilities.rank_zero:HPU available: False, using: 0 HPUs\n",
      "INFO:pytorch_lightning.accelerators.cuda:LOCAL_RANK: 0 - CUDA_VISIBLE_DEVICES: [0]\n",
      "INFO:pytorch_lightning.callbacks.model_summary:\n",
      "  | Name    | Type             | Params | Mode \n",
      "-----------------------------------------------------\n",
      "0 | conv    | Sequential       | 37.9 K | train\n",
      "1 | fc1     | Linear           | 401 K  | train\n",
      "2 | dropout | Dropout          | 0      | train\n",
      "3 | fc2     | Linear           | 2.6 K  | train\n",
      "4 | loss_fn | CrossEntropyLoss | 0      | train\n",
      "-----------------------------------------------------\n",
      "442 K     Trainable params\n",
      "0         Non-trainable params\n",
      "442 K     Total params\n",
      "1.768     Total estimated model params size (MB)\n",
      "16        Modules in train mode\n",
      "0         Modules in eval mode\n"
     ]
    },
    {
     "data": {
      "application/vnd.jupyter.widget-view+json": {
       "model_id": "4cc28c8058ff419c85f770cf08cc073b",
       "version_major": 2,
       "version_minor": 0
      },
      "text/plain": [
       "Sanity Checking: |          | 0/? [00:00<?, ?it/s]"
      ]
     },
     "metadata": {},
     "output_type": "display_data"
    },
    {
     "data": {
      "application/vnd.jupyter.widget-view+json": {
       "model_id": "d877f454a42a4f13b3bc23c6358e98d0",
       "version_major": 2,
       "version_minor": 0
      },
      "text/plain": [
       "Training: |          | 0/? [00:00<?, ?it/s]"
      ]
     },
     "metadata": {},
     "output_type": "display_data"
    },
    {
     "data": {
      "application/vnd.jupyter.widget-view+json": {
       "model_id": "68051fd2f4df4bc49aa4ef98943b9a69",
       "version_major": 2,
       "version_minor": 0
      },
      "text/plain": [
       "Validation: |          | 0/? [00:00<?, ?it/s]"
      ]
     },
     "metadata": {},
     "output_type": "display_data"
    },
    {
     "data": {
      "application/vnd.jupyter.widget-view+json": {
       "model_id": "fe10772dd22548c7a64c5e354c670c10",
       "version_major": 2,
       "version_minor": 0
      },
      "text/plain": [
       "Validation: |          | 0/? [00:00<?, ?it/s]"
      ]
     },
     "metadata": {},
     "output_type": "display_data"
    },
    {
     "data": {
      "application/vnd.jupyter.widget-view+json": {
       "model_id": "d4d4fb10e3da4125b4e9df1f629b2aab",
       "version_major": 2,
       "version_minor": 0
      },
      "text/plain": [
       "Validation: |          | 0/? [00:00<?, ?it/s]"
      ]
     },
     "metadata": {},
     "output_type": "display_data"
    },
    {
     "data": {
      "application/vnd.jupyter.widget-view+json": {
       "model_id": "a624e6f23fe44f05997b5ae2b5f9700e",
       "version_major": 2,
       "version_minor": 0
      },
      "text/plain": [
       "Validation: |          | 0/? [00:00<?, ?it/s]"
      ]
     },
     "metadata": {},
     "output_type": "display_data"
    },
    {
     "data": {
      "application/vnd.jupyter.widget-view+json": {
       "model_id": "9fc6b375ed4c475cac715f6b4a30bc46",
       "version_major": 2,
       "version_minor": 0
      },
      "text/plain": [
       "Validation: |          | 0/? [00:00<?, ?it/s]"
      ]
     },
     "metadata": {},
     "output_type": "display_data"
    },
    {
     "data": {
      "application/vnd.jupyter.widget-view+json": {
       "model_id": "7efa213a67b14fea804a4050d96feb64",
       "version_major": 2,
       "version_minor": 0
      },
      "text/plain": [
       "Validation: |          | 0/? [00:00<?, ?it/s]"
      ]
     },
     "metadata": {},
     "output_type": "display_data"
    },
    {
     "data": {
      "application/vnd.jupyter.widget-view+json": {
       "model_id": "0a7dab525fa4427ca96456d8fe36ed4c",
       "version_major": 2,
       "version_minor": 0
      },
      "text/plain": [
       "Validation: |          | 0/? [00:00<?, ?it/s]"
      ]
     },
     "metadata": {},
     "output_type": "display_data"
    },
    {
     "data": {
      "application/vnd.jupyter.widget-view+json": {
       "model_id": "dbd4983c3ac3495ca32c1ed6b051fad7",
       "version_major": 2,
       "version_minor": 0
      },
      "text/plain": [
       "Validation: |          | 0/? [00:00<?, ?it/s]"
      ]
     },
     "metadata": {},
     "output_type": "display_data"
    },
    {
     "data": {
      "application/vnd.jupyter.widget-view+json": {
       "model_id": "57b6c197468945ab9c2486bdd823d414",
       "version_major": 2,
       "version_minor": 0
      },
      "text/plain": [
       "Validation: |          | 0/? [00:00<?, ?it/s]"
      ]
     },
     "metadata": {},
     "output_type": "display_data"
    },
    {
     "data": {
      "application/vnd.jupyter.widget-view+json": {
       "model_id": "abeec013da9448808b4bc12f167f9187",
       "version_major": 2,
       "version_minor": 0
      },
      "text/plain": [
       "Validation: |          | 0/? [00:00<?, ?it/s]"
      ]
     },
     "metadata": {},
     "output_type": "display_data"
    },
    {
     "name": "stderr",
     "output_type": "stream",
     "text": [
      "INFO:pytorch_lightning.utilities.rank_zero:`Trainer.fit` stopped: `max_epochs=10` reached.\n"
     ]
    },
    {
     "data": {
      "text/html": [],
      "text/plain": [
       "<IPython.core.display.HTML object>"
      ]
     },
     "metadata": {},
     "output_type": "display_data"
    },
    {
     "data": {
      "text/html": [
       "<br>    <style><br>        .wandb-row {<br>            display: flex;<br>            flex-direction: row;<br>            flex-wrap: wrap;<br>            justify-content: flex-start;<br>            width: 100%;<br>        }<br>        .wandb-col {<br>            display: flex;<br>            flex-direction: column;<br>            flex-basis: 100%;<br>            flex: 1;<br>            padding: 10px;<br>        }<br>    </style><br><div class=\"wandb-row\"><div class=\"wandb-col\"><h3>Run history:</h3><br/><table class=\"wandb\"><tr><td>epoch</td><td>▁▁▂▂▃▃▃▃▄▄▅▅▆▆▆▆▇▇██</td></tr><tr><td>train_acc</td><td>▁▃▄▃▆▅▄▇▇█</td></tr><tr><td>train_loss</td><td>██▆▆▅▅▆▃▃▁</td></tr><tr><td>trainer/global_step</td><td>▁▁▂▂▃▃▃▃▄▄▅▅▆▆▆▆▇▇██</td></tr><tr><td>val_acc</td><td>▁▄▅▃▄▆▇█▆▆</td></tr><tr><td>val_loss</td><td>▃▂▁▁▁▁▂▂▄█</td></tr></table><br/></div><div class=\"wandb-col\"><h3>Run summary:</h3><br/><table class=\"wandb\"><tr><td>epoch</td><td>9</td></tr><tr><td>train_acc</td><td>0.5625</td></tr><tr><td>train_loss</td><td>1.21257</td></tr><tr><td>trainer/global_step</td><td>499</td></tr><tr><td>val_acc</td><td>0.2575</td></tr><tr><td>val_loss</td><td>2.63289</td></tr></table><br/></div></div>"
      ],
      "text/plain": [
       "<IPython.core.display.HTML object>"
      ]
     },
     "metadata": {},
     "output_type": "display_data"
    },
    {
     "data": {
      "text/html": [
       " View run <strong style=\"color:#cdcd00\">activation-SiLU_augmentation-False_base_filter-32_batch_norm-False_dense_neurons-256_dropout-0_filter_type-same_kernel_size-3</strong> at: <a href='https://wandb.ai/tejaswiniksssn-indian-institute-of-technology-madras/inat-sweep-v2/runs/ksk7dl8f' target=\"_blank\">https://wandb.ai/tejaswiniksssn-indian-institute-of-technology-madras/inat-sweep-v2/runs/ksk7dl8f</a><br> View project at: <a href='https://wandb.ai/tejaswiniksssn-indian-institute-of-technology-madras/inat-sweep-v2' target=\"_blank\">https://wandb.ai/tejaswiniksssn-indian-institute-of-technology-madras/inat-sweep-v2</a><br>Synced 5 W&B file(s), 0 media file(s), 0 artifact file(s) and 0 other file(s)"
      ],
      "text/plain": [
       "<IPython.core.display.HTML object>"
      ]
     },
     "metadata": {},
     "output_type": "display_data"
    },
    {
     "data": {
      "text/html": [
       "Find logs at: <code>./wandb/run-20250407_122616-ksk7dl8f/logs</code>"
      ],
      "text/plain": [
       "<IPython.core.display.HTML object>"
      ]
     },
     "metadata": {},
     "output_type": "display_data"
    },
    {
     "name": "stderr",
     "output_type": "stream",
     "text": [
      "\u001b[34m\u001b[1mwandb\u001b[0m: Agent Starting Run: 578tr21e with config:\n",
      "\u001b[34m\u001b[1mwandb\u001b[0m: \tactivation: ReLU\n",
      "\u001b[34m\u001b[1mwandb\u001b[0m: \taugmentation: False\n",
      "\u001b[34m\u001b[1mwandb\u001b[0m: \tbase_filter: 128\n",
      "\u001b[34m\u001b[1mwandb\u001b[0m: \tbatch_norm: True\n",
      "\u001b[34m\u001b[1mwandb\u001b[0m: \tdense_neurons: 256\n",
      "\u001b[34m\u001b[1mwandb\u001b[0m: \tdropout: 0.3\n",
      "\u001b[34m\u001b[1mwandb\u001b[0m: \tfilter_type: double\n",
      "\u001b[34m\u001b[1mwandb\u001b[0m: \tkernel_size: 5\n"
     ]
    },
    {
     "data": {
      "text/html": [
       "Tracking run with wandb version 0.19.9"
      ],
      "text/plain": [
       "<IPython.core.display.HTML object>"
      ]
     },
     "metadata": {},
     "output_type": "display_data"
    },
    {
     "data": {
      "text/html": [
       "Run data is saved locally in <code>/content/wandb/run-20250407_123318-578tr21e</code>"
      ],
      "text/plain": [
       "<IPython.core.display.HTML object>"
      ]
     },
     "metadata": {},
     "output_type": "display_data"
    },
    {
     "data": {
      "text/html": [
       "Syncing run <strong><a href='https://wandb.ai/tejaswiniksssn-indian-institute-of-technology-madras/inat-sweep-v2/runs/578tr21e' target=\"_blank\">wild-sweep-5</a></strong> to <a href='https://wandb.ai/tejaswiniksssn-indian-institute-of-technology-madras/inat-sweep-v2' target=\"_blank\">Weights & Biases</a> (<a href='https://wandb.me/developer-guide' target=\"_blank\">docs</a>)<br>Sweep page: <a href='https://wandb.ai/tejaswiniksssn-indian-institute-of-technology-madras/inat-sweep-v2/sweeps/307idpzz' target=\"_blank\">https://wandb.ai/tejaswiniksssn-indian-institute-of-technology-madras/inat-sweep-v2/sweeps/307idpzz</a>"
      ],
      "text/plain": [
       "<IPython.core.display.HTML object>"
      ]
     },
     "metadata": {},
     "output_type": "display_data"
    },
    {
     "data": {
      "text/html": [
       " View project at <a href='https://wandb.ai/tejaswiniksssn-indian-institute-of-technology-madras/inat-sweep-v2' target=\"_blank\">https://wandb.ai/tejaswiniksssn-indian-institute-of-technology-madras/inat-sweep-v2</a>"
      ],
      "text/plain": [
       "<IPython.core.display.HTML object>"
      ]
     },
     "metadata": {},
     "output_type": "display_data"
    },
    {
     "data": {
      "text/html": [
       " View sweep at <a href='https://wandb.ai/tejaswiniksssn-indian-institute-of-technology-madras/inat-sweep-v2/sweeps/307idpzz' target=\"_blank\">https://wandb.ai/tejaswiniksssn-indian-institute-of-technology-madras/inat-sweep-v2/sweeps/307idpzz</a>"
      ],
      "text/plain": [
       "<IPython.core.display.HTML object>"
      ]
     },
     "metadata": {},
     "output_type": "display_data"
    },
    {
     "data": {
      "text/html": [
       " View run at <a href='https://wandb.ai/tejaswiniksssn-indian-institute-of-technology-madras/inat-sweep-v2/runs/578tr21e' target=\"_blank\">https://wandb.ai/tejaswiniksssn-indian-institute-of-technology-madras/inat-sweep-v2/runs/578tr21e</a>"
      ],
      "text/plain": [
       "<IPython.core.display.HTML object>"
      ]
     },
     "metadata": {},
     "output_type": "display_data"
    },
    {
     "name": "stderr",
     "output_type": "stream",
     "text": [
      "INFO:pytorch_lightning.utilities.rank_zero:You are using the plain ModelCheckpoint callback. Consider using LitModelCheckpoint which with seamless uploading to Model registry.\n",
      "INFO:pytorch_lightning.utilities.rank_zero:GPU available: True (cuda), used: True\n",
      "INFO:pytorch_lightning.utilities.rank_zero:TPU available: False, using: 0 TPU cores\n",
      "INFO:pytorch_lightning.utilities.rank_zero:HPU available: False, using: 0 HPUs\n",
      "INFO:pytorch_lightning.accelerators.cuda:LOCAL_RANK: 0 - CUDA_VISIBLE_DEVICES: [0]\n",
      "INFO:pytorch_lightning.callbacks.model_summary:\n",
      "  | Name    | Type             | Params | Mode \n",
      "-----------------------------------------------------\n",
      "0 | conv    | Sequential       | 69.7 M | train\n",
      "1 | fc1     | Linear           | 13.1 M | train\n",
      "2 | dropout | Dropout          | 0      | train\n",
      "3 | fc2     | Linear           | 2.6 K  | train\n",
      "4 | loss_fn | CrossEntropyLoss | 0      | train\n",
      "-----------------------------------------------------\n",
      "82.8 M    Trainable params\n",
      "0         Non-trainable params\n",
      "82.8 M    Total params\n",
      "331.054   Total estimated model params size (MB)\n",
      "21        Modules in train mode\n",
      "0         Modules in eval mode\n"
     ]
    },
    {
     "data": {
      "application/vnd.jupyter.widget-view+json": {
       "model_id": "37e8e8d51f5c4934bb93ce655bb76f36",
       "version_major": 2,
       "version_minor": 0
      },
      "text/plain": [
       "Sanity Checking: |          | 0/? [00:00<?, ?it/s]"
      ]
     },
     "metadata": {},
     "output_type": "display_data"
    },
    {
     "data": {
      "application/vnd.jupyter.widget-view+json": {
       "model_id": "57b3b5c12f054ed5b49a99863a7204b9",
       "version_major": 2,
       "version_minor": 0
      },
      "text/plain": [
       "Training: |          | 0/? [00:00<?, ?it/s]"
      ]
     },
     "metadata": {},
     "output_type": "display_data"
    },
    {
     "data": {
      "application/vnd.jupyter.widget-view+json": {
       "model_id": "7eca0274121a4ce88d1fa5b128985608",
       "version_major": 2,
       "version_minor": 0
      },
      "text/plain": [
       "Validation: |          | 0/? [00:00<?, ?it/s]"
      ]
     },
     "metadata": {},
     "output_type": "display_data"
    },
    {
     "data": {
      "application/vnd.jupyter.widget-view+json": {
       "model_id": "0bc911221f6a4c9681844129affcfbf1",
       "version_major": 2,
       "version_minor": 0
      },
      "text/plain": [
       "Validation: |          | 0/? [00:00<?, ?it/s]"
      ]
     },
     "metadata": {},
     "output_type": "display_data"
    },
    {
     "data": {
      "application/vnd.jupyter.widget-view+json": {
       "model_id": "5fe2b5b40f454d76b00702396fbe8ff3",
       "version_major": 2,
       "version_minor": 0
      },
      "text/plain": [
       "Validation: |          | 0/? [00:00<?, ?it/s]"
      ]
     },
     "metadata": {},
     "output_type": "display_data"
    },
    {
     "data": {
      "application/vnd.jupyter.widget-view+json": {
       "model_id": "2e4c718dd70a47a99082ea479e457ffb",
       "version_major": 2,
       "version_minor": 0
      },
      "text/plain": [
       "Validation: |          | 0/? [00:00<?, ?it/s]"
      ]
     },
     "metadata": {},
     "output_type": "display_data"
    },
    {
     "data": {
      "text/html": [],
      "text/plain": [
       "<IPython.core.display.HTML object>"
      ]
     },
     "metadata": {},
     "output_type": "display_data"
    },
    {
     "data": {
      "text/html": [
       "<br>    <style><br>        .wandb-row {<br>            display: flex;<br>            flex-direction: row;<br>            flex-wrap: wrap;<br>            justify-content: flex-start;<br>            width: 100%;<br>        }<br>        .wandb-col {<br>            display: flex;<br>            flex-direction: column;<br>            flex-basis: 100%;<br>            flex: 1;<br>            padding: 10px;<br>        }<br>    </style><br><div class=\"wandb-row\"><div class=\"wandb-col\"><h3>Run history:</h3><br/><table class=\"wandb\"><tr><td>epoch</td><td>▁▁▃▃▆▆██</td></tr><tr><td>train_acc</td><td>▂▁▂█</td></tr><tr><td>train_loss</td><td>▁█▅▅</td></tr><tr><td>trainer/global_step</td><td>▁▁▃▃▆▆██</td></tr><tr><td>val_acc</td><td>█▁▁▁</td></tr><tr><td>val_loss</td><td>▁▅▇█</td></tr></table><br/></div><div class=\"wandb-col\"><h3>Run summary:</h3><br/><table class=\"wandb\"><tr><td>epoch</td><td>3</td></tr><tr><td>train_acc</td><td>0.15625</td></tr><tr><td>train_loss</td><td>2.30511</td></tr><tr><td>trainer/global_step</td><td>199</td></tr><tr><td>val_acc</td><td>0.09875</td></tr><tr><td>val_loss</td><td>2.30269</td></tr></table><br/></div></div>"
      ],
      "text/plain": [
       "<IPython.core.display.HTML object>"
      ]
     },
     "metadata": {},
     "output_type": "display_data"
    },
    {
     "data": {
      "text/html": [
       " View run <strong style=\"color:#cdcd00\">activation-ReLU_augmentation-False_base_filter-128_batch_norm-True_dense_neurons-256_dropout-0.3_filter_type-double_kernel_size-5</strong> at: <a href='https://wandb.ai/tejaswiniksssn-indian-institute-of-technology-madras/inat-sweep-v2/runs/578tr21e' target=\"_blank\">https://wandb.ai/tejaswiniksssn-indian-institute-of-technology-madras/inat-sweep-v2/runs/578tr21e</a><br> View project at: <a href='https://wandb.ai/tejaswiniksssn-indian-institute-of-technology-madras/inat-sweep-v2' target=\"_blank\">https://wandb.ai/tejaswiniksssn-indian-institute-of-technology-madras/inat-sweep-v2</a><br>Synced 5 W&B file(s), 0 media file(s), 0 artifact file(s) and 0 other file(s)"
      ],
      "text/plain": [
       "<IPython.core.display.HTML object>"
      ]
     },
     "metadata": {},
     "output_type": "display_data"
    },
    {
     "data": {
      "text/html": [
       "Find logs at: <code>./wandb/run-20250407_123318-578tr21e/logs</code>"
      ],
      "text/plain": [
       "<IPython.core.display.HTML object>"
      ]
     },
     "metadata": {},
     "output_type": "display_data"
    },
    {
     "name": "stderr",
     "output_type": "stream",
     "text": [
      "\u001b[34m\u001b[1mwandb\u001b[0m: Agent Starting Run: 68eh1yml with config:\n",
      "\u001b[34m\u001b[1mwandb\u001b[0m: \tactivation: GELU\n",
      "\u001b[34m\u001b[1mwandb\u001b[0m: \taugmentation: False\n",
      "\u001b[34m\u001b[1mwandb\u001b[0m: \tbase_filter: 64\n",
      "\u001b[34m\u001b[1mwandb\u001b[0m: \tbatch_norm: False\n",
      "\u001b[34m\u001b[1mwandb\u001b[0m: \tdense_neurons: 512\n",
      "\u001b[34m\u001b[1mwandb\u001b[0m: \tdropout: 0\n",
      "\u001b[34m\u001b[1mwandb\u001b[0m: \tfilter_type: double\n",
      "\u001b[34m\u001b[1mwandb\u001b[0m: \tkernel_size: 3\n"
     ]
    },
    {
     "data": {
      "text/html": [
       "Tracking run with wandb version 0.19.9"
      ],
      "text/plain": [
       "<IPython.core.display.HTML object>"
      ]
     },
     "metadata": {},
     "output_type": "display_data"
    },
    {
     "data": {
      "text/html": [
       "Run data is saved locally in <code>/content/wandb/run-20250407_124115-68eh1yml</code>"
      ],
      "text/plain": [
       "<IPython.core.display.HTML object>"
      ]
     },
     "metadata": {},
     "output_type": "display_data"
    },
    {
     "data": {
      "text/html": [
       "Syncing run <strong><a href='https://wandb.ai/tejaswiniksssn-indian-institute-of-technology-madras/inat-sweep-v2/runs/68eh1yml' target=\"_blank\">cool-sweep-6</a></strong> to <a href='https://wandb.ai/tejaswiniksssn-indian-institute-of-technology-madras/inat-sweep-v2' target=\"_blank\">Weights & Biases</a> (<a href='https://wandb.me/developer-guide' target=\"_blank\">docs</a>)<br>Sweep page: <a href='https://wandb.ai/tejaswiniksssn-indian-institute-of-technology-madras/inat-sweep-v2/sweeps/307idpzz' target=\"_blank\">https://wandb.ai/tejaswiniksssn-indian-institute-of-technology-madras/inat-sweep-v2/sweeps/307idpzz</a>"
      ],
      "text/plain": [
       "<IPython.core.display.HTML object>"
      ]
     },
     "metadata": {},
     "output_type": "display_data"
    },
    {
     "data": {
      "text/html": [
       " View project at <a href='https://wandb.ai/tejaswiniksssn-indian-institute-of-technology-madras/inat-sweep-v2' target=\"_blank\">https://wandb.ai/tejaswiniksssn-indian-institute-of-technology-madras/inat-sweep-v2</a>"
      ],
      "text/plain": [
       "<IPython.core.display.HTML object>"
      ]
     },
     "metadata": {},
     "output_type": "display_data"
    },
    {
     "data": {
      "text/html": [
       " View sweep at <a href='https://wandb.ai/tejaswiniksssn-indian-institute-of-technology-madras/inat-sweep-v2/sweeps/307idpzz' target=\"_blank\">https://wandb.ai/tejaswiniksssn-indian-institute-of-technology-madras/inat-sweep-v2/sweeps/307idpzz</a>"
      ],
      "text/plain": [
       "<IPython.core.display.HTML object>"
      ]
     },
     "metadata": {},
     "output_type": "display_data"
    },
    {
     "data": {
      "text/html": [
       " View run at <a href='https://wandb.ai/tejaswiniksssn-indian-institute-of-technology-madras/inat-sweep-v2/runs/68eh1yml' target=\"_blank\">https://wandb.ai/tejaswiniksssn-indian-institute-of-technology-madras/inat-sweep-v2/runs/68eh1yml</a>"
      ],
      "text/plain": [
       "<IPython.core.display.HTML object>"
      ]
     },
     "metadata": {},
     "output_type": "display_data"
    },
    {
     "name": "stderr",
     "output_type": "stream",
     "text": [
      "INFO:pytorch_lightning.utilities.rank_zero:You are using the plain ModelCheckpoint callback. Consider using LitModelCheckpoint which with seamless uploading to Model registry.\n",
      "INFO:pytorch_lightning.utilities.rank_zero:GPU available: True (cuda), used: True\n",
      "INFO:pytorch_lightning.utilities.rank_zero:TPU available: False, using: 0 TPU cores\n",
      "INFO:pytorch_lightning.utilities.rank_zero:HPU available: False, using: 0 HPUs\n",
      "INFO:pytorch_lightning.accelerators.cuda:LOCAL_RANK: 0 - CUDA_VISIBLE_DEVICES: [0]\n",
      "INFO:pytorch_lightning.callbacks.model_summary:\n",
      "  | Name    | Type             | Params | Mode \n",
      "-----------------------------------------------------\n",
      "0 | conv    | Sequential       | 6.3 M  | train\n",
      "1 | fc1     | Linear           | 25.7 M | train\n",
      "2 | dropout | Dropout          | 0      | train\n",
      "3 | fc2     | Linear           | 5.1 K  | train\n",
      "4 | loss_fn | CrossEntropyLoss | 0      | train\n",
      "-----------------------------------------------------\n",
      "32.0 M    Trainable params\n",
      "0         Non-trainable params\n",
      "32.0 M    Total params\n",
      "127.865   Total estimated model params size (MB)\n",
      "16        Modules in train mode\n",
      "0         Modules in eval mode\n"
     ]
    },
    {
     "data": {
      "application/vnd.jupyter.widget-view+json": {
       "model_id": "f6db4d6bba4d48469776fa6b1ab9f244",
       "version_major": 2,
       "version_minor": 0
      },
      "text/plain": [
       "Sanity Checking: |          | 0/? [00:00<?, ?it/s]"
      ]
     },
     "metadata": {},
     "output_type": "display_data"
    },
    {
     "data": {
      "application/vnd.jupyter.widget-view+json": {
       "model_id": "ddc122b9572e41dd803f463daf3036ed",
       "version_major": 2,
       "version_minor": 0
      },
      "text/plain": [
       "Training: |          | 0/? [00:00<?, ?it/s]"
      ]
     },
     "metadata": {},
     "output_type": "display_data"
    },
    {
     "data": {
      "application/vnd.jupyter.widget-view+json": {
       "model_id": "46bb05a932384880ae9cd3ca6bf1c6fe",
       "version_major": 2,
       "version_minor": 0
      },
      "text/plain": [
       "Validation: |          | 0/? [00:00<?, ?it/s]"
      ]
     },
     "metadata": {},
     "output_type": "display_data"
    },
    {
     "data": {
      "application/vnd.jupyter.widget-view+json": {
       "model_id": "28849370144946068152a6ed5fd19214",
       "version_major": 2,
       "version_minor": 0
      },
      "text/plain": [
       "Validation: |          | 0/? [00:00<?, ?it/s]"
      ]
     },
     "metadata": {},
     "output_type": "display_data"
    },
    {
     "data": {
      "application/vnd.jupyter.widget-view+json": {
       "model_id": "8073dfbb8d9645ab806ca7b82a36e510",
       "version_major": 2,
       "version_minor": 0
      },
      "text/plain": [
       "Validation: |          | 0/? [00:00<?, ?it/s]"
      ]
     },
     "metadata": {},
     "output_type": "display_data"
    },
    {
     "data": {
      "application/vnd.jupyter.widget-view+json": {
       "model_id": "6eca830de344474dbc4f21e3cd94be98",
       "version_major": 2,
       "version_minor": 0
      },
      "text/plain": [
       "Validation: |          | 0/? [00:00<?, ?it/s]"
      ]
     },
     "metadata": {},
     "output_type": "display_data"
    },
    {
     "data": {
      "application/vnd.jupyter.widget-view+json": {
       "model_id": "8dd7350b93a2405598ea5b295091f96e",
       "version_major": 2,
       "version_minor": 0
      },
      "text/plain": [
       "Validation: |          | 0/? [00:00<?, ?it/s]"
      ]
     },
     "metadata": {},
     "output_type": "display_data"
    },
    {
     "data": {
      "application/vnd.jupyter.widget-view+json": {
       "model_id": "3723106ca6fd408eaae63169737d3321",
       "version_major": 2,
       "version_minor": 0
      },
      "text/plain": [
       "Validation: |          | 0/? [00:00<?, ?it/s]"
      ]
     },
     "metadata": {},
     "output_type": "display_data"
    },
    {
     "data": {
      "application/vnd.jupyter.widget-view+json": {
       "model_id": "47cb5b5905ed4f638ea808e07ced5b3d",
       "version_major": 2,
       "version_minor": 0
      },
      "text/plain": [
       "Validation: |          | 0/? [00:00<?, ?it/s]"
      ]
     },
     "metadata": {},
     "output_type": "display_data"
    },
    {
     "data": {
      "application/vnd.jupyter.widget-view+json": {
       "model_id": "c2a9e0c6179243c69bc517f6fa0544cb",
       "version_major": 2,
       "version_minor": 0
      },
      "text/plain": [
       "Validation: |          | 0/? [00:00<?, ?it/s]"
      ]
     },
     "metadata": {},
     "output_type": "display_data"
    },
    {
     "data": {
      "application/vnd.jupyter.widget-view+json": {
       "model_id": "ba83a561a4234b18900060bffcd36c82",
       "version_major": 2,
       "version_minor": 0
      },
      "text/plain": [
       "Validation: |          | 0/? [00:00<?, ?it/s]"
      ]
     },
     "metadata": {},
     "output_type": "display_data"
    },
    {
     "data": {
      "application/vnd.jupyter.widget-view+json": {
       "model_id": "9a8a90aafce84211b5f0ddde02d63979",
       "version_major": 2,
       "version_minor": 0
      },
      "text/plain": [
       "Validation: |          | 0/? [00:00<?, ?it/s]"
      ]
     },
     "metadata": {},
     "output_type": "display_data"
    },
    {
     "name": "stderr",
     "output_type": "stream",
     "text": [
      "INFO:pytorch_lightning.utilities.rank_zero:`Trainer.fit` stopped: `max_epochs=10` reached.\n"
     ]
    },
    {
     "data": {
      "text/html": [],
      "text/plain": [
       "<IPython.core.display.HTML object>"
      ]
     },
     "metadata": {},
     "output_type": "display_data"
    },
    {
     "data": {
      "text/html": [
       "<br>    <style><br>        .wandb-row {<br>            display: flex;<br>            flex-direction: row;<br>            flex-wrap: wrap;<br>            justify-content: flex-start;<br>            width: 100%;<br>        }<br>        .wandb-col {<br>            display: flex;<br>            flex-direction: column;<br>            flex-basis: 100%;<br>            flex: 1;<br>            padding: 10px;<br>        }<br>    </style><br><div class=\"wandb-row\"><div class=\"wandb-col\"><h3>Run history:</h3><br/><table class=\"wandb\"><tr><td>epoch</td><td>▁▁▂▂▃▃▃▃▄▄▅▅▆▆▆▆▇▇██</td></tr><tr><td>train_acc</td><td>▁▃▄▅▄▃▂▆██</td></tr><tr><td>train_loss</td><td>█▇▆▄▅▅▄▄▁▁</td></tr><tr><td>trainer/global_step</td><td>▁▁▂▂▃▃▃▃▄▄▅▅▆▆▆▆▇▇██</td></tr><tr><td>val_acc</td><td>▁▁▃▄▆█▇███</td></tr><tr><td>val_loss</td><td>█▇▆▄▃▁▂▄▂█</td></tr></table><br/></div><div class=\"wandb-col\"><h3>Run summary:</h3><br/><table class=\"wandb\"><tr><td>epoch</td><td>9</td></tr><tr><td>train_acc</td><td>0.5</td></tr><tr><td>train_loss</td><td>1.52483</td></tr><tr><td>trainer/global_step</td><td>499</td></tr><tr><td>val_acc</td><td>0.31625</td></tr><tr><td>val_loss</td><td>2.18593</td></tr></table><br/></div></div>"
      ],
      "text/plain": [
       "<IPython.core.display.HTML object>"
      ]
     },
     "metadata": {},
     "output_type": "display_data"
    },
    {
     "data": {
      "text/html": [
       " View run <strong style=\"color:#cdcd00\">activation-GELU_augmentation-False_base_filter-64_batch_norm-False_dense_neurons-512_dropout-0_filter_type-double_kernel_size-3</strong> at: <a href='https://wandb.ai/tejaswiniksssn-indian-institute-of-technology-madras/inat-sweep-v2/runs/68eh1yml' target=\"_blank\">https://wandb.ai/tejaswiniksssn-indian-institute-of-technology-madras/inat-sweep-v2/runs/68eh1yml</a><br> View project at: <a href='https://wandb.ai/tejaswiniksssn-indian-institute-of-technology-madras/inat-sweep-v2' target=\"_blank\">https://wandb.ai/tejaswiniksssn-indian-institute-of-technology-madras/inat-sweep-v2</a><br>Synced 5 W&B file(s), 0 media file(s), 0 artifact file(s) and 0 other file(s)"
      ],
      "text/plain": [
       "<IPython.core.display.HTML object>"
      ]
     },
     "metadata": {},
     "output_type": "display_data"
    },
    {
     "data": {
      "text/html": [
       "Find logs at: <code>./wandb/run-20250407_124115-68eh1yml/logs</code>"
      ],
      "text/plain": [
       "<IPython.core.display.HTML object>"
      ]
     },
     "metadata": {},
     "output_type": "display_data"
    },
    {
     "name": "stderr",
     "output_type": "stream",
     "text": [
      "\u001b[34m\u001b[1mwandb\u001b[0m: Agent Starting Run: ei9vljl7 with config:\n",
      "\u001b[34m\u001b[1mwandb\u001b[0m: \tactivation: GELU\n",
      "\u001b[34m\u001b[1mwandb\u001b[0m: \taugmentation: False\n",
      "\u001b[34m\u001b[1mwandb\u001b[0m: \tbase_filter: 32\n",
      "\u001b[34m\u001b[1mwandb\u001b[0m: \tbatch_norm: True\n",
      "\u001b[34m\u001b[1mwandb\u001b[0m: \tdense_neurons: 512\n",
      "\u001b[34m\u001b[1mwandb\u001b[0m: \tdropout: 0\n",
      "\u001b[34m\u001b[1mwandb\u001b[0m: \tfilter_type: same\n",
      "\u001b[34m\u001b[1mwandb\u001b[0m: \tkernel_size: 3\n"
     ]
    },
    {
     "data": {
      "text/html": [
       "Tracking run with wandb version 0.19.9"
      ],
      "text/plain": [
       "<IPython.core.display.HTML object>"
      ]
     },
     "metadata": {},
     "output_type": "display_data"
    },
    {
     "data": {
      "text/html": [
       "Run data is saved locally in <code>/content/wandb/run-20250407_125039-ei9vljl7</code>"
      ],
      "text/plain": [
       "<IPython.core.display.HTML object>"
      ]
     },
     "metadata": {},
     "output_type": "display_data"
    },
    {
     "data": {
      "text/html": [
       "Syncing run <strong><a href='https://wandb.ai/tejaswiniksssn-indian-institute-of-technology-madras/inat-sweep-v2/runs/ei9vljl7' target=\"_blank\">royal-sweep-7</a></strong> to <a href='https://wandb.ai/tejaswiniksssn-indian-institute-of-technology-madras/inat-sweep-v2' target=\"_blank\">Weights & Biases</a> (<a href='https://wandb.me/developer-guide' target=\"_blank\">docs</a>)<br>Sweep page: <a href='https://wandb.ai/tejaswiniksssn-indian-institute-of-technology-madras/inat-sweep-v2/sweeps/307idpzz' target=\"_blank\">https://wandb.ai/tejaswiniksssn-indian-institute-of-technology-madras/inat-sweep-v2/sweeps/307idpzz</a>"
      ],
      "text/plain": [
       "<IPython.core.display.HTML object>"
      ]
     },
     "metadata": {},
     "output_type": "display_data"
    },
    {
     "data": {
      "text/html": [
       " View project at <a href='https://wandb.ai/tejaswiniksssn-indian-institute-of-technology-madras/inat-sweep-v2' target=\"_blank\">https://wandb.ai/tejaswiniksssn-indian-institute-of-technology-madras/inat-sweep-v2</a>"
      ],
      "text/plain": [
       "<IPython.core.display.HTML object>"
      ]
     },
     "metadata": {},
     "output_type": "display_data"
    },
    {
     "data": {
      "text/html": [
       " View sweep at <a href='https://wandb.ai/tejaswiniksssn-indian-institute-of-technology-madras/inat-sweep-v2/sweeps/307idpzz' target=\"_blank\">https://wandb.ai/tejaswiniksssn-indian-institute-of-technology-madras/inat-sweep-v2/sweeps/307idpzz</a>"
      ],
      "text/plain": [
       "<IPython.core.display.HTML object>"
      ]
     },
     "metadata": {},
     "output_type": "display_data"
    },
    {
     "data": {
      "text/html": [
       " View run at <a href='https://wandb.ai/tejaswiniksssn-indian-institute-of-technology-madras/inat-sweep-v2/runs/ei9vljl7' target=\"_blank\">https://wandb.ai/tejaswiniksssn-indian-institute-of-technology-madras/inat-sweep-v2/runs/ei9vljl7</a>"
      ],
      "text/plain": [
       "<IPython.core.display.HTML object>"
      ]
     },
     "metadata": {},
     "output_type": "display_data"
    },
    {
     "name": "stderr",
     "output_type": "stream",
     "text": [
      "INFO:pytorch_lightning.utilities.rank_zero:You are using the plain ModelCheckpoint callback. Consider using LitModelCheckpoint which with seamless uploading to Model registry.\n",
      "INFO:pytorch_lightning.utilities.rank_zero:GPU available: True (cuda), used: True\n",
      "INFO:pytorch_lightning.utilities.rank_zero:TPU available: False, using: 0 TPU cores\n",
      "INFO:pytorch_lightning.utilities.rank_zero:HPU available: False, using: 0 HPUs\n",
      "INFO:pytorch_lightning.accelerators.cuda:LOCAL_RANK: 0 - CUDA_VISIBLE_DEVICES: [0]\n",
      "INFO:pytorch_lightning.callbacks.model_summary:\n",
      "  | Name    | Type             | Params | Mode \n",
      "-----------------------------------------------------\n",
      "0 | conv    | Sequential       | 38.2 K | train\n",
      "1 | fc1     | Linear           | 803 K  | train\n",
      "2 | dropout | Dropout          | 0      | train\n",
      "3 | fc2     | Linear           | 5.1 K  | train\n",
      "4 | loss_fn | CrossEntropyLoss | 0      | train\n",
      "-----------------------------------------------------\n",
      "846 K     Trainable params\n",
      "0         Non-trainable params\n",
      "846 K     Total params\n",
      "3.387     Total estimated model params size (MB)\n",
      "21        Modules in train mode\n",
      "0         Modules in eval mode\n"
     ]
    },
    {
     "data": {
      "application/vnd.jupyter.widget-view+json": {
       "model_id": "f14b5ef4a5eb4b3094c110e0f3eb997b",
       "version_major": 2,
       "version_minor": 0
      },
      "text/plain": [
       "Sanity Checking: |          | 0/? [00:00<?, ?it/s]"
      ]
     },
     "metadata": {},
     "output_type": "display_data"
    },
    {
     "data": {
      "application/vnd.jupyter.widget-view+json": {
       "model_id": "4219b34f771940fdae7ab6dc941b481c",
       "version_major": 2,
       "version_minor": 0
      },
      "text/plain": [
       "Training: |          | 0/? [00:00<?, ?it/s]"
      ]
     },
     "metadata": {},
     "output_type": "display_data"
    },
    {
     "data": {
      "application/vnd.jupyter.widget-view+json": {
       "model_id": "cc615bd9018644c080b806779b14bebf",
       "version_major": 2,
       "version_minor": 0
      },
      "text/plain": [
       "Validation: |          | 0/? [00:00<?, ?it/s]"
      ]
     },
     "metadata": {},
     "output_type": "display_data"
    },
    {
     "data": {
      "application/vnd.jupyter.widget-view+json": {
       "model_id": "f10d09dfda5b46ecaf6b24ebb01390b9",
       "version_major": 2,
       "version_minor": 0
      },
      "text/plain": [
       "Validation: |          | 0/? [00:00<?, ?it/s]"
      ]
     },
     "metadata": {},
     "output_type": "display_data"
    },
    {
     "data": {
      "application/vnd.jupyter.widget-view+json": {
       "model_id": "6566ae7335a742e2a9b69c3e154026d1",
       "version_major": 2,
       "version_minor": 0
      },
      "text/plain": [
       "Validation: |          | 0/? [00:00<?, ?it/s]"
      ]
     },
     "metadata": {},
     "output_type": "display_data"
    },
    {
     "data": {
      "application/vnd.jupyter.widget-view+json": {
       "model_id": "69c97990ac174b8eae10a697c78ca935",
       "version_major": 2,
       "version_minor": 0
      },
      "text/plain": [
       "Validation: |          | 0/? [00:00<?, ?it/s]"
      ]
     },
     "metadata": {},
     "output_type": "display_data"
    },
    {
     "data": {
      "application/vnd.jupyter.widget-view+json": {
       "model_id": "ccbfd680c02240548e946f8ff68fdca3",
       "version_major": 2,
       "version_minor": 0
      },
      "text/plain": [
       "Validation: |          | 0/? [00:00<?, ?it/s]"
      ]
     },
     "metadata": {},
     "output_type": "display_data"
    },
    {
     "data": {
      "application/vnd.jupyter.widget-view+json": {
       "model_id": "9bf391257f0c4cf8a3965bd0bc14cfb1",
       "version_major": 2,
       "version_minor": 0
      },
      "text/plain": [
       "Validation: |          | 0/? [00:00<?, ?it/s]"
      ]
     },
     "metadata": {},
     "output_type": "display_data"
    },
    {
     "data": {
      "application/vnd.jupyter.widget-view+json": {
       "model_id": "36d46d19d68345a19388ffbc3f4527d8",
       "version_major": 2,
       "version_minor": 0
      },
      "text/plain": [
       "Validation: |          | 0/? [00:00<?, ?it/s]"
      ]
     },
     "metadata": {},
     "output_type": "display_data"
    },
    {
     "data": {
      "application/vnd.jupyter.widget-view+json": {
       "model_id": "260ac9cbfaf246dda61608325fa245b4",
       "version_major": 2,
       "version_minor": 0
      },
      "text/plain": [
       "Validation: |          | 0/? [00:00<?, ?it/s]"
      ]
     },
     "metadata": {},
     "output_type": "display_data"
    },
    {
     "data": {
      "application/vnd.jupyter.widget-view+json": {
       "model_id": "64f9ffedb4564276bb34bcc281e35adb",
       "version_major": 2,
       "version_minor": 0
      },
      "text/plain": [
       "Validation: |          | 0/? [00:00<?, ?it/s]"
      ]
     },
     "metadata": {},
     "output_type": "display_data"
    },
    {
     "data": {
      "application/vnd.jupyter.widget-view+json": {
       "model_id": "62392b6a93b0449ab8d13b1817f232ee",
       "version_major": 2,
       "version_minor": 0
      },
      "text/plain": [
       "Validation: |          | 0/? [00:00<?, ?it/s]"
      ]
     },
     "metadata": {},
     "output_type": "display_data"
    },
    {
     "name": "stderr",
     "output_type": "stream",
     "text": [
      "INFO:pytorch_lightning.utilities.rank_zero:`Trainer.fit` stopped: `max_epochs=10` reached.\n"
     ]
    },
    {
     "data": {
      "text/html": [],
      "text/plain": [
       "<IPython.core.display.HTML object>"
      ]
     },
     "metadata": {},
     "output_type": "display_data"
    },
    {
     "data": {
      "text/html": [
       "<br>    <style><br>        .wandb-row {<br>            display: flex;<br>            flex-direction: row;<br>            flex-wrap: wrap;<br>            justify-content: flex-start;<br>            width: 100%;<br>        }<br>        .wandb-col {<br>            display: flex;<br>            flex-direction: column;<br>            flex-basis: 100%;<br>            flex: 1;<br>            padding: 10px;<br>        }<br>    </style><br><div class=\"wandb-row\"><div class=\"wandb-col\"><h3>Run history:</h3><br/><table class=\"wandb\"><tr><td>epoch</td><td>▁▁▂▂▃▃▃▃▄▄▅▅▆▆▆▆▇▇██</td></tr><tr><td>train_acc</td><td>▁▂▃▃▄▄▅▇█▇</td></tr><tr><td>train_loss</td><td>█▇▇▇▅▅▄▃▁▁</td></tr><tr><td>trainer/global_step</td><td>▁▁▂▂▃▃▃▃▄▄▅▅▆▆▆▆▇▇██</td></tr><tr><td>val_acc</td><td>▁▄▆▇▇▇▇██▇</td></tr><tr><td>val_loss</td><td>▅▃▂▅▂▁▃▃▆█</td></tr></table><br/></div><div class=\"wandb-col\"><h3>Run summary:</h3><br/><table class=\"wandb\"><tr><td>epoch</td><td>9</td></tr><tr><td>train_acc</td><td>0.59375</td></tr><tr><td>train_loss</td><td>0.9435</td></tr><tr><td>trainer/global_step</td><td>499</td></tr><tr><td>val_acc</td><td>0.32125</td></tr><tr><td>val_loss</td><td>2.24754</td></tr></table><br/></div></div>"
      ],
      "text/plain": [
       "<IPython.core.display.HTML object>"
      ]
     },
     "metadata": {},
     "output_type": "display_data"
    },
    {
     "data": {
      "text/html": [
       " View run <strong style=\"color:#cdcd00\">activation-GELU_augmentation-False_base_filter-32_batch_norm-True_dense_neurons-512_dropout-0_filter_type-same_kernel_size-3</strong> at: <a href='https://wandb.ai/tejaswiniksssn-indian-institute-of-technology-madras/inat-sweep-v2/runs/ei9vljl7' target=\"_blank\">https://wandb.ai/tejaswiniksssn-indian-institute-of-technology-madras/inat-sweep-v2/runs/ei9vljl7</a><br> View project at: <a href='https://wandb.ai/tejaswiniksssn-indian-institute-of-technology-madras/inat-sweep-v2' target=\"_blank\">https://wandb.ai/tejaswiniksssn-indian-institute-of-technology-madras/inat-sweep-v2</a><br>Synced 5 W&B file(s), 0 media file(s), 0 artifact file(s) and 0 other file(s)"
      ],
      "text/plain": [
       "<IPython.core.display.HTML object>"
      ]
     },
     "metadata": {},
     "output_type": "display_data"
    },
    {
     "data": {
      "text/html": [
       "Find logs at: <code>./wandb/run-20250407_125039-ei9vljl7/logs</code>"
      ],
      "text/plain": [
       "<IPython.core.display.HTML object>"
      ]
     },
     "metadata": {},
     "output_type": "display_data"
    },
    {
     "name": "stderr",
     "output_type": "stream",
     "text": [
      "\u001b[34m\u001b[1mwandb\u001b[0m: Agent Starting Run: ofs785w7 with config:\n",
      "\u001b[34m\u001b[1mwandb\u001b[0m: \tactivation: SiLU\n",
      "\u001b[34m\u001b[1mwandb\u001b[0m: \taugmentation: False\n",
      "\u001b[34m\u001b[1mwandb\u001b[0m: \tbase_filter: 32\n",
      "\u001b[34m\u001b[1mwandb\u001b[0m: \tbatch_norm: False\n",
      "\u001b[34m\u001b[1mwandb\u001b[0m: \tdense_neurons: 512\n",
      "\u001b[34m\u001b[1mwandb\u001b[0m: \tdropout: 0\n",
      "\u001b[34m\u001b[1mwandb\u001b[0m: \tfilter_type: double\n",
      "\u001b[34m\u001b[1mwandb\u001b[0m: \tkernel_size: 3\n"
     ]
    },
    {
     "data": {
      "text/html": [
       "Tracking run with wandb version 0.19.9"
      ],
      "text/plain": [
       "<IPython.core.display.HTML object>"
      ]
     },
     "metadata": {},
     "output_type": "display_data"
    },
    {
     "data": {
      "text/html": [
       "Run data is saved locally in <code>/content/wandb/run-20250407_125741-ofs785w7</code>"
      ],
      "text/plain": [
       "<IPython.core.display.HTML object>"
      ]
     },
     "metadata": {},
     "output_type": "display_data"
    },
    {
     "data": {
      "text/html": [
       "Syncing run <strong><a href='https://wandb.ai/tejaswiniksssn-indian-institute-of-technology-madras/inat-sweep-v2/runs/ofs785w7' target=\"_blank\">tough-sweep-8</a></strong> to <a href='https://wandb.ai/tejaswiniksssn-indian-institute-of-technology-madras/inat-sweep-v2' target=\"_blank\">Weights & Biases</a> (<a href='https://wandb.me/developer-guide' target=\"_blank\">docs</a>)<br>Sweep page: <a href='https://wandb.ai/tejaswiniksssn-indian-institute-of-technology-madras/inat-sweep-v2/sweeps/307idpzz' target=\"_blank\">https://wandb.ai/tejaswiniksssn-indian-institute-of-technology-madras/inat-sweep-v2/sweeps/307idpzz</a>"
      ],
      "text/plain": [
       "<IPython.core.display.HTML object>"
      ]
     },
     "metadata": {},
     "output_type": "display_data"
    },
    {
     "data": {
      "text/html": [
       " View project at <a href='https://wandb.ai/tejaswiniksssn-indian-institute-of-technology-madras/inat-sweep-v2' target=\"_blank\">https://wandb.ai/tejaswiniksssn-indian-institute-of-technology-madras/inat-sweep-v2</a>"
      ],
      "text/plain": [
       "<IPython.core.display.HTML object>"
      ]
     },
     "metadata": {},
     "output_type": "display_data"
    },
    {
     "data": {
      "text/html": [
       " View sweep at <a href='https://wandb.ai/tejaswiniksssn-indian-institute-of-technology-madras/inat-sweep-v2/sweeps/307idpzz' target=\"_blank\">https://wandb.ai/tejaswiniksssn-indian-institute-of-technology-madras/inat-sweep-v2/sweeps/307idpzz</a>"
      ],
      "text/plain": [
       "<IPython.core.display.HTML object>"
      ]
     },
     "metadata": {},
     "output_type": "display_data"
    },
    {
     "data": {
      "text/html": [
       " View run at <a href='https://wandb.ai/tejaswiniksssn-indian-institute-of-technology-madras/inat-sweep-v2/runs/ofs785w7' target=\"_blank\">https://wandb.ai/tejaswiniksssn-indian-institute-of-technology-madras/inat-sweep-v2/runs/ofs785w7</a>"
      ],
      "text/plain": [
       "<IPython.core.display.HTML object>"
      ]
     },
     "metadata": {},
     "output_type": "display_data"
    },
    {
     "name": "stderr",
     "output_type": "stream",
     "text": [
      "INFO:pytorch_lightning.utilities.rank_zero:You are using the plain ModelCheckpoint callback. Consider using LitModelCheckpoint which with seamless uploading to Model registry.\n",
      "INFO:pytorch_lightning.utilities.rank_zero:GPU available: True (cuda), used: True\n",
      "INFO:pytorch_lightning.utilities.rank_zero:TPU available: False, using: 0 TPU cores\n",
      "INFO:pytorch_lightning.utilities.rank_zero:HPU available: False, using: 0 HPUs\n",
      "INFO:pytorch_lightning.accelerators.cuda:LOCAL_RANK: 0 - CUDA_VISIBLE_DEVICES: [0]\n",
      "INFO:pytorch_lightning.callbacks.model_summary:\n",
      "  | Name    | Type             | Params | Mode \n",
      "-----------------------------------------------------\n",
      "0 | conv    | Sequential       | 1.6 M  | train\n",
      "1 | fc1     | Linear           | 12.8 M | train\n",
      "2 | dropout | Dropout          | 0      | train\n",
      "3 | fc2     | Linear           | 5.1 K  | train\n",
      "4 | loss_fn | CrossEntropyLoss | 0      | train\n",
      "-----------------------------------------------------\n",
      "14.4 M    Trainable params\n",
      "0         Non-trainable params\n",
      "14.4 M    Total params\n",
      "57.677    Total estimated model params size (MB)\n",
      "16        Modules in train mode\n",
      "0         Modules in eval mode\n"
     ]
    },
    {
     "data": {
      "application/vnd.jupyter.widget-view+json": {
       "model_id": "11ef61127b264705bffa3b3733c7153d",
       "version_major": 2,
       "version_minor": 0
      },
      "text/plain": [
       "Sanity Checking: |          | 0/? [00:00<?, ?it/s]"
      ]
     },
     "metadata": {},
     "output_type": "display_data"
    },
    {
     "data": {
      "application/vnd.jupyter.widget-view+json": {
       "model_id": "33d2b6ded88c4321b740b4a566c70b20",
       "version_major": 2,
       "version_minor": 0
      },
      "text/plain": [
       "Training: |          | 0/? [00:00<?, ?it/s]"
      ]
     },
     "metadata": {},
     "output_type": "display_data"
    },
    {
     "data": {
      "application/vnd.jupyter.widget-view+json": {
       "model_id": "e0676a2e38e844d089a5a9e30950c66c",
       "version_major": 2,
       "version_minor": 0
      },
      "text/plain": [
       "Validation: |          | 0/? [00:00<?, ?it/s]"
      ]
     },
     "metadata": {},
     "output_type": "display_data"
    },
    {
     "data": {
      "application/vnd.jupyter.widget-view+json": {
       "model_id": "1fd4188bb1fa49ecac3bc1abaa9bc91a",
       "version_major": 2,
       "version_minor": 0
      },
      "text/plain": [
       "Validation: |          | 0/? [00:00<?, ?it/s]"
      ]
     },
     "metadata": {},
     "output_type": "display_data"
    },
    {
     "data": {
      "application/vnd.jupyter.widget-view+json": {
       "model_id": "49409f313ea448a3b6c6d3d99f0f4652",
       "version_major": 2,
       "version_minor": 0
      },
      "text/plain": [
       "Validation: |          | 0/? [00:00<?, ?it/s]"
      ]
     },
     "metadata": {},
     "output_type": "display_data"
    },
    {
     "data": {
      "application/vnd.jupyter.widget-view+json": {
       "model_id": "ecb71f1613564763b6caa70bcb596755",
       "version_major": 2,
       "version_minor": 0
      },
      "text/plain": [
       "Validation: |          | 0/? [00:00<?, ?it/s]"
      ]
     },
     "metadata": {},
     "output_type": "display_data"
    },
    {
     "data": {
      "application/vnd.jupyter.widget-view+json": {
       "model_id": "f82282e0254d401ea6a26e8817e5ca7f",
       "version_major": 2,
       "version_minor": 0
      },
      "text/plain": [
       "Validation: |          | 0/? [00:00<?, ?it/s]"
      ]
     },
     "metadata": {},
     "output_type": "display_data"
    },
    {
     "data": {
      "application/vnd.jupyter.widget-view+json": {
       "model_id": "87af54b3f39a4fd5986e864b203b6c47",
       "version_major": 2,
       "version_minor": 0
      },
      "text/plain": [
       "Validation: |          | 0/? [00:00<?, ?it/s]"
      ]
     },
     "metadata": {},
     "output_type": "display_data"
    },
    {
     "data": {
      "application/vnd.jupyter.widget-view+json": {
       "model_id": "af4cc6155dfc4d1ca11dc5597d0ebe37",
       "version_major": 2,
       "version_minor": 0
      },
      "text/plain": [
       "Validation: |          | 0/? [00:00<?, ?it/s]"
      ]
     },
     "metadata": {},
     "output_type": "display_data"
    },
    {
     "data": {
      "application/vnd.jupyter.widget-view+json": {
       "model_id": "ee2be336fe5344e5a71a225cd25d4539",
       "version_major": 2,
       "version_minor": 0
      },
      "text/plain": [
       "Validation: |          | 0/? [00:00<?, ?it/s]"
      ]
     },
     "metadata": {},
     "output_type": "display_data"
    },
    {
     "data": {
      "application/vnd.jupyter.widget-view+json": {
       "model_id": "6aaf4927335a4ad3953b2549f27a7802",
       "version_major": 2,
       "version_minor": 0
      },
      "text/plain": [
       "Validation: |          | 0/? [00:00<?, ?it/s]"
      ]
     },
     "metadata": {},
     "output_type": "display_data"
    },
    {
     "data": {
      "application/vnd.jupyter.widget-view+json": {
       "model_id": "dc8851cd721f4a5e8345962bbd4901af",
       "version_major": 2,
       "version_minor": 0
      },
      "text/plain": [
       "Validation: |          | 0/? [00:00<?, ?it/s]"
      ]
     },
     "metadata": {},
     "output_type": "display_data"
    },
    {
     "name": "stderr",
     "output_type": "stream",
     "text": [
      "INFO:pytorch_lightning.utilities.rank_zero:`Trainer.fit` stopped: `max_epochs=10` reached.\n"
     ]
    },
    {
     "data": {
      "text/html": [],
      "text/plain": [
       "<IPython.core.display.HTML object>"
      ]
     },
     "metadata": {},
     "output_type": "display_data"
    },
    {
     "data": {
      "text/html": [
       "<br>    <style><br>        .wandb-row {<br>            display: flex;<br>            flex-direction: row;<br>            flex-wrap: wrap;<br>            justify-content: flex-start;<br>            width: 100%;<br>        }<br>        .wandb-col {<br>            display: flex;<br>            flex-direction: column;<br>            flex-basis: 100%;<br>            flex: 1;<br>            padding: 10px;<br>        }<br>    </style><br><div class=\"wandb-row\"><div class=\"wandb-col\"><h3>Run history:</h3><br/><table class=\"wandb\"><tr><td>epoch</td><td>▁▁▂▂▃▃▃▃▄▄▅▅▆▆▆▆▇▇██</td></tr><tr><td>train_acc</td><td>▁▁▂▂▂▃▅▅▅█</td></tr><tr><td>train_loss</td><td>██▇▇▆▆▄▄▂▁</td></tr><tr><td>trainer/global_step</td><td>▁▁▂▂▃▃▃▃▄▄▅▅▆▆▆▆▇▇██</td></tr><tr><td>val_acc</td><td>▂▁▄▄▇▅█▆▇▆</td></tr><tr><td>val_loss</td><td>▂▂▂▂▁▂▂▃▄█</td></tr></table><br/></div><div class=\"wandb-col\"><h3>Run summary:</h3><br/><table class=\"wandb\"><tr><td>epoch</td><td>9</td></tr><tr><td>train_acc</td><td>0.71875</td></tr><tr><td>train_loss</td><td>0.99735</td></tr><tr><td>trainer/global_step</td><td>499</td></tr><tr><td>val_acc</td><td>0.29125</td></tr><tr><td>val_loss</td><td>2.89478</td></tr></table><br/></div></div>"
      ],
      "text/plain": [
       "<IPython.core.display.HTML object>"
      ]
     },
     "metadata": {},
     "output_type": "display_data"
    },
    {
     "data": {
      "text/html": [
       " View run <strong style=\"color:#cdcd00\">activation-SiLU_augmentation-False_base_filter-32_batch_norm-False_dense_neurons-512_dropout-0_filter_type-double_kernel_size-3</strong> at: <a href='https://wandb.ai/tejaswiniksssn-indian-institute-of-technology-madras/inat-sweep-v2/runs/ofs785w7' target=\"_blank\">https://wandb.ai/tejaswiniksssn-indian-institute-of-technology-madras/inat-sweep-v2/runs/ofs785w7</a><br> View project at: <a href='https://wandb.ai/tejaswiniksssn-indian-institute-of-technology-madras/inat-sweep-v2' target=\"_blank\">https://wandb.ai/tejaswiniksssn-indian-institute-of-technology-madras/inat-sweep-v2</a><br>Synced 5 W&B file(s), 0 media file(s), 0 artifact file(s) and 0 other file(s)"
      ],
      "text/plain": [
       "<IPython.core.display.HTML object>"
      ]
     },
     "metadata": {},
     "output_type": "display_data"
    },
    {
     "data": {
      "text/html": [
       "Find logs at: <code>./wandb/run-20250407_125741-ofs785w7/logs</code>"
      ],
      "text/plain": [
       "<IPython.core.display.HTML object>"
      ]
     },
     "metadata": {},
     "output_type": "display_data"
    },
    {
     "name": "stderr",
     "output_type": "stream",
     "text": [
      "\u001b[34m\u001b[1mwandb\u001b[0m: Agent Starting Run: dgtkkc95 with config:\n",
      "\u001b[34m\u001b[1mwandb\u001b[0m: \tactivation: Mish\n",
      "\u001b[34m\u001b[1mwandb\u001b[0m: \taugmentation: False\n",
      "\u001b[34m\u001b[1mwandb\u001b[0m: \tbase_filter: 64\n",
      "\u001b[34m\u001b[1mwandb\u001b[0m: \tbatch_norm: True\n",
      "\u001b[34m\u001b[1mwandb\u001b[0m: \tdense_neurons: 512\n",
      "\u001b[34m\u001b[1mwandb\u001b[0m: \tdropout: 0\n",
      "\u001b[34m\u001b[1mwandb\u001b[0m: \tfilter_type: double\n",
      "\u001b[34m\u001b[1mwandb\u001b[0m: \tkernel_size: 3\n"
     ]
    },
    {
     "data": {
      "text/html": [
       "Tracking run with wandb version 0.19.9"
      ],
      "text/plain": [
       "<IPython.core.display.HTML object>"
      ]
     },
     "metadata": {},
     "output_type": "display_data"
    },
    {
     "data": {
      "text/html": [
       "Run data is saved locally in <code>/content/wandb/run-20250407_130524-dgtkkc95</code>"
      ],
      "text/plain": [
       "<IPython.core.display.HTML object>"
      ]
     },
     "metadata": {},
     "output_type": "display_data"
    },
    {
     "data": {
      "text/html": [
       "Syncing run <strong><a href='https://wandb.ai/tejaswiniksssn-indian-institute-of-technology-madras/inat-sweep-v2/runs/dgtkkc95' target=\"_blank\">fallen-sweep-9</a></strong> to <a href='https://wandb.ai/tejaswiniksssn-indian-institute-of-technology-madras/inat-sweep-v2' target=\"_blank\">Weights & Biases</a> (<a href='https://wandb.me/developer-guide' target=\"_blank\">docs</a>)<br>Sweep page: <a href='https://wandb.ai/tejaswiniksssn-indian-institute-of-technology-madras/inat-sweep-v2/sweeps/307idpzz' target=\"_blank\">https://wandb.ai/tejaswiniksssn-indian-institute-of-technology-madras/inat-sweep-v2/sweeps/307idpzz</a>"
      ],
      "text/plain": [
       "<IPython.core.display.HTML object>"
      ]
     },
     "metadata": {},
     "output_type": "display_data"
    },
    {
     "data": {
      "text/html": [
       " View project at <a href='https://wandb.ai/tejaswiniksssn-indian-institute-of-technology-madras/inat-sweep-v2' target=\"_blank\">https://wandb.ai/tejaswiniksssn-indian-institute-of-technology-madras/inat-sweep-v2</a>"
      ],
      "text/plain": [
       "<IPython.core.display.HTML object>"
      ]
     },
     "metadata": {},
     "output_type": "display_data"
    },
    {
     "data": {
      "text/html": [
       " View sweep at <a href='https://wandb.ai/tejaswiniksssn-indian-institute-of-technology-madras/inat-sweep-v2/sweeps/307idpzz' target=\"_blank\">https://wandb.ai/tejaswiniksssn-indian-institute-of-technology-madras/inat-sweep-v2/sweeps/307idpzz</a>"
      ],
      "text/plain": [
       "<IPython.core.display.HTML object>"
      ]
     },
     "metadata": {},
     "output_type": "display_data"
    },
    {
     "data": {
      "text/html": [
       " View run at <a href='https://wandb.ai/tejaswiniksssn-indian-institute-of-technology-madras/inat-sweep-v2/runs/dgtkkc95' target=\"_blank\">https://wandb.ai/tejaswiniksssn-indian-institute-of-technology-madras/inat-sweep-v2/runs/dgtkkc95</a>"
      ],
      "text/plain": [
       "<IPython.core.display.HTML object>"
      ]
     },
     "metadata": {},
     "output_type": "display_data"
    },
    {
     "name": "stderr",
     "output_type": "stream",
     "text": [
      "INFO:pytorch_lightning.utilities.rank_zero:You are using the plain ModelCheckpoint callback. Consider using LitModelCheckpoint which with seamless uploading to Model registry.\n",
      "INFO:pytorch_lightning.utilities.rank_zero:GPU available: True (cuda), used: True\n",
      "INFO:pytorch_lightning.utilities.rank_zero:TPU available: False, using: 0 TPU cores\n",
      "INFO:pytorch_lightning.utilities.rank_zero:HPU available: False, using: 0 HPUs\n",
      "INFO:pytorch_lightning.accelerators.cuda:LOCAL_RANK: 0 - CUDA_VISIBLE_DEVICES: [0]\n",
      "INFO:pytorch_lightning.callbacks.model_summary:\n",
      "  | Name    | Type             | Params | Mode \n",
      "-----------------------------------------------------\n",
      "0 | conv    | Sequential       | 6.3 M  | train\n",
      "1 | fc1     | Linear           | 25.7 M | train\n",
      "2 | dropout | Dropout          | 0      | train\n",
      "3 | fc2     | Linear           | 5.1 K  | train\n",
      "4 | loss_fn | CrossEntropyLoss | 0      | train\n",
      "-----------------------------------------------------\n",
      "32.0 M    Trainable params\n",
      "0         Non-trainable params\n",
      "32.0 M    Total params\n",
      "127.881   Total estimated model params size (MB)\n",
      "21        Modules in train mode\n",
      "0         Modules in eval mode\n"
     ]
    },
    {
     "data": {
      "application/vnd.jupyter.widget-view+json": {
       "model_id": "064037ef4b0842f6a23ebac03fc9c400",
       "version_major": 2,
       "version_minor": 0
      },
      "text/plain": [
       "Sanity Checking: |          | 0/? [00:00<?, ?it/s]"
      ]
     },
     "metadata": {},
     "output_type": "display_data"
    },
    {
     "data": {
      "application/vnd.jupyter.widget-view+json": {
       "model_id": "edcf367ef83145ab869133af6028a777",
       "version_major": 2,
       "version_minor": 0
      },
      "text/plain": [
       "Training: |          | 0/? [00:00<?, ?it/s]"
      ]
     },
     "metadata": {},
     "output_type": "display_data"
    },
    {
     "data": {
      "application/vnd.jupyter.widget-view+json": {
       "model_id": "a759fc54c40b46d484b75b3574e41c13",
       "version_major": 2,
       "version_minor": 0
      },
      "text/plain": [
       "Validation: |          | 0/? [00:00<?, ?it/s]"
      ]
     },
     "metadata": {},
     "output_type": "display_data"
    },
    {
     "data": {
      "application/vnd.jupyter.widget-view+json": {
       "model_id": "5455261aa0414437ab288d83813851ef",
       "version_major": 2,
       "version_minor": 0
      },
      "text/plain": [
       "Validation: |          | 0/? [00:00<?, ?it/s]"
      ]
     },
     "metadata": {},
     "output_type": "display_data"
    },
    {
     "data": {
      "application/vnd.jupyter.widget-view+json": {
       "model_id": "42548098524f4dfb8ddf161e0e5cb0de",
       "version_major": 2,
       "version_minor": 0
      },
      "text/plain": [
       "Validation: |          | 0/? [00:00<?, ?it/s]"
      ]
     },
     "metadata": {},
     "output_type": "display_data"
    },
    {
     "data": {
      "application/vnd.jupyter.widget-view+json": {
       "model_id": "ef75eeca32e648759a650560909219e8",
       "version_major": 2,
       "version_minor": 0
      },
      "text/plain": [
       "Validation: |          | 0/? [00:00<?, ?it/s]"
      ]
     },
     "metadata": {},
     "output_type": "display_data"
    },
    {
     "data": {
      "application/vnd.jupyter.widget-view+json": {
       "model_id": "0d919976c0a44c59ae150b8ff915d517",
       "version_major": 2,
       "version_minor": 0
      },
      "text/plain": [
       "Validation: |          | 0/? [00:00<?, ?it/s]"
      ]
     },
     "metadata": {},
     "output_type": "display_data"
    },
    {
     "data": {
      "application/vnd.jupyter.widget-view+json": {
       "model_id": "f6ae0ee3f590407cadf3dd303c6bb78b",
       "version_major": 2,
       "version_minor": 0
      },
      "text/plain": [
       "Validation: |          | 0/? [00:00<?, ?it/s]"
      ]
     },
     "metadata": {},
     "output_type": "display_data"
    },
    {
     "data": {
      "application/vnd.jupyter.widget-view+json": {
       "model_id": "bd1d096f36b8434ebdd8d3a36ccd4ce0",
       "version_major": 2,
       "version_minor": 0
      },
      "text/plain": [
       "Validation: |          | 0/? [00:00<?, ?it/s]"
      ]
     },
     "metadata": {},
     "output_type": "display_data"
    },
    {
     "data": {
      "application/vnd.jupyter.widget-view+json": {
       "model_id": "c6d83609bee74d01b9eafaa134fde2de",
       "version_major": 2,
       "version_minor": 0
      },
      "text/plain": [
       "Validation: |          | 0/? [00:00<?, ?it/s]"
      ]
     },
     "metadata": {},
     "output_type": "display_data"
    },
    {
     "data": {
      "application/vnd.jupyter.widget-view+json": {
       "model_id": "f1dbe715f3cd4d029470de65f68c3529",
       "version_major": 2,
       "version_minor": 0
      },
      "text/plain": [
       "Validation: |          | 0/? [00:00<?, ?it/s]"
      ]
     },
     "metadata": {},
     "output_type": "display_data"
    },
    {
     "data": {
      "text/html": [],
      "text/plain": [
       "<IPython.core.display.HTML object>"
      ]
     },
     "metadata": {},
     "output_type": "display_data"
    },
    {
     "data": {
      "text/html": [
       "<br>    <style><br>        .wandb-row {<br>            display: flex;<br>            flex-direction: row;<br>            flex-wrap: wrap;<br>            justify-content: flex-start;<br>            width: 100%;<br>        }<br>        .wandb-col {<br>            display: flex;<br>            flex-direction: column;<br>            flex-basis: 100%;<br>            flex: 1;<br>            padding: 10px;<br>        }<br>    </style><br><div class=\"wandb-row\"><div class=\"wandb-col\"><h3>Run history:</h3><br/><table class=\"wandb\"><tr><td>epoch</td><td>▁▁▂▂▃▃▄▄▅▅▅▅▆▆▇▇██</td></tr><tr><td>train_acc</td><td>▃▄▁▃▆▅▆█▅</td></tr><tr><td>train_loss</td><td>█▃▂▁▁▂▁▁▁</td></tr><tr><td>trainer/global_step</td><td>▁▁▂▂▃▃▄▄▅▅▅▅▆▆▇▇██</td></tr><tr><td>val_acc</td><td>▁▂▅▆▇█▇██</td></tr><tr><td>val_loss</td><td>█▃▁▁▁▁▁▁▁</td></tr></table><br/></div><div class=\"wandb-col\"><h3>Run summary:</h3><br/><table class=\"wandb\"><tr><td>epoch</td><td>8</td></tr><tr><td>train_acc</td><td>0.29688</td></tr><tr><td>train_loss</td><td>1.90461</td></tr><tr><td>trainer/global_step</td><td>449</td></tr><tr><td>val_acc</td><td>0.2775</td></tr><tr><td>val_loss</td><td>2.06796</td></tr></table><br/></div></div>"
      ],
      "text/plain": [
       "<IPython.core.display.HTML object>"
      ]
     },
     "metadata": {},
     "output_type": "display_data"
    },
    {
     "data": {
      "text/html": [
       " View run <strong style=\"color:#cdcd00\">activation-Mish_augmentation-False_base_filter-64_batch_norm-True_dense_neurons-512_dropout-0_filter_type-double_kernel_size-3</strong> at: <a href='https://wandb.ai/tejaswiniksssn-indian-institute-of-technology-madras/inat-sweep-v2/runs/dgtkkc95' target=\"_blank\">https://wandb.ai/tejaswiniksssn-indian-institute-of-technology-madras/inat-sweep-v2/runs/dgtkkc95</a><br> View project at: <a href='https://wandb.ai/tejaswiniksssn-indian-institute-of-technology-madras/inat-sweep-v2' target=\"_blank\">https://wandb.ai/tejaswiniksssn-indian-institute-of-technology-madras/inat-sweep-v2</a><br>Synced 5 W&B file(s), 0 media file(s), 0 artifact file(s) and 0 other file(s)"
      ],
      "text/plain": [
       "<IPython.core.display.HTML object>"
      ]
     },
     "metadata": {},
     "output_type": "display_data"
    },
    {
     "data": {
      "text/html": [
       "Find logs at: <code>./wandb/run-20250407_130524-dgtkkc95/logs</code>"
      ],
      "text/plain": [
       "<IPython.core.display.HTML object>"
      ]
     },
     "metadata": {},
     "output_type": "display_data"
    },
    {
     "name": "stderr",
     "output_type": "stream",
     "text": [
      "\u001b[34m\u001b[1mwandb\u001b[0m: Agent Starting Run: pr431it7 with config:\n",
      "\u001b[34m\u001b[1mwandb\u001b[0m: \tactivation: GELU\n",
      "\u001b[34m\u001b[1mwandb\u001b[0m: \taugmentation: False\n",
      "\u001b[34m\u001b[1mwandb\u001b[0m: \tbase_filter: 64\n",
      "\u001b[34m\u001b[1mwandb\u001b[0m: \tbatch_norm: False\n",
      "\u001b[34m\u001b[1mwandb\u001b[0m: \tdense_neurons: 512\n",
      "\u001b[34m\u001b[1mwandb\u001b[0m: \tdropout: 0\n",
      "\u001b[34m\u001b[1mwandb\u001b[0m: \tfilter_type: double\n",
      "\u001b[34m\u001b[1mwandb\u001b[0m: \tkernel_size: 3\n"
     ]
    },
    {
     "data": {
      "text/html": [
       "Tracking run with wandb version 0.19.9"
      ],
      "text/plain": [
       "<IPython.core.display.HTML object>"
      ]
     },
     "metadata": {},
     "output_type": "display_data"
    },
    {
     "data": {
      "text/html": [
       "Run data is saved locally in <code>/content/wandb/run-20250407_131412-pr431it7</code>"
      ],
      "text/plain": [
       "<IPython.core.display.HTML object>"
      ]
     },
     "metadata": {},
     "output_type": "display_data"
    },
    {
     "data": {
      "text/html": [
       "Syncing run <strong><a href='https://wandb.ai/tejaswiniksssn-indian-institute-of-technology-madras/inat-sweep-v2/runs/pr431it7' target=\"_blank\">honest-sweep-10</a></strong> to <a href='https://wandb.ai/tejaswiniksssn-indian-institute-of-technology-madras/inat-sweep-v2' target=\"_blank\">Weights & Biases</a> (<a href='https://wandb.me/developer-guide' target=\"_blank\">docs</a>)<br>Sweep page: <a href='https://wandb.ai/tejaswiniksssn-indian-institute-of-technology-madras/inat-sweep-v2/sweeps/307idpzz' target=\"_blank\">https://wandb.ai/tejaswiniksssn-indian-institute-of-technology-madras/inat-sweep-v2/sweeps/307idpzz</a>"
      ],
      "text/plain": [
       "<IPython.core.display.HTML object>"
      ]
     },
     "metadata": {},
     "output_type": "display_data"
    },
    {
     "data": {
      "text/html": [
       " View project at <a href='https://wandb.ai/tejaswiniksssn-indian-institute-of-technology-madras/inat-sweep-v2' target=\"_blank\">https://wandb.ai/tejaswiniksssn-indian-institute-of-technology-madras/inat-sweep-v2</a>"
      ],
      "text/plain": [
       "<IPython.core.display.HTML object>"
      ]
     },
     "metadata": {},
     "output_type": "display_data"
    },
    {
     "data": {
      "text/html": [
       " View sweep at <a href='https://wandb.ai/tejaswiniksssn-indian-institute-of-technology-madras/inat-sweep-v2/sweeps/307idpzz' target=\"_blank\">https://wandb.ai/tejaswiniksssn-indian-institute-of-technology-madras/inat-sweep-v2/sweeps/307idpzz</a>"
      ],
      "text/plain": [
       "<IPython.core.display.HTML object>"
      ]
     },
     "metadata": {},
     "output_type": "display_data"
    },
    {
     "data": {
      "text/html": [
       " View run at <a href='https://wandb.ai/tejaswiniksssn-indian-institute-of-technology-madras/inat-sweep-v2/runs/pr431it7' target=\"_blank\">https://wandb.ai/tejaswiniksssn-indian-institute-of-technology-madras/inat-sweep-v2/runs/pr431it7</a>"
      ],
      "text/plain": [
       "<IPython.core.display.HTML object>"
      ]
     },
     "metadata": {},
     "output_type": "display_data"
    },
    {
     "name": "stderr",
     "output_type": "stream",
     "text": [
      "INFO:pytorch_lightning.utilities.rank_zero:You are using the plain ModelCheckpoint callback. Consider using LitModelCheckpoint which with seamless uploading to Model registry.\n",
      "INFO:pytorch_lightning.utilities.rank_zero:GPU available: True (cuda), used: True\n",
      "INFO:pytorch_lightning.utilities.rank_zero:TPU available: False, using: 0 TPU cores\n",
      "INFO:pytorch_lightning.utilities.rank_zero:HPU available: False, using: 0 HPUs\n",
      "INFO:pytorch_lightning.accelerators.cuda:LOCAL_RANK: 0 - CUDA_VISIBLE_DEVICES: [0]\n",
      "INFO:pytorch_lightning.callbacks.model_summary:\n",
      "  | Name    | Type             | Params | Mode \n",
      "-----------------------------------------------------\n",
      "0 | conv    | Sequential       | 6.3 M  | train\n",
      "1 | fc1     | Linear           | 25.7 M | train\n",
      "2 | dropout | Dropout          | 0      | train\n",
      "3 | fc2     | Linear           | 5.1 K  | train\n",
      "4 | loss_fn | CrossEntropyLoss | 0      | train\n",
      "-----------------------------------------------------\n",
      "32.0 M    Trainable params\n",
      "0         Non-trainable params\n",
      "32.0 M    Total params\n",
      "127.865   Total estimated model params size (MB)\n",
      "16        Modules in train mode\n",
      "0         Modules in eval mode\n"
     ]
    },
    {
     "data": {
      "application/vnd.jupyter.widget-view+json": {
       "model_id": "e18037be32b5422ba7f95bbfe5c86cee",
       "version_major": 2,
       "version_minor": 0
      },
      "text/plain": [
       "Sanity Checking: |          | 0/? [00:00<?, ?it/s]"
      ]
     },
     "metadata": {},
     "output_type": "display_data"
    },
    {
     "data": {
      "application/vnd.jupyter.widget-view+json": {
       "model_id": "47869b7c11644b0fa33958e4431338ae",
       "version_major": 2,
       "version_minor": 0
      },
      "text/plain": [
       "Training: |          | 0/? [00:00<?, ?it/s]"
      ]
     },
     "metadata": {},
     "output_type": "display_data"
    },
    {
     "data": {
      "application/vnd.jupyter.widget-view+json": {
       "model_id": "85e704fe37b543c58b36085b3b2b8f3d",
       "version_major": 2,
       "version_minor": 0
      },
      "text/plain": [
       "Validation: |          | 0/? [00:00<?, ?it/s]"
      ]
     },
     "metadata": {},
     "output_type": "display_data"
    },
    {
     "data": {
      "application/vnd.jupyter.widget-view+json": {
       "model_id": "92eda4af907d42bb946202b811da8584",
       "version_major": 2,
       "version_minor": 0
      },
      "text/plain": [
       "Validation: |          | 0/? [00:00<?, ?it/s]"
      ]
     },
     "metadata": {},
     "output_type": "display_data"
    },
    {
     "data": {
      "application/vnd.jupyter.widget-view+json": {
       "model_id": "71a1e257dee6465189afc8f6cf525e95",
       "version_major": 2,
       "version_minor": 0
      },
      "text/plain": [
       "Validation: |          | 0/? [00:00<?, ?it/s]"
      ]
     },
     "metadata": {},
     "output_type": "display_data"
    },
    {
     "data": {
      "application/vnd.jupyter.widget-view+json": {
       "model_id": "585be6ceadc64c9aa8d3e3b879a1eb0b",
       "version_major": 2,
       "version_minor": 0
      },
      "text/plain": [
       "Validation: |          | 0/? [00:00<?, ?it/s]"
      ]
     },
     "metadata": {},
     "output_type": "display_data"
    },
    {
     "data": {
      "application/vnd.jupyter.widget-view+json": {
       "model_id": "6de5b47a143b4de0a7ffd98fc052b708",
       "version_major": 2,
       "version_minor": 0
      },
      "text/plain": [
       "Validation: |          | 0/? [00:00<?, ?it/s]"
      ]
     },
     "metadata": {},
     "output_type": "display_data"
    },
    {
     "data": {
      "application/vnd.jupyter.widget-view+json": {
       "model_id": "1d4df270bac6448687e44e2a6b1d8360",
       "version_major": 2,
       "version_minor": 0
      },
      "text/plain": [
       "Validation: |          | 0/? [00:00<?, ?it/s]"
      ]
     },
     "metadata": {},
     "output_type": "display_data"
    },
    {
     "data": {
      "application/vnd.jupyter.widget-view+json": {
       "model_id": "338839d5bfea40b0b7411ee00466c35a",
       "version_major": 2,
       "version_minor": 0
      },
      "text/plain": [
       "Validation: |          | 0/? [00:00<?, ?it/s]"
      ]
     },
     "metadata": {},
     "output_type": "display_data"
    },
    {
     "data": {
      "application/vnd.jupyter.widget-view+json": {
       "model_id": "883ee43b8246453c9b1ee2384f0b6c90",
       "version_major": 2,
       "version_minor": 0
      },
      "text/plain": [
       "Validation: |          | 0/? [00:00<?, ?it/s]"
      ]
     },
     "metadata": {},
     "output_type": "display_data"
    },
    {
     "data": {
      "application/vnd.jupyter.widget-view+json": {
       "model_id": "6c9f6359f3ce477cad60b1eadbb4377b",
       "version_major": 2,
       "version_minor": 0
      },
      "text/plain": [
       "Validation: |          | 0/? [00:00<?, ?it/s]"
      ]
     },
     "metadata": {},
     "output_type": "display_data"
    },
    {
     "data": {
      "application/vnd.jupyter.widget-view+json": {
       "model_id": "2756f3ac090948df9be72152d3952218",
       "version_major": 2,
       "version_minor": 0
      },
      "text/plain": [
       "Validation: |          | 0/? [00:00<?, ?it/s]"
      ]
     },
     "metadata": {},
     "output_type": "display_data"
    },
    {
     "name": "stderr",
     "output_type": "stream",
     "text": [
      "INFO:pytorch_lightning.utilities.rank_zero:`Trainer.fit` stopped: `max_epochs=10` reached.\n"
     ]
    },
    {
     "data": {
      "text/html": [],
      "text/plain": [
       "<IPython.core.display.HTML object>"
      ]
     },
     "metadata": {},
     "output_type": "display_data"
    },
    {
     "data": {
      "text/html": [
       "<br>    <style><br>        .wandb-row {<br>            display: flex;<br>            flex-direction: row;<br>            flex-wrap: wrap;<br>            justify-content: flex-start;<br>            width: 100%;<br>        }<br>        .wandb-col {<br>            display: flex;<br>            flex-direction: column;<br>            flex-basis: 100%;<br>            flex: 1;<br>            padding: 10px;<br>        }<br>    </style><br><div class=\"wandb-row\"><div class=\"wandb-col\"><h3>Run history:</h3><br/><table class=\"wandb\"><tr><td>epoch</td><td>▁▁▂▂▃▃▃▃▄▄▅▅▆▆▆▆▇▇██</td></tr><tr><td>train_acc</td><td>▁▂▆▃▁▃▃█▃▆</td></tr><tr><td>train_loss</td><td>▇█▃▆▅▃▆▁▂▁</td></tr><tr><td>trainer/global_step</td><td>▁▁▂▂▃▃▃▃▄▄▅▅▆▆▆▆▇▇██</td></tr><tr><td>val_acc</td><td>▁▄▄▆▃▆▆██▇</td></tr><tr><td>val_loss</td><td>█▅▄▄▄▂▂▁▂▂</td></tr></table><br/></div><div class=\"wandb-col\"><h3>Run summary:</h3><br/><table class=\"wandb\"><tr><td>epoch</td><td>9</td></tr><tr><td>train_acc</td><td>0.29688</td></tr><tr><td>train_loss</td><td>1.84162</td></tr><tr><td>trainer/global_step</td><td>499</td></tr><tr><td>val_acc</td><td>0.27375</td></tr><tr><td>val_loss</td><td>2.04214</td></tr></table><br/></div></div>"
      ],
      "text/plain": [
       "<IPython.core.display.HTML object>"
      ]
     },
     "metadata": {},
     "output_type": "display_data"
    },
    {
     "data": {
      "text/html": [
       " View run <strong style=\"color:#cdcd00\">activation-GELU_augmentation-False_base_filter-64_batch_norm-False_dense_neurons-512_dropout-0_filter_type-double_kernel_size-3</strong> at: <a href='https://wandb.ai/tejaswiniksssn-indian-institute-of-technology-madras/inat-sweep-v2/runs/pr431it7' target=\"_blank\">https://wandb.ai/tejaswiniksssn-indian-institute-of-technology-madras/inat-sweep-v2/runs/pr431it7</a><br> View project at: <a href='https://wandb.ai/tejaswiniksssn-indian-institute-of-technology-madras/inat-sweep-v2' target=\"_blank\">https://wandb.ai/tejaswiniksssn-indian-institute-of-technology-madras/inat-sweep-v2</a><br>Synced 5 W&B file(s), 0 media file(s), 0 artifact file(s) and 0 other file(s)"
      ],
      "text/plain": [
       "<IPython.core.display.HTML object>"
      ]
     },
     "metadata": {},
     "output_type": "display_data"
    },
    {
     "data": {
      "text/html": [
       "Find logs at: <code>./wandb/run-20250407_131412-pr431it7/logs</code>"
      ],
      "text/plain": [
       "<IPython.core.display.HTML object>"
      ]
     },
     "metadata": {},
     "output_type": "display_data"
    },
    {
     "name": "stderr",
     "output_type": "stream",
     "text": [
      "\u001b[34m\u001b[1mwandb\u001b[0m: Sweep Agent: Waiting for job.\n",
      "\u001b[34m\u001b[1mwandb\u001b[0m: Job received.\n",
      "\u001b[34m\u001b[1mwandb\u001b[0m: Agent Starting Run: 32a9rxo8 with config:\n",
      "\u001b[34m\u001b[1mwandb\u001b[0m: \tactivation: GELU\n",
      "\u001b[34m\u001b[1mwandb\u001b[0m: \taugmentation: True\n",
      "\u001b[34m\u001b[1mwandb\u001b[0m: \tbase_filter: 64\n",
      "\u001b[34m\u001b[1mwandb\u001b[0m: \tbatch_norm: False\n",
      "\u001b[34m\u001b[1mwandb\u001b[0m: \tdense_neurons: 512\n",
      "\u001b[34m\u001b[1mwandb\u001b[0m: \tdropout: 0\n",
      "\u001b[34m\u001b[1mwandb\u001b[0m: \tfilter_type: same\n",
      "\u001b[34m\u001b[1mwandb\u001b[0m: \tkernel_size: 3\n"
     ]
    },
    {
     "data": {
      "text/html": [
       "Tracking run with wandb version 0.19.9"
      ],
      "text/plain": [
       "<IPython.core.display.HTML object>"
      ]
     },
     "metadata": {},
     "output_type": "display_data"
    },
    {
     "data": {
      "text/html": [
       "Run data is saved locally in <code>/content/wandb/run-20250407_132401-32a9rxo8</code>"
      ],
      "text/plain": [
       "<IPython.core.display.HTML object>"
      ]
     },
     "metadata": {},
     "output_type": "display_data"
    },
    {
     "data": {
      "text/html": [
       "Syncing run <strong><a href='https://wandb.ai/tejaswiniksssn-indian-institute-of-technology-madras/inat-sweep-v2/runs/32a9rxo8' target=\"_blank\">lilac-sweep-11</a></strong> to <a href='https://wandb.ai/tejaswiniksssn-indian-institute-of-technology-madras/inat-sweep-v2' target=\"_blank\">Weights & Biases</a> (<a href='https://wandb.me/developer-guide' target=\"_blank\">docs</a>)<br>Sweep page: <a href='https://wandb.ai/tejaswiniksssn-indian-institute-of-technology-madras/inat-sweep-v2/sweeps/307idpzz' target=\"_blank\">https://wandb.ai/tejaswiniksssn-indian-institute-of-technology-madras/inat-sweep-v2/sweeps/307idpzz</a>"
      ],
      "text/plain": [
       "<IPython.core.display.HTML object>"
      ]
     },
     "metadata": {},
     "output_type": "display_data"
    },
    {
     "data": {
      "text/html": [
       " View project at <a href='https://wandb.ai/tejaswiniksssn-indian-institute-of-technology-madras/inat-sweep-v2' target=\"_blank\">https://wandb.ai/tejaswiniksssn-indian-institute-of-technology-madras/inat-sweep-v2</a>"
      ],
      "text/plain": [
       "<IPython.core.display.HTML object>"
      ]
     },
     "metadata": {},
     "output_type": "display_data"
    },
    {
     "data": {
      "text/html": [
       " View sweep at <a href='https://wandb.ai/tejaswiniksssn-indian-institute-of-technology-madras/inat-sweep-v2/sweeps/307idpzz' target=\"_blank\">https://wandb.ai/tejaswiniksssn-indian-institute-of-technology-madras/inat-sweep-v2/sweeps/307idpzz</a>"
      ],
      "text/plain": [
       "<IPython.core.display.HTML object>"
      ]
     },
     "metadata": {},
     "output_type": "display_data"
    },
    {
     "data": {
      "text/html": [
       " View run at <a href='https://wandb.ai/tejaswiniksssn-indian-institute-of-technology-madras/inat-sweep-v2/runs/32a9rxo8' target=\"_blank\">https://wandb.ai/tejaswiniksssn-indian-institute-of-technology-madras/inat-sweep-v2/runs/32a9rxo8</a>"
      ],
      "text/plain": [
       "<IPython.core.display.HTML object>"
      ]
     },
     "metadata": {},
     "output_type": "display_data"
    },
    {
     "name": "stderr",
     "output_type": "stream",
     "text": [
      "INFO:pytorch_lightning.utilities.rank_zero:You are using the plain ModelCheckpoint callback. Consider using LitModelCheckpoint which with seamless uploading to Model registry.\n",
      "INFO:pytorch_lightning.utilities.rank_zero:GPU available: True (cuda), used: True\n",
      "INFO:pytorch_lightning.utilities.rank_zero:TPU available: False, using: 0 TPU cores\n",
      "INFO:pytorch_lightning.utilities.rank_zero:HPU available: False, using: 0 HPUs\n",
      "INFO:pytorch_lightning.accelerators.cuda:LOCAL_RANK: 0 - CUDA_VISIBLE_DEVICES: [0]\n",
      "INFO:pytorch_lightning.callbacks.model_summary:\n",
      "  | Name    | Type             | Params | Mode \n",
      "-----------------------------------------------------\n",
      "0 | conv    | Sequential       | 149 K  | train\n",
      "1 | fc1     | Linear           | 1.6 M  | train\n",
      "2 | dropout | Dropout          | 0      | train\n",
      "3 | fc2     | Linear           | 5.1 K  | train\n",
      "4 | loss_fn | CrossEntropyLoss | 0      | train\n",
      "-----------------------------------------------------\n",
      "1.8 M     Trainable params\n",
      "0         Non-trainable params\n",
      "1.8 M     Total params\n",
      "7.043     Total estimated model params size (MB)\n",
      "16        Modules in train mode\n",
      "0         Modules in eval mode\n"
     ]
    },
    {
     "data": {
      "application/vnd.jupyter.widget-view+json": {
       "model_id": "4da838d7587c46198da5c93369510378",
       "version_major": 2,
       "version_minor": 0
      },
      "text/plain": [
       "Sanity Checking: |          | 0/? [00:00<?, ?it/s]"
      ]
     },
     "metadata": {},
     "output_type": "display_data"
    },
    {
     "data": {
      "application/vnd.jupyter.widget-view+json": {
       "model_id": "52bcf7ca8223456da8fb9870353cc452",
       "version_major": 2,
       "version_minor": 0
      },
      "text/plain": [
       "Training: |          | 0/? [00:00<?, ?it/s]"
      ]
     },
     "metadata": {},
     "output_type": "display_data"
    },
    {
     "data": {
      "application/vnd.jupyter.widget-view+json": {
       "model_id": "e2d000247af549c1b7b353b61fc9c124",
       "version_major": 2,
       "version_minor": 0
      },
      "text/plain": [
       "Validation: |          | 0/? [00:00<?, ?it/s]"
      ]
     },
     "metadata": {},
     "output_type": "display_data"
    },
    {
     "data": {
      "application/vnd.jupyter.widget-view+json": {
       "model_id": "a5456c5c96384367affdacaa9fe4b9bb",
       "version_major": 2,
       "version_minor": 0
      },
      "text/plain": [
       "Validation: |          | 0/? [00:00<?, ?it/s]"
      ]
     },
     "metadata": {},
     "output_type": "display_data"
    },
    {
     "data": {
      "application/vnd.jupyter.widget-view+json": {
       "model_id": "f6ed27a397a74b7f9f2d26089a18e46e",
       "version_major": 2,
       "version_minor": 0
      },
      "text/plain": [
       "Validation: |          | 0/? [00:00<?, ?it/s]"
      ]
     },
     "metadata": {},
     "output_type": "display_data"
    },
    {
     "data": {
      "application/vnd.jupyter.widget-view+json": {
       "model_id": "77ce051cf90e40aab9c0efee18d626e7",
       "version_major": 2,
       "version_minor": 0
      },
      "text/plain": [
       "Validation: |          | 0/? [00:00<?, ?it/s]"
      ]
     },
     "metadata": {},
     "output_type": "display_data"
    },
    {
     "data": {
      "application/vnd.jupyter.widget-view+json": {
       "model_id": "350596a4e63b4077a33ea263d03f539b",
       "version_major": 2,
       "version_minor": 0
      },
      "text/plain": [
       "Validation: |          | 0/? [00:00<?, ?it/s]"
      ]
     },
     "metadata": {},
     "output_type": "display_data"
    },
    {
     "data": {
      "application/vnd.jupyter.widget-view+json": {
       "model_id": "ce04566c60e549db817b2ad1cbef8d3f",
       "version_major": 2,
       "version_minor": 0
      },
      "text/plain": [
       "Validation: |          | 0/? [00:00<?, ?it/s]"
      ]
     },
     "metadata": {},
     "output_type": "display_data"
    },
    {
     "data": {
      "application/vnd.jupyter.widget-view+json": {
       "model_id": "99c2a75f0ad944ff811d5303c0a85e1c",
       "version_major": 2,
       "version_minor": 0
      },
      "text/plain": [
       "Validation: |          | 0/? [00:00<?, ?it/s]"
      ]
     },
     "metadata": {},
     "output_type": "display_data"
    },
    {
     "data": {
      "application/vnd.jupyter.widget-view+json": {
       "model_id": "c394cb0651d44219ad08220ee9a55eef",
       "version_major": 2,
       "version_minor": 0
      },
      "text/plain": [
       "Validation: |          | 0/? [00:00<?, ?it/s]"
      ]
     },
     "metadata": {},
     "output_type": "display_data"
    },
    {
     "data": {
      "application/vnd.jupyter.widget-view+json": {
       "model_id": "2c229d3620c44aef840910e346276563",
       "version_major": 2,
       "version_minor": 0
      },
      "text/plain": [
       "Validation: |          | 0/? [00:00<?, ?it/s]"
      ]
     },
     "metadata": {},
     "output_type": "display_data"
    },
    {
     "data": {
      "application/vnd.jupyter.widget-view+json": {
       "model_id": "a5435ee4add84b01892ea79bb8094f0c",
       "version_major": 2,
       "version_minor": 0
      },
      "text/plain": [
       "Validation: |          | 0/? [00:00<?, ?it/s]"
      ]
     },
     "metadata": {},
     "output_type": "display_data"
    },
    {
     "name": "stderr",
     "output_type": "stream",
     "text": [
      "INFO:pytorch_lightning.utilities.rank_zero:`Trainer.fit` stopped: `max_epochs=10` reached.\n"
     ]
    },
    {
     "data": {
      "text/html": [],
      "text/plain": [
       "<IPython.core.display.HTML object>"
      ]
     },
     "metadata": {},
     "output_type": "display_data"
    },
    {
     "data": {
      "text/html": [
       "<br>    <style><br>        .wandb-row {<br>            display: flex;<br>            flex-direction: row;<br>            flex-wrap: wrap;<br>            justify-content: flex-start;<br>            width: 100%;<br>        }<br>        .wandb-col {<br>            display: flex;<br>            flex-direction: column;<br>            flex-basis: 100%;<br>            flex: 1;<br>            padding: 10px;<br>        }<br>    </style><br><div class=\"wandb-row\"><div class=\"wandb-col\"><h3>Run history:</h3><br/><table class=\"wandb\"><tr><td>epoch</td><td>▁▁▂▂▃▃▃▃▄▄▅▅▆▆▆▆▇▇██</td></tr><tr><td>train_acc</td><td>▁▅▂▄▅▃▄▃▅█</td></tr><tr><td>train_loss</td><td>█▇▇▅▆▆▆▆▄▁</td></tr><tr><td>trainer/global_step</td><td>▁▁▂▂▃▃▃▃▄▄▅▅▆▆▆▆▇▇██</td></tr><tr><td>val_acc</td><td>▁▂▄▅▆▇▆▇▇█</td></tr><tr><td>val_loss</td><td>██▅▃▃▁▁▁▃▁</td></tr></table><br/></div><div class=\"wandb-col\"><h3>Run summary:</h3><br/><table class=\"wandb\"><tr><td>epoch</td><td>9</td></tr><tr><td>train_acc</td><td>0.46875</td></tr><tr><td>train_loss</td><td>1.45826</td></tr><tr><td>trainer/global_step</td><td>499</td></tr><tr><td>val_acc</td><td>0.35</td></tr><tr><td>val_loss</td><td>1.93232</td></tr></table><br/></div></div>"
      ],
      "text/plain": [
       "<IPython.core.display.HTML object>"
      ]
     },
     "metadata": {},
     "output_type": "display_data"
    },
    {
     "data": {
      "text/html": [
       " View run <strong style=\"color:#cdcd00\">activation-GELU_augmentation-True_base_filter-64_batch_norm-False_dense_neurons-512_dropout-0_filter_type-same_kernel_size-3</strong> at: <a href='https://wandb.ai/tejaswiniksssn-indian-institute-of-technology-madras/inat-sweep-v2/runs/32a9rxo8' target=\"_blank\">https://wandb.ai/tejaswiniksssn-indian-institute-of-technology-madras/inat-sweep-v2/runs/32a9rxo8</a><br> View project at: <a href='https://wandb.ai/tejaswiniksssn-indian-institute-of-technology-madras/inat-sweep-v2' target=\"_blank\">https://wandb.ai/tejaswiniksssn-indian-institute-of-technology-madras/inat-sweep-v2</a><br>Synced 5 W&B file(s), 0 media file(s), 0 artifact file(s) and 0 other file(s)"
      ],
      "text/plain": [
       "<IPython.core.display.HTML object>"
      ]
     },
     "metadata": {},
     "output_type": "display_data"
    },
    {
     "data": {
      "text/html": [
       "Find logs at: <code>./wandb/run-20250407_132401-32a9rxo8/logs</code>"
      ],
      "text/plain": [
       "<IPython.core.display.HTML object>"
      ]
     },
     "metadata": {},
     "output_type": "display_data"
    },
    {
     "name": "stderr",
     "output_type": "stream",
     "text": [
      "\u001b[34m\u001b[1mwandb\u001b[0m: Sweep Agent: Waiting for job.\n",
      "\u001b[34m\u001b[1mwandb\u001b[0m: Job received.\n",
      "\u001b[34m\u001b[1mwandb\u001b[0m: Agent Starting Run: 5ktdonab with config:\n",
      "\u001b[34m\u001b[1mwandb\u001b[0m: \tactivation: SiLU\n",
      "\u001b[34m\u001b[1mwandb\u001b[0m: \taugmentation: False\n",
      "\u001b[34m\u001b[1mwandb\u001b[0m: \tbase_filter: 64\n",
      "\u001b[34m\u001b[1mwandb\u001b[0m: \tbatch_norm: False\n",
      "\u001b[34m\u001b[1mwandb\u001b[0m: \tdense_neurons: 512\n",
      "\u001b[34m\u001b[1mwandb\u001b[0m: \tdropout: 0\n",
      "\u001b[34m\u001b[1mwandb\u001b[0m: \tfilter_type: same\n",
      "\u001b[34m\u001b[1mwandb\u001b[0m: \tkernel_size: 3\n"
     ]
    },
    {
     "data": {
      "text/html": [
       "Tracking run with wandb version 0.19.9"
      ],
      "text/plain": [
       "<IPython.core.display.HTML object>"
      ]
     },
     "metadata": {},
     "output_type": "display_data"
    },
    {
     "data": {
      "text/html": [
       "Run data is saved locally in <code>/content/wandb/run-20250407_133133-5ktdonab</code>"
      ],
      "text/plain": [
       "<IPython.core.display.HTML object>"
      ]
     },
     "metadata": {},
     "output_type": "display_data"
    },
    {
     "data": {
      "text/html": [
       "Syncing run <strong><a href='https://wandb.ai/tejaswiniksssn-indian-institute-of-technology-madras/inat-sweep-v2/runs/5ktdonab' target=\"_blank\">magic-sweep-12</a></strong> to <a href='https://wandb.ai/tejaswiniksssn-indian-institute-of-technology-madras/inat-sweep-v2' target=\"_blank\">Weights & Biases</a> (<a href='https://wandb.me/developer-guide' target=\"_blank\">docs</a>)<br>Sweep page: <a href='https://wandb.ai/tejaswiniksssn-indian-institute-of-technology-madras/inat-sweep-v2/sweeps/307idpzz' target=\"_blank\">https://wandb.ai/tejaswiniksssn-indian-institute-of-technology-madras/inat-sweep-v2/sweeps/307idpzz</a>"
      ],
      "text/plain": [
       "<IPython.core.display.HTML object>"
      ]
     },
     "metadata": {},
     "output_type": "display_data"
    },
    {
     "data": {
      "text/html": [
       " View project at <a href='https://wandb.ai/tejaswiniksssn-indian-institute-of-technology-madras/inat-sweep-v2' target=\"_blank\">https://wandb.ai/tejaswiniksssn-indian-institute-of-technology-madras/inat-sweep-v2</a>"
      ],
      "text/plain": [
       "<IPython.core.display.HTML object>"
      ]
     },
     "metadata": {},
     "output_type": "display_data"
    },
    {
     "data": {
      "text/html": [
       " View sweep at <a href='https://wandb.ai/tejaswiniksssn-indian-institute-of-technology-madras/inat-sweep-v2/sweeps/307idpzz' target=\"_blank\">https://wandb.ai/tejaswiniksssn-indian-institute-of-technology-madras/inat-sweep-v2/sweeps/307idpzz</a>"
      ],
      "text/plain": [
       "<IPython.core.display.HTML object>"
      ]
     },
     "metadata": {},
     "output_type": "display_data"
    },
    {
     "data": {
      "text/html": [
       " View run at <a href='https://wandb.ai/tejaswiniksssn-indian-institute-of-technology-madras/inat-sweep-v2/runs/5ktdonab' target=\"_blank\">https://wandb.ai/tejaswiniksssn-indian-institute-of-technology-madras/inat-sweep-v2/runs/5ktdonab</a>"
      ],
      "text/plain": [
       "<IPython.core.display.HTML object>"
      ]
     },
     "metadata": {},
     "output_type": "display_data"
    },
    {
     "name": "stderr",
     "output_type": "stream",
     "text": [
      "INFO:pytorch_lightning.utilities.rank_zero:You are using the plain ModelCheckpoint callback. Consider using LitModelCheckpoint which with seamless uploading to Model registry.\n",
      "INFO:pytorch_lightning.utilities.rank_zero:GPU available: True (cuda), used: True\n",
      "INFO:pytorch_lightning.utilities.rank_zero:TPU available: False, using: 0 TPU cores\n",
      "INFO:pytorch_lightning.utilities.rank_zero:HPU available: False, using: 0 HPUs\n",
      "INFO:pytorch_lightning.accelerators.cuda:LOCAL_RANK: 0 - CUDA_VISIBLE_DEVICES: [0]\n",
      "INFO:pytorch_lightning.callbacks.model_summary:\n",
      "  | Name    | Type             | Params | Mode \n",
      "-----------------------------------------------------\n",
      "0 | conv    | Sequential       | 149 K  | train\n",
      "1 | fc1     | Linear           | 1.6 M  | train\n",
      "2 | dropout | Dropout          | 0      | train\n",
      "3 | fc2     | Linear           | 5.1 K  | train\n",
      "4 | loss_fn | CrossEntropyLoss | 0      | train\n",
      "-----------------------------------------------------\n",
      "1.8 M     Trainable params\n",
      "0         Non-trainable params\n",
      "1.8 M     Total params\n",
      "7.043     Total estimated model params size (MB)\n",
      "16        Modules in train mode\n",
      "0         Modules in eval mode\n"
     ]
    },
    {
     "data": {
      "application/vnd.jupyter.widget-view+json": {
       "model_id": "730c7b54ab614ccd9f8c67f47198ac39",
       "version_major": 2,
       "version_minor": 0
      },
      "text/plain": [
       "Sanity Checking: |          | 0/? [00:00<?, ?it/s]"
      ]
     },
     "metadata": {},
     "output_type": "display_data"
    },
    {
     "data": {
      "application/vnd.jupyter.widget-view+json": {
       "model_id": "eed70ecfbd844cb0835573dc5e23ae57",
       "version_major": 2,
       "version_minor": 0
      },
      "text/plain": [
       "Training: |          | 0/? [00:00<?, ?it/s]"
      ]
     },
     "metadata": {},
     "output_type": "display_data"
    },
    {
     "data": {
      "application/vnd.jupyter.widget-view+json": {
       "model_id": "63b471f54c6f403ba8f19d35ab64684d",
       "version_major": 2,
       "version_minor": 0
      },
      "text/plain": [
       "Validation: |          | 0/? [00:00<?, ?it/s]"
      ]
     },
     "metadata": {},
     "output_type": "display_data"
    },
    {
     "data": {
      "application/vnd.jupyter.widget-view+json": {
       "model_id": "8650a0b0d0354e419eab1f70a416a0ca",
       "version_major": 2,
       "version_minor": 0
      },
      "text/plain": [
       "Validation: |          | 0/? [00:00<?, ?it/s]"
      ]
     },
     "metadata": {},
     "output_type": "display_data"
    },
    {
     "data": {
      "application/vnd.jupyter.widget-view+json": {
       "model_id": "df393e1ee6de42ea9f41b49005a89124",
       "version_major": 2,
       "version_minor": 0
      },
      "text/plain": [
       "Validation: |          | 0/? [00:00<?, ?it/s]"
      ]
     },
     "metadata": {},
     "output_type": "display_data"
    },
    {
     "data": {
      "application/vnd.jupyter.widget-view+json": {
       "model_id": "100dc925fd6242d692b997401f4b15ab",
       "version_major": 2,
       "version_minor": 0
      },
      "text/plain": [
       "Validation: |          | 0/? [00:00<?, ?it/s]"
      ]
     },
     "metadata": {},
     "output_type": "display_data"
    },
    {
     "data": {
      "application/vnd.jupyter.widget-view+json": {
       "model_id": "410fbb5a47014f25918337fd72be7c6d",
       "version_major": 2,
       "version_minor": 0
      },
      "text/plain": [
       "Validation: |          | 0/? [00:00<?, ?it/s]"
      ]
     },
     "metadata": {},
     "output_type": "display_data"
    },
    {
     "data": {
      "application/vnd.jupyter.widget-view+json": {
       "model_id": "1e08503bee88499d8adffa55240c83c5",
       "version_major": 2,
       "version_minor": 0
      },
      "text/plain": [
       "Validation: |          | 0/? [00:00<?, ?it/s]"
      ]
     },
     "metadata": {},
     "output_type": "display_data"
    },
    {
     "data": {
      "application/vnd.jupyter.widget-view+json": {
       "model_id": "32644c7f7939471985ed31899fc14a9b",
       "version_major": 2,
       "version_minor": 0
      },
      "text/plain": [
       "Validation: |          | 0/? [00:00<?, ?it/s]"
      ]
     },
     "metadata": {},
     "output_type": "display_data"
    },
    {
     "data": {
      "application/vnd.jupyter.widget-view+json": {
       "model_id": "282cac6a62274a2997562ec6d3dd1c1d",
       "version_major": 2,
       "version_minor": 0
      },
      "text/plain": [
       "Validation: |          | 0/? [00:00<?, ?it/s]"
      ]
     },
     "metadata": {},
     "output_type": "display_data"
    },
    {
     "data": {
      "application/vnd.jupyter.widget-view+json": {
       "model_id": "2acaede726444dcda986233e8bee09cb",
       "version_major": 2,
       "version_minor": 0
      },
      "text/plain": [
       "Validation: |          | 0/? [00:00<?, ?it/s]"
      ]
     },
     "metadata": {},
     "output_type": "display_data"
    },
    {
     "data": {
      "application/vnd.jupyter.widget-view+json": {
       "model_id": "54a5f2036b8a438982ecfa243e978790",
       "version_major": 2,
       "version_minor": 0
      },
      "text/plain": [
       "Validation: |          | 0/? [00:00<?, ?it/s]"
      ]
     },
     "metadata": {},
     "output_type": "display_data"
    },
    {
     "name": "stderr",
     "output_type": "stream",
     "text": [
      "INFO:pytorch_lightning.utilities.rank_zero:`Trainer.fit` stopped: `max_epochs=10` reached.\n"
     ]
    },
    {
     "data": {
      "text/html": [],
      "text/plain": [
       "<IPython.core.display.HTML object>"
      ]
     },
     "metadata": {},
     "output_type": "display_data"
    },
    {
     "data": {
      "text/html": [
       "<br>    <style><br>        .wandb-row {<br>            display: flex;<br>            flex-direction: row;<br>            flex-wrap: wrap;<br>            justify-content: flex-start;<br>            width: 100%;<br>        }<br>        .wandb-col {<br>            display: flex;<br>            flex-direction: column;<br>            flex-basis: 100%;<br>            flex: 1;<br>            padding: 10px;<br>        }<br>    </style><br><div class=\"wandb-row\"><div class=\"wandb-col\"><h3>Run history:</h3><br/><table class=\"wandb\"><tr><td>epoch</td><td>▁▁▂▂▃▃▃▃▄▄▅▅▆▆▆▆▇▇██</td></tr><tr><td>train_acc</td><td>▁▁▁▃▂▂▄▄▆█</td></tr><tr><td>train_loss</td><td>███▇█▇▅▅▄▁</td></tr><tr><td>trainer/global_step</td><td>▁▁▂▂▃▃▃▃▄▄▅▅▆▆▆▆▇▇██</td></tr><tr><td>val_acc</td><td>▁▁▂▇▇▇█▇▅▇</td></tr><tr><td>val_loss</td><td>▂▂▂▁▁▁▂▂▅█</td></tr></table><br/></div><div class=\"wandb-col\"><h3>Run summary:</h3><br/><table class=\"wandb\"><tr><td>epoch</td><td>9</td></tr><tr><td>train_acc</td><td>0.84375</td></tr><tr><td>train_loss</td><td>0.54067</td></tr><tr><td>trainer/global_step</td><td>499</td></tr><tr><td>val_acc</td><td>0.2775</td></tr><tr><td>val_loss</td><td>2.89002</td></tr></table><br/></div></div>"
      ],
      "text/plain": [
       "<IPython.core.display.HTML object>"
      ]
     },
     "metadata": {},
     "output_type": "display_data"
    },
    {
     "data": {
      "text/html": [
       " View run <strong style=\"color:#cdcd00\">activation-SiLU_augmentation-False_base_filter-64_batch_norm-False_dense_neurons-512_dropout-0_filter_type-same_kernel_size-3</strong> at: <a href='https://wandb.ai/tejaswiniksssn-indian-institute-of-technology-madras/inat-sweep-v2/runs/5ktdonab' target=\"_blank\">https://wandb.ai/tejaswiniksssn-indian-institute-of-technology-madras/inat-sweep-v2/runs/5ktdonab</a><br> View project at: <a href='https://wandb.ai/tejaswiniksssn-indian-institute-of-technology-madras/inat-sweep-v2' target=\"_blank\">https://wandb.ai/tejaswiniksssn-indian-institute-of-technology-madras/inat-sweep-v2</a><br>Synced 5 W&B file(s), 0 media file(s), 0 artifact file(s) and 0 other file(s)"
      ],
      "text/plain": [
       "<IPython.core.display.HTML object>"
      ]
     },
     "metadata": {},
     "output_type": "display_data"
    },
    {
     "data": {
      "text/html": [
       "Find logs at: <code>./wandb/run-20250407_133133-5ktdonab/logs</code>"
      ],
      "text/plain": [
       "<IPython.core.display.HTML object>"
      ]
     },
     "metadata": {},
     "output_type": "display_data"
    },
    {
     "name": "stderr",
     "output_type": "stream",
     "text": [
      "\u001b[34m\u001b[1mwandb\u001b[0m: Agent Starting Run: gq9nit2c with config:\n",
      "\u001b[34m\u001b[1mwandb\u001b[0m: \tactivation: GELU\n",
      "\u001b[34m\u001b[1mwandb\u001b[0m: \taugmentation: True\n",
      "\u001b[34m\u001b[1mwandb\u001b[0m: \tbase_filter: 64\n",
      "\u001b[34m\u001b[1mwandb\u001b[0m: \tbatch_norm: True\n",
      "\u001b[34m\u001b[1mwandb\u001b[0m: \tdense_neurons: 512\n",
      "\u001b[34m\u001b[1mwandb\u001b[0m: \tdropout: 0\n",
      "\u001b[34m\u001b[1mwandb\u001b[0m: \tfilter_type: same\n",
      "\u001b[34m\u001b[1mwandb\u001b[0m: \tkernel_size: 3\n"
     ]
    },
    {
     "data": {
      "text/html": [
       "Tracking run with wandb version 0.19.9"
      ],
      "text/plain": [
       "<IPython.core.display.HTML object>"
      ]
     },
     "metadata": {},
     "output_type": "display_data"
    },
    {
     "data": {
      "text/html": [
       "Run data is saved locally in <code>/content/wandb/run-20250407_133845-gq9nit2c</code>"
      ],
      "text/plain": [
       "<IPython.core.display.HTML object>"
      ]
     },
     "metadata": {},
     "output_type": "display_data"
    },
    {
     "data": {
      "text/html": [
       "Syncing run <strong><a href='https://wandb.ai/tejaswiniksssn-indian-institute-of-technology-madras/inat-sweep-v2/runs/gq9nit2c' target=\"_blank\">trim-sweep-13</a></strong> to <a href='https://wandb.ai/tejaswiniksssn-indian-institute-of-technology-madras/inat-sweep-v2' target=\"_blank\">Weights & Biases</a> (<a href='https://wandb.me/developer-guide' target=\"_blank\">docs</a>)<br>Sweep page: <a href='https://wandb.ai/tejaswiniksssn-indian-institute-of-technology-madras/inat-sweep-v2/sweeps/307idpzz' target=\"_blank\">https://wandb.ai/tejaswiniksssn-indian-institute-of-technology-madras/inat-sweep-v2/sweeps/307idpzz</a>"
      ],
      "text/plain": [
       "<IPython.core.display.HTML object>"
      ]
     },
     "metadata": {},
     "output_type": "display_data"
    },
    {
     "data": {
      "text/html": [
       " View project at <a href='https://wandb.ai/tejaswiniksssn-indian-institute-of-technology-madras/inat-sweep-v2' target=\"_blank\">https://wandb.ai/tejaswiniksssn-indian-institute-of-technology-madras/inat-sweep-v2</a>"
      ],
      "text/plain": [
       "<IPython.core.display.HTML object>"
      ]
     },
     "metadata": {},
     "output_type": "display_data"
    },
    {
     "data": {
      "text/html": [
       " View sweep at <a href='https://wandb.ai/tejaswiniksssn-indian-institute-of-technology-madras/inat-sweep-v2/sweeps/307idpzz' target=\"_blank\">https://wandb.ai/tejaswiniksssn-indian-institute-of-technology-madras/inat-sweep-v2/sweeps/307idpzz</a>"
      ],
      "text/plain": [
       "<IPython.core.display.HTML object>"
      ]
     },
     "metadata": {},
     "output_type": "display_data"
    },
    {
     "data": {
      "text/html": [
       " View run at <a href='https://wandb.ai/tejaswiniksssn-indian-institute-of-technology-madras/inat-sweep-v2/runs/gq9nit2c' target=\"_blank\">https://wandb.ai/tejaswiniksssn-indian-institute-of-technology-madras/inat-sweep-v2/runs/gq9nit2c</a>"
      ],
      "text/plain": [
       "<IPython.core.display.HTML object>"
      ]
     },
     "metadata": {},
     "output_type": "display_data"
    },
    {
     "name": "stderr",
     "output_type": "stream",
     "text": [
      "INFO:pytorch_lightning.utilities.rank_zero:You are using the plain ModelCheckpoint callback. Consider using LitModelCheckpoint which with seamless uploading to Model registry.\n",
      "INFO:pytorch_lightning.utilities.rank_zero:GPU available: True (cuda), used: True\n",
      "INFO:pytorch_lightning.utilities.rank_zero:TPU available: False, using: 0 TPU cores\n",
      "INFO:pytorch_lightning.utilities.rank_zero:HPU available: False, using: 0 HPUs\n",
      "INFO:pytorch_lightning.accelerators.cuda:LOCAL_RANK: 0 - CUDA_VISIBLE_DEVICES: [0]\n",
      "INFO:pytorch_lightning.callbacks.model_summary:\n",
      "  | Name    | Type             | Params | Mode \n",
      "-----------------------------------------------------\n",
      "0 | conv    | Sequential       | 150 K  | train\n",
      "1 | fc1     | Linear           | 1.6 M  | train\n",
      "2 | dropout | Dropout          | 0      | train\n",
      "3 | fc2     | Linear           | 5.1 K  | train\n",
      "4 | loss_fn | CrossEntropyLoss | 0      | train\n",
      "-----------------------------------------------------\n",
      "1.8 M     Trainable params\n",
      "0         Non-trainable params\n",
      "1.8 M     Total params\n",
      "7.046     Total estimated model params size (MB)\n",
      "21        Modules in train mode\n",
      "0         Modules in eval mode\n"
     ]
    },
    {
     "data": {
      "application/vnd.jupyter.widget-view+json": {
       "model_id": "294b2278779e44bba46a139b2af0c77c",
       "version_major": 2,
       "version_minor": 0
      },
      "text/plain": [
       "Sanity Checking: |          | 0/? [00:00<?, ?it/s]"
      ]
     },
     "metadata": {},
     "output_type": "display_data"
    },
    {
     "data": {
      "application/vnd.jupyter.widget-view+json": {
       "model_id": "6c2b3753524e43f097664ac3262b33cf",
       "version_major": 2,
       "version_minor": 0
      },
      "text/plain": [
       "Training: |          | 0/? [00:00<?, ?it/s]"
      ]
     },
     "metadata": {},
     "output_type": "display_data"
    },
    {
     "data": {
      "application/vnd.jupyter.widget-view+json": {
       "model_id": "18027d9f86f049b08857e3bfa763aedb",
       "version_major": 2,
       "version_minor": 0
      },
      "text/plain": [
       "Validation: |          | 0/? [00:00<?, ?it/s]"
      ]
     },
     "metadata": {},
     "output_type": "display_data"
    },
    {
     "data": {
      "application/vnd.jupyter.widget-view+json": {
       "model_id": "51b5f2520598408fa1271163822f09f2",
       "version_major": 2,
       "version_minor": 0
      },
      "text/plain": [
       "Validation: |          | 0/? [00:00<?, ?it/s]"
      ]
     },
     "metadata": {},
     "output_type": "display_data"
    },
    {
     "data": {
      "application/vnd.jupyter.widget-view+json": {
       "model_id": "d1f5e116b126479e8d932bd41ceb6e7d",
       "version_major": 2,
       "version_minor": 0
      },
      "text/plain": [
       "Validation: |          | 0/? [00:00<?, ?it/s]"
      ]
     },
     "metadata": {},
     "output_type": "display_data"
    },
    {
     "data": {
      "application/vnd.jupyter.widget-view+json": {
       "model_id": "015b62b42d0444c598073da4cacffa77",
       "version_major": 2,
       "version_minor": 0
      },
      "text/plain": [
       "Validation: |          | 0/? [00:00<?, ?it/s]"
      ]
     },
     "metadata": {},
     "output_type": "display_data"
    },
    {
     "data": {
      "application/vnd.jupyter.widget-view+json": {
       "model_id": "9f18b8cc48714881a2a02133062f835a",
       "version_major": 2,
       "version_minor": 0
      },
      "text/plain": [
       "Validation: |          | 0/? [00:00<?, ?it/s]"
      ]
     },
     "metadata": {},
     "output_type": "display_data"
    },
    {
     "data": {
      "application/vnd.jupyter.widget-view+json": {
       "model_id": "f0694c6e4d344691b8d4948b70d1add0",
       "version_major": 2,
       "version_minor": 0
      },
      "text/plain": [
       "Validation: |          | 0/? [00:00<?, ?it/s]"
      ]
     },
     "metadata": {},
     "output_type": "display_data"
    },
    {
     "data": {
      "application/vnd.jupyter.widget-view+json": {
       "model_id": "f1705efc84424559805f797ce8ad6874",
       "version_major": 2,
       "version_minor": 0
      },
      "text/plain": [
       "Validation: |          | 0/? [00:00<?, ?it/s]"
      ]
     },
     "metadata": {},
     "output_type": "display_data"
    },
    {
     "data": {
      "application/vnd.jupyter.widget-view+json": {
       "model_id": "8c171282f6254891adbc2f3e24bc67af",
       "version_major": 2,
       "version_minor": 0
      },
      "text/plain": [
       "Validation: |          | 0/? [00:00<?, ?it/s]"
      ]
     },
     "metadata": {},
     "output_type": "display_data"
    },
    {
     "data": {
      "text/html": [],
      "text/plain": [
       "<IPython.core.display.HTML object>"
      ]
     },
     "metadata": {},
     "output_type": "display_data"
    },
    {
     "data": {
      "text/html": [
       "<br>    <style><br>        .wandb-row {<br>            display: flex;<br>            flex-direction: row;<br>            flex-wrap: wrap;<br>            justify-content: flex-start;<br>            width: 100%;<br>        }<br>        .wandb-col {<br>            display: flex;<br>            flex-direction: column;<br>            flex-basis: 100%;<br>            flex: 1;<br>            padding: 10px;<br>        }<br>    </style><br><div class=\"wandb-row\"><div class=\"wandb-col\"><h3>Run history:</h3><br/><table class=\"wandb\"><tr><td>epoch</td><td>▁▁▂▂▃▃▄▄▅▅▆▆▇▇██</td></tr><tr><td>train_acc</td><td>▁▂▂█▅▇▅▆</td></tr><tr><td>train_loss</td><td>█▅▅▁▂▂▄▁</td></tr><tr><td>trainer/global_step</td><td>▁▁▂▂▃▃▄▄▅▅▆▆▇▇██</td></tr><tr><td>val_acc</td><td>▁▂▇▇█▇▅█</td></tr><tr><td>val_loss</td><td>█▅▁▁▁▁▂▁</td></tr></table><br/></div><div class=\"wandb-col\"><h3>Run summary:</h3><br/><table class=\"wandb\"><tr><td>epoch</td><td>7</td></tr><tr><td>train_acc</td><td>0.375</td></tr><tr><td>train_loss</td><td>1.63984</td></tr><tr><td>trainer/global_step</td><td>399</td></tr><tr><td>val_acc</td><td>0.33</td></tr><tr><td>val_loss</td><td>1.96936</td></tr></table><br/></div></div>"
      ],
      "text/plain": [
       "<IPython.core.display.HTML object>"
      ]
     },
     "metadata": {},
     "output_type": "display_data"
    },
    {
     "data": {
      "text/html": [
       " View run <strong style=\"color:#cdcd00\">activation-GELU_augmentation-True_base_filter-64_batch_norm-True_dense_neurons-512_dropout-0_filter_type-same_kernel_size-3</strong> at: <a href='https://wandb.ai/tejaswiniksssn-indian-institute-of-technology-madras/inat-sweep-v2/runs/gq9nit2c' target=\"_blank\">https://wandb.ai/tejaswiniksssn-indian-institute-of-technology-madras/inat-sweep-v2/runs/gq9nit2c</a><br> View project at: <a href='https://wandb.ai/tejaswiniksssn-indian-institute-of-technology-madras/inat-sweep-v2' target=\"_blank\">https://wandb.ai/tejaswiniksssn-indian-institute-of-technology-madras/inat-sweep-v2</a><br>Synced 5 W&B file(s), 0 media file(s), 0 artifact file(s) and 0 other file(s)"
      ],
      "text/plain": [
       "<IPython.core.display.HTML object>"
      ]
     },
     "metadata": {},
     "output_type": "display_data"
    },
    {
     "data": {
      "text/html": [
       "Find logs at: <code>./wandb/run-20250407_133845-gq9nit2c/logs</code>"
      ],
      "text/plain": [
       "<IPython.core.display.HTML object>"
      ]
     },
     "metadata": {},
     "output_type": "display_data"
    },
    {
     "name": "stderr",
     "output_type": "stream",
     "text": [
      "\u001b[34m\u001b[1mwandb\u001b[0m: Agent Starting Run: cd6vsdll with config:\n",
      "\u001b[34m\u001b[1mwandb\u001b[0m: \tactivation: GELU\n",
      "\u001b[34m\u001b[1mwandb\u001b[0m: \taugmentation: False\n",
      "\u001b[34m\u001b[1mwandb\u001b[0m: \tbase_filter: 32\n",
      "\u001b[34m\u001b[1mwandb\u001b[0m: \tbatch_norm: True\n",
      "\u001b[34m\u001b[1mwandb\u001b[0m: \tdense_neurons: 512\n",
      "\u001b[34m\u001b[1mwandb\u001b[0m: \tdropout: 0\n",
      "\u001b[34m\u001b[1mwandb\u001b[0m: \tfilter_type: same\n",
      "\u001b[34m\u001b[1mwandb\u001b[0m: \tkernel_size: 3\n"
     ]
    },
    {
     "data": {
      "text/html": [
       "Tracking run with wandb version 0.19.9"
      ],
      "text/plain": [
       "<IPython.core.display.HTML object>"
      ]
     },
     "metadata": {},
     "output_type": "display_data"
    },
    {
     "data": {
      "text/html": [
       "Run data is saved locally in <code>/content/wandb/run-20250407_134451-cd6vsdll</code>"
      ],
      "text/plain": [
       "<IPython.core.display.HTML object>"
      ]
     },
     "metadata": {},
     "output_type": "display_data"
    },
    {
     "data": {
      "text/html": [
       "Syncing run <strong><a href='https://wandb.ai/tejaswiniksssn-indian-institute-of-technology-madras/inat-sweep-v2/runs/cd6vsdll' target=\"_blank\">sunny-sweep-14</a></strong> to <a href='https://wandb.ai/tejaswiniksssn-indian-institute-of-technology-madras/inat-sweep-v2' target=\"_blank\">Weights & Biases</a> (<a href='https://wandb.me/developer-guide' target=\"_blank\">docs</a>)<br>Sweep page: <a href='https://wandb.ai/tejaswiniksssn-indian-institute-of-technology-madras/inat-sweep-v2/sweeps/307idpzz' target=\"_blank\">https://wandb.ai/tejaswiniksssn-indian-institute-of-technology-madras/inat-sweep-v2/sweeps/307idpzz</a>"
      ],
      "text/plain": [
       "<IPython.core.display.HTML object>"
      ]
     },
     "metadata": {},
     "output_type": "display_data"
    },
    {
     "data": {
      "text/html": [
       " View project at <a href='https://wandb.ai/tejaswiniksssn-indian-institute-of-technology-madras/inat-sweep-v2' target=\"_blank\">https://wandb.ai/tejaswiniksssn-indian-institute-of-technology-madras/inat-sweep-v2</a>"
      ],
      "text/plain": [
       "<IPython.core.display.HTML object>"
      ]
     },
     "metadata": {},
     "output_type": "display_data"
    },
    {
     "data": {
      "text/html": [
       " View sweep at <a href='https://wandb.ai/tejaswiniksssn-indian-institute-of-technology-madras/inat-sweep-v2/sweeps/307idpzz' target=\"_blank\">https://wandb.ai/tejaswiniksssn-indian-institute-of-technology-madras/inat-sweep-v2/sweeps/307idpzz</a>"
      ],
      "text/plain": [
       "<IPython.core.display.HTML object>"
      ]
     },
     "metadata": {},
     "output_type": "display_data"
    },
    {
     "data": {
      "text/html": [
       " View run at <a href='https://wandb.ai/tejaswiniksssn-indian-institute-of-technology-madras/inat-sweep-v2/runs/cd6vsdll' target=\"_blank\">https://wandb.ai/tejaswiniksssn-indian-institute-of-technology-madras/inat-sweep-v2/runs/cd6vsdll</a>"
      ],
      "text/plain": [
       "<IPython.core.display.HTML object>"
      ]
     },
     "metadata": {},
     "output_type": "display_data"
    },
    {
     "name": "stderr",
     "output_type": "stream",
     "text": [
      "INFO:pytorch_lightning.utilities.rank_zero:You are using the plain ModelCheckpoint callback. Consider using LitModelCheckpoint which with seamless uploading to Model registry.\n",
      "INFO:pytorch_lightning.utilities.rank_zero:GPU available: True (cuda), used: True\n",
      "INFO:pytorch_lightning.utilities.rank_zero:TPU available: False, using: 0 TPU cores\n",
      "INFO:pytorch_lightning.utilities.rank_zero:HPU available: False, using: 0 HPUs\n",
      "INFO:pytorch_lightning.accelerators.cuda:LOCAL_RANK: 0 - CUDA_VISIBLE_DEVICES: [0]\n",
      "INFO:pytorch_lightning.callbacks.model_summary:\n",
      "  | Name    | Type             | Params | Mode \n",
      "-----------------------------------------------------\n",
      "0 | conv    | Sequential       | 38.2 K | train\n",
      "1 | fc1     | Linear           | 803 K  | train\n",
      "2 | dropout | Dropout          | 0      | train\n",
      "3 | fc2     | Linear           | 5.1 K  | train\n",
      "4 | loss_fn | CrossEntropyLoss | 0      | train\n",
      "-----------------------------------------------------\n",
      "846 K     Trainable params\n",
      "0         Non-trainable params\n",
      "846 K     Total params\n",
      "3.387     Total estimated model params size (MB)\n",
      "21        Modules in train mode\n",
      "0         Modules in eval mode\n"
     ]
    },
    {
     "data": {
      "application/vnd.jupyter.widget-view+json": {
       "model_id": "ab56c7ed18b14cb98c6e48b53922ae31",
       "version_major": 2,
       "version_minor": 0
      },
      "text/plain": [
       "Sanity Checking: |          | 0/? [00:00<?, ?it/s]"
      ]
     },
     "metadata": {},
     "output_type": "display_data"
    },
    {
     "data": {
      "application/vnd.jupyter.widget-view+json": {
       "model_id": "b6de99d34bd04acba99c6239e519b3b4",
       "version_major": 2,
       "version_minor": 0
      },
      "text/plain": [
       "Training: |          | 0/? [00:00<?, ?it/s]"
      ]
     },
     "metadata": {},
     "output_type": "display_data"
    },
    {
     "data": {
      "application/vnd.jupyter.widget-view+json": {
       "model_id": "ff784bb586f04c82b251cf68953cda18",
       "version_major": 2,
       "version_minor": 0
      },
      "text/plain": [
       "Validation: |          | 0/? [00:00<?, ?it/s]"
      ]
     },
     "metadata": {},
     "output_type": "display_data"
    },
    {
     "data": {
      "application/vnd.jupyter.widget-view+json": {
       "model_id": "266dd483e9f54aeb9ea59a9e590080bf",
       "version_major": 2,
       "version_minor": 0
      },
      "text/plain": [
       "Validation: |          | 0/? [00:00<?, ?it/s]"
      ]
     },
     "metadata": {},
     "output_type": "display_data"
    },
    {
     "data": {
      "application/vnd.jupyter.widget-view+json": {
       "model_id": "373dc98a1e58418c8e17fb4b161f0a8b",
       "version_major": 2,
       "version_minor": 0
      },
      "text/plain": [
       "Validation: |          | 0/? [00:00<?, ?it/s]"
      ]
     },
     "metadata": {},
     "output_type": "display_data"
    },
    {
     "data": {
      "application/vnd.jupyter.widget-view+json": {
       "model_id": "9fe192546f89453c98351e9a2760b2c8",
       "version_major": 2,
       "version_minor": 0
      },
      "text/plain": [
       "Validation: |          | 0/? [00:00<?, ?it/s]"
      ]
     },
     "metadata": {},
     "output_type": "display_data"
    },
    {
     "data": {
      "application/vnd.jupyter.widget-view+json": {
       "model_id": "407a0ca94613468581c059c31bd85f8a",
       "version_major": 2,
       "version_minor": 0
      },
      "text/plain": [
       "Validation: |          | 0/? [00:00<?, ?it/s]"
      ]
     },
     "metadata": {},
     "output_type": "display_data"
    },
    {
     "data": {
      "application/vnd.jupyter.widget-view+json": {
       "model_id": "1e7f825af5a3404e9bfa67bea825beb9",
       "version_major": 2,
       "version_minor": 0
      },
      "text/plain": [
       "Validation: |          | 0/? [00:00<?, ?it/s]"
      ]
     },
     "metadata": {},
     "output_type": "display_data"
    },
    {
     "data": {
      "application/vnd.jupyter.widget-view+json": {
       "model_id": "bd3b95321c7349cdbf7075fc61edd799",
       "version_major": 2,
       "version_minor": 0
      },
      "text/plain": [
       "Validation: |          | 0/? [00:00<?, ?it/s]"
      ]
     },
     "metadata": {},
     "output_type": "display_data"
    },
    {
     "data": {
      "application/vnd.jupyter.widget-view+json": {
       "model_id": "207a5a52a26c40b0a415ff479de9e495",
       "version_major": 2,
       "version_minor": 0
      },
      "text/plain": [
       "Validation: |          | 0/? [00:00<?, ?it/s]"
      ]
     },
     "metadata": {},
     "output_type": "display_data"
    },
    {
     "data": {
      "text/html": [],
      "text/plain": [
       "<IPython.core.display.HTML object>"
      ]
     },
     "metadata": {},
     "output_type": "display_data"
    },
    {
     "data": {
      "text/html": [
       "<br>    <style><br>        .wandb-row {<br>            display: flex;<br>            flex-direction: row;<br>            flex-wrap: wrap;<br>            justify-content: flex-start;<br>            width: 100%;<br>        }<br>        .wandb-col {<br>            display: flex;<br>            flex-direction: column;<br>            flex-basis: 100%;<br>            flex: 1;<br>            padding: 10px;<br>        }<br>    </style><br><div class=\"wandb-row\"><div class=\"wandb-col\"><h3>Run history:</h3><br/><table class=\"wandb\"><tr><td>epoch</td><td>▁▁▂▂▃▃▄▄▅▅▆▆▇▇██</td></tr><tr><td>train_acc</td><td>▁▇▇▄▂▅█▆</td></tr><tr><td>train_loss</td><td>█▄▄▅▅▃▁▁</td></tr><tr><td>trainer/global_step</td><td>▁▁▂▂▃▃▄▄▅▅▆▆▇▇██</td></tr><tr><td>val_acc</td><td>▁▃▆▇█▆▇█</td></tr><tr><td>val_loss</td><td>█▄▂▂▁▃▂█</td></tr></table><br/></div><div class=\"wandb-col\"><h3>Run summary:</h3><br/><table class=\"wandb\"><tr><td>epoch</td><td>7</td></tr><tr><td>train_acc</td><td>0.40625</td></tr><tr><td>train_loss</td><td>1.4436</td></tr><tr><td>trainer/global_step</td><td>399</td></tr><tr><td>val_acc</td><td>0.32375</td></tr><tr><td>val_loss</td><td>2.19336</td></tr></table><br/></div></div>"
      ],
      "text/plain": [
       "<IPython.core.display.HTML object>"
      ]
     },
     "metadata": {},
     "output_type": "display_data"
    },
    {
     "data": {
      "text/html": [
       " View run <strong style=\"color:#cdcd00\">activation-GELU_augmentation-False_base_filter-32_batch_norm-True_dense_neurons-512_dropout-0_filter_type-same_kernel_size-3</strong> at: <a href='https://wandb.ai/tejaswiniksssn-indian-institute-of-technology-madras/inat-sweep-v2/runs/cd6vsdll' target=\"_blank\">https://wandb.ai/tejaswiniksssn-indian-institute-of-technology-madras/inat-sweep-v2/runs/cd6vsdll</a><br> View project at: <a href='https://wandb.ai/tejaswiniksssn-indian-institute-of-technology-madras/inat-sweep-v2' target=\"_blank\">https://wandb.ai/tejaswiniksssn-indian-institute-of-technology-madras/inat-sweep-v2</a><br>Synced 5 W&B file(s), 0 media file(s), 0 artifact file(s) and 0 other file(s)"
      ],
      "text/plain": [
       "<IPython.core.display.HTML object>"
      ]
     },
     "metadata": {},
     "output_type": "display_data"
    },
    {
     "data": {
      "text/html": [
       "Find logs at: <code>./wandb/run-20250407_134451-cd6vsdll/logs</code>"
      ],
      "text/plain": [
       "<IPython.core.display.HTML object>"
      ]
     },
     "metadata": {},
     "output_type": "display_data"
    },
    {
     "name": "stderr",
     "output_type": "stream",
     "text": [
      "\u001b[34m\u001b[1mwandb\u001b[0m: Agent Starting Run: vk5b9a7c with config:\n",
      "\u001b[34m\u001b[1mwandb\u001b[0m: \tactivation: ReLU\n",
      "\u001b[34m\u001b[1mwandb\u001b[0m: \taugmentation: True\n",
      "\u001b[34m\u001b[1mwandb\u001b[0m: \tbase_filter: 64\n",
      "\u001b[34m\u001b[1mwandb\u001b[0m: \tbatch_norm: True\n",
      "\u001b[34m\u001b[1mwandb\u001b[0m: \tdense_neurons: 512\n",
      "\u001b[34m\u001b[1mwandb\u001b[0m: \tdropout: 0\n",
      "\u001b[34m\u001b[1mwandb\u001b[0m: \tfilter_type: same\n",
      "\u001b[34m\u001b[1mwandb\u001b[0m: \tkernel_size: 3\n"
     ]
    },
    {
     "data": {
      "text/html": [
       "Tracking run with wandb version 0.19.9"
      ],
      "text/plain": [
       "<IPython.core.display.HTML object>"
      ]
     },
     "metadata": {},
     "output_type": "display_data"
    },
    {
     "data": {
      "text/html": [
       "Run data is saved locally in <code>/content/wandb/run-20250407_135032-vk5b9a7c</code>"
      ],
      "text/plain": [
       "<IPython.core.display.HTML object>"
      ]
     },
     "metadata": {},
     "output_type": "display_data"
    },
    {
     "data": {
      "text/html": [
       "Syncing run <strong><a href='https://wandb.ai/tejaswiniksssn-indian-institute-of-technology-madras/inat-sweep-v2/runs/vk5b9a7c' target=\"_blank\">sunny-sweep-15</a></strong> to <a href='https://wandb.ai/tejaswiniksssn-indian-institute-of-technology-madras/inat-sweep-v2' target=\"_blank\">Weights & Biases</a> (<a href='https://wandb.me/developer-guide' target=\"_blank\">docs</a>)<br>Sweep page: <a href='https://wandb.ai/tejaswiniksssn-indian-institute-of-technology-madras/inat-sweep-v2/sweeps/307idpzz' target=\"_blank\">https://wandb.ai/tejaswiniksssn-indian-institute-of-technology-madras/inat-sweep-v2/sweeps/307idpzz</a>"
      ],
      "text/plain": [
       "<IPython.core.display.HTML object>"
      ]
     },
     "metadata": {},
     "output_type": "display_data"
    },
    {
     "data": {
      "text/html": [
       " View project at <a href='https://wandb.ai/tejaswiniksssn-indian-institute-of-technology-madras/inat-sweep-v2' target=\"_blank\">https://wandb.ai/tejaswiniksssn-indian-institute-of-technology-madras/inat-sweep-v2</a>"
      ],
      "text/plain": [
       "<IPython.core.display.HTML object>"
      ]
     },
     "metadata": {},
     "output_type": "display_data"
    },
    {
     "data": {
      "text/html": [
       " View sweep at <a href='https://wandb.ai/tejaswiniksssn-indian-institute-of-technology-madras/inat-sweep-v2/sweeps/307idpzz' target=\"_blank\">https://wandb.ai/tejaswiniksssn-indian-institute-of-technology-madras/inat-sweep-v2/sweeps/307idpzz</a>"
      ],
      "text/plain": [
       "<IPython.core.display.HTML object>"
      ]
     },
     "metadata": {},
     "output_type": "display_data"
    },
    {
     "data": {
      "text/html": [
       " View run at <a href='https://wandb.ai/tejaswiniksssn-indian-institute-of-technology-madras/inat-sweep-v2/runs/vk5b9a7c' target=\"_blank\">https://wandb.ai/tejaswiniksssn-indian-institute-of-technology-madras/inat-sweep-v2/runs/vk5b9a7c</a>"
      ],
      "text/plain": [
       "<IPython.core.display.HTML object>"
      ]
     },
     "metadata": {},
     "output_type": "display_data"
    },
    {
     "name": "stderr",
     "output_type": "stream",
     "text": [
      "INFO:pytorch_lightning.utilities.rank_zero:You are using the plain ModelCheckpoint callback. Consider using LitModelCheckpoint which with seamless uploading to Model registry.\n",
      "INFO:pytorch_lightning.utilities.rank_zero:GPU available: True (cuda), used: True\n",
      "INFO:pytorch_lightning.utilities.rank_zero:TPU available: False, using: 0 TPU cores\n",
      "INFO:pytorch_lightning.utilities.rank_zero:HPU available: False, using: 0 HPUs\n",
      "INFO:pytorch_lightning.accelerators.cuda:LOCAL_RANK: 0 - CUDA_VISIBLE_DEVICES: [0]\n",
      "INFO:pytorch_lightning.callbacks.model_summary:\n",
      "  | Name    | Type             | Params | Mode \n",
      "-----------------------------------------------------\n",
      "0 | conv    | Sequential       | 150 K  | train\n",
      "1 | fc1     | Linear           | 1.6 M  | train\n",
      "2 | dropout | Dropout          | 0      | train\n",
      "3 | fc2     | Linear           | 5.1 K  | train\n",
      "4 | loss_fn | CrossEntropyLoss | 0      | train\n",
      "-----------------------------------------------------\n",
      "1.8 M     Trainable params\n",
      "0         Non-trainable params\n",
      "1.8 M     Total params\n",
      "7.046     Total estimated model params size (MB)\n",
      "21        Modules in train mode\n",
      "0         Modules in eval mode\n"
     ]
    },
    {
     "data": {
      "application/vnd.jupyter.widget-view+json": {
       "model_id": "617fa9d6729a4749915fb9a621f3d6fe",
       "version_major": 2,
       "version_minor": 0
      },
      "text/plain": [
       "Sanity Checking: |          | 0/? [00:00<?, ?it/s]"
      ]
     },
     "metadata": {},
     "output_type": "display_data"
    },
    {
     "data": {
      "application/vnd.jupyter.widget-view+json": {
       "model_id": "cbe43db4a1664cc5a4f58ebaedbbbcc5",
       "version_major": 2,
       "version_minor": 0
      },
      "text/plain": [
       "Training: |          | 0/? [00:00<?, ?it/s]"
      ]
     },
     "metadata": {},
     "output_type": "display_data"
    },
    {
     "data": {
      "application/vnd.jupyter.widget-view+json": {
       "model_id": "2bf09d210c4444f79324377c75953277",
       "version_major": 2,
       "version_minor": 0
      },
      "text/plain": [
       "Validation: |          | 0/? [00:00<?, ?it/s]"
      ]
     },
     "metadata": {},
     "output_type": "display_data"
    },
    {
     "data": {
      "application/vnd.jupyter.widget-view+json": {
       "model_id": "c3d887d35dfd47c2b759dfacc8812cd0",
       "version_major": 2,
       "version_minor": 0
      },
      "text/plain": [
       "Validation: |          | 0/? [00:00<?, ?it/s]"
      ]
     },
     "metadata": {},
     "output_type": "display_data"
    },
    {
     "data": {
      "application/vnd.jupyter.widget-view+json": {
       "model_id": "8b96b6dac39a4a9985cedc48c03dd0de",
       "version_major": 2,
       "version_minor": 0
      },
      "text/plain": [
       "Validation: |          | 0/? [00:00<?, ?it/s]"
      ]
     },
     "metadata": {},
     "output_type": "display_data"
    },
    {
     "data": {
      "application/vnd.jupyter.widget-view+json": {
       "model_id": "d0e58a95eada487f8546535d5115e0b5",
       "version_major": 2,
       "version_minor": 0
      },
      "text/plain": [
       "Validation: |          | 0/? [00:00<?, ?it/s]"
      ]
     },
     "metadata": {},
     "output_type": "display_data"
    }
   ],
   "source": [
    "import os\n",
    "import torch\n",
    "import random\n",
    "import wandb\n",
    "import torch.nn as nn\n",
    "import torch.nn.functional as F\n",
    "import pytorch_lightning as pl\n",
    "import torchvision.transforms as transforms\n",
    "from torch.utils.data import Subset, DataLoader\n",
    "from torchvision.datasets import ImageFolder\n",
    "from pytorch_lightning.loggers import WandbLogger\n",
    "from pytorch_lightning.callbacks import ModelCheckpoint\n",
    "from pytorch_lightning.callbacks.early_stopping import EarlyStopping\n",
    "from google.colab import drive\n",
    "\n",
    "# Set seed for reproducibility\n",
    "pl.seed_everything(42)\n",
    "\n",
    "drive.mount('/content/drive', force_remount=True)\n",
    "\n",
    "# Extract dataset\n",
    "zip_path = \"/content/drive/MyDrive/nature_12K.zip\"\n",
    "data_dir = \"/content/inaturalist_12K/train\"\n",
    "if not os.path.exists(data_dir):\n",
    "    !cp \"{zip_path}\" .\n",
    "    !unzip -q nature_12K.zip\n",
    "    !rm nature_12K.zip\n",
    "\n",
    "def get_balanced_subset(dataset, samples_per_class = 400):\n",
    "    class_indices = {cls: [] for cls in range(len(dataset.classes))}\n",
    "    # Collect indices for each class\n",
    "    for idx, (_, label) in enumerate(dataset.samples):\n",
    "        class_indices[label].append(idx)\n",
    "    # Randomly sample from each class\n",
    "    selected_indices = []\n",
    "    for cls, indices in class_indices.items():\n",
    "        sampled = random.sample(indices, min(samples_per_class, len(indices)))\n",
    "        selected_indices.extend(sampled)\n",
    "    random.shuffle(selected_indices)\n",
    "    return Subset(dataset, selected_indices)\n",
    "\n",
    "\n",
    "# Activation mapping\n",
    "ACTIVATION_MAP = {\n",
    "    \"ReLU\": nn.ReLU(),\n",
    "    \"GELU\": nn.GELU(),\n",
    "    \"SiLU\": nn.SiLU(),\n",
    "    \"Mish\": nn.Mish()\n",
    "}\n",
    "\n",
    "# Flexible CNN Model\n",
    "class FlexibleCNN(pl.LightningModule):\n",
    "    def __init__(self, config):\n",
    "        super().__init__()\n",
    "        self.save_hyperparameters()\n",
    "\n",
    "        input_channels = 3\n",
    "        num_classes = 10\n",
    "        kernel_size = config.get(\"kernel_size\")\n",
    "        dense_neurons = config.get(\"dense_neurons\")\n",
    "        input_size = 224\n",
    "        filter_type = config.get(\"filter_type\")\n",
    "        base_filter = config.get(\"base_filter\")\n",
    "\n",
    "        # Set convolutional filters\n",
    "        if filter_type == \"same\":\n",
    "            conv_filters = [base_filter] * 5\n",
    "        elif filter_type == \"double\":\n",
    "            conv_filters = [base_filter * (2 ** i) for i in range(5)]\n",
    "        elif filter_type == \"half\":\n",
    "            conv_filters = [base_filter // (2 ** i) for i in range(5)]\n",
    "        conv_filters = [max(4, f) for f in conv_filters]  # avoid 0 filters\n",
    "\n",
    "        layers = []\n",
    "        in_channels = input_channels\n",
    "\n",
    "        # Calculate the final feature map size\n",
    "        self.final_size = input_size\n",
    "        for _ in conv_filters:\n",
    "            self.final_size = self.final_size // 2  # account for max pooling\n",
    "\n",
    "        for out_channels in conv_filters:\n",
    "            layers.append(nn.Conv2d(in_channels, out_channels, kernel_size, padding=1))\n",
    "            if config.get(\"batch_norm\"):\n",
    "                layers.append(nn.BatchNorm2d(out_channels))\n",
    "            layers.append(ACTIVATION_MAP[config.get(\"activation\")])\n",
    "            layers.append(nn.MaxPool2d(2, 2))\n",
    "            in_channels = out_channels\n",
    "\n",
    "        self.conv = nn.Sequential(*layers)\n",
    "\n",
    "        # Dummy input to compute final shape after conv layers\n",
    "        with torch.no_grad():\n",
    "            dummy_input = torch.zeros(1, 3, input_size, input_size)\n",
    "            dummy_output = self.conv(dummy_input)\n",
    "            fc_in = dummy_output.view(1, -1).shape[1]\n",
    "\n",
    "        self.fc1 = nn.Linear(fc_in, dense_neurons)\n",
    "        self.dropout = nn.Dropout(config.get(\"dropout\"))\n",
    "        self.fc2 = nn.Linear(dense_neurons, num_classes)\n",
    "\n",
    "        self.loss_fn = nn.CrossEntropyLoss()\n",
    "\n",
    "    def forward(self, x):\n",
    "        x = self.conv(x)\n",
    "        x = x.view(x.size(0), -1)\n",
    "        x = self.dropout(F.relu(self.fc1(x)))\n",
    "        x = self.fc2(x)\n",
    "        return x\n",
    "\n",
    "    def training_step(self, batch, batch_idx):\n",
    "        x, y = batch\n",
    "        logits = self(x)\n",
    "        loss = self.loss_fn(logits, y)\n",
    "        acc = (logits.argmax(1) == y).float().mean()\n",
    "        self.log(\"train_loss\", loss, prog_bar=True)\n",
    "        self.log(\"train_acc\", acc, prog_bar=True)\n",
    "        return loss\n",
    "\n",
    "    def validation_step(self, batch, batch_idx):\n",
    "        x, y = batch\n",
    "        logits = self(x)\n",
    "        loss = self.loss_fn(logits, y)\n",
    "        acc = (logits.argmax(1) == y).float().mean()\n",
    "        self.log(\"val_loss\", loss, prog_bar=True)\n",
    "        self.log(\"val_acc\", acc, prog_bar=True)\n",
    "\n",
    "    def configure_optimizers(self):\n",
    "        return torch.optim.Adam(self.parameters(), lr=1e-3)\n",
    "\n",
    "# DataModule\n",
    "class INatDataModule(pl.LightningDataModule):\n",
    "    def __init__(self, config):\n",
    "        super().__init__()\n",
    "        self.batch_size = 64\n",
    "        self.aug = config.get(\"augmentation\")\n",
    "\n",
    "    def setup(self, stage=None):\n",
    "        mean = [0.4712, 0.4600, 0.3896]\n",
    "        std = [0.2406, 0.2301, 0.2406]\n",
    "        base_transforms = [transforms.Resize((224, 224))]\n",
    "\n",
    "        if self.aug:\n",
    "            base_transforms += [\n",
    "                transforms.RandomHorizontalFlip(),\n",
    "                transforms.RandomRotation(15)\n",
    "            ]\n",
    "\n",
    "        base_transforms += [transforms.ToTensor(), transforms.Normalize(mean, std)]\n",
    "\n",
    "        transform = transforms.Compose(base_transforms)\n",
    "        dataset = ImageFolder(data_dir, transform=transform)\n",
    "        subset = get_balanced_subset(dataset)\n",
    "        val_size = int(0.2 * len(subset))\n",
    "        train_size = len(subset) - val_size\n",
    "        self.train_set, self.val_set = torch.utils.data.random_split(subset, [train_size, val_size])\n",
    "\n",
    "    def train_dataloader(self):\n",
    "        return DataLoader(self.train_set, batch_size=self.batch_size, shuffle=True, num_workers=2)\n",
    "\n",
    "    def val_dataloader(self):\n",
    "        return DataLoader(self.val_set, batch_size=self.batch_size, shuffle=False, num_workers=2)\n",
    "\n",
    "# Training function\n",
    "def train_wandb(config=None):\n",
    "    with wandb.init(config=config):\n",
    "        config = dict(wandb.config)  # Convert to dict to use .get()\n",
    "        run_name = \"_\".join([f\"{k}-{v}\" for k, v in config.items()])\n",
    "        wandb.run.name = run_name\n",
    "\n",
    "        model = FlexibleCNN(config)\n",
    "        datamodule = INatDataModule(config)\n",
    "        wandb_logger = WandbLogger(project=\"inat-sweep-v2\", log_model=False)\n",
    "        early_stop = EarlyStopping(monitor=\"val_acc\", patience=3, mode=\"max\")\n",
    "        trainer = pl.Trainer(max_epochs=10, logger=wandb_logger, accelerator=\"auto\", callbacks=[early_stop])\n",
    "        trainer.fit(model, datamodule=datamodule)\n",
    "\n",
    "# Sweep config with dense_neurons added\n",
    "sweep_config = {\n",
    "    \"method\": \"bayes\",\n",
    "    \"metric\": {\"goal\": \"maximize\", \"name\": \"val_acc\"},\n",
    "    \"parameters\": {\n",
    "        \"base_filter\": {\"values\": [32, 64, 128]},\n",
    "        \"kernel_size\": {\"values\": [3, 5]},\n",
    "        \"activation\": {\"values\": [\"ReLU\", \"GELU\", \"SiLU\", \"Mish\"]},\n",
    "        \"filter_type\": {\"values\": [\"same\", \"double\", \"half\"]},\n",
    "        \"batch_norm\": {\"values\": [True, False]},\n",
    "        \"augmentation\": {\"values\": [True, False]},\n",
    "        \"dropout\": {\"values\": [0, 0.2, 0.3]},\n",
    "        \"dense_neurons\": {\"values\": [128, 256, 512]}  # added this\n",
    "    }\n",
    "}\n",
    "\n",
    "# Start sweep\n",
    "sweep_id = wandb.sweep(sweep_config, project=\"inat-sweep-v2\")\n",
    "wandb.agent(sweep_id, function=train_wandb, count=17)"
   ]
  },
  {
   "cell_type": "code",
   "execution_count": 3,
   "metadata": {
    "colab": {
     "base_uri": "https://localhost:8080/"
    },
    "id": "apfemwf-u09F",
    "outputId": "3165a54d-148f-4ad4-a5d4-b693d841a037"
   },
   "outputs": [
    {
     "name": "stdout",
     "output_type": "stream",
     "text": [
      "Drive already mounted at /content/drive; to attempt to forcibly remount, call drive.mount(\"/content/drive\", force_remount=True).\n",
      "No 'metadata.widgets' found\n",
      "Saved cleaned notebook\n"
     ]
    }
   ],
   "source": [
    "import nbformat\n",
    "from google.colab import drive\n",
    "import os\n",
    "\n",
    "drive.mount('/content/drive')\n",
    "# Path to current notebook\n",
    "notebook_path = '/content/drive/MyDrive/PartA.ipynb'  # Change this!\n",
    "\n",
    "# Load the notebook\n",
    "with open(notebook_path, 'r', encoding='utf-8') as f:\n",
    "    nb = nbformat.read(f, as_version=4)\n",
    "\n",
    "# Remove metadata.widgets\n",
    "if 'widgets' in nb['metadata']:\n",
    "    del nb['metadata']['widgets']\n",
    "    print(\"Removed 'metadata.widgets'\")\n",
    "else:\n",
    "    print(\"No 'metadata.widgets' found\")\n",
    "\n",
    "# Save back to the same file (or change filename)\n",
    "with open(notebook_path, 'w', encoding='utf-8') as f:\n",
    "    nbformat.write(nb, f)\n",
    "    print(\"Saved cleaned notebook\")"
   ]
  }
 ],
 "metadata": {
  "accelerator": "GPU",
  "colab": {
   "gpuType": "T4",
   "provenance": []
  },
  "kernelspec": {
   "display_name": "Python 3",
   "name": "python3"
  },
  "language_info": {
   "name": "python"
  }
 },
 "nbformat": 4,
 "nbformat_minor": 0
}
